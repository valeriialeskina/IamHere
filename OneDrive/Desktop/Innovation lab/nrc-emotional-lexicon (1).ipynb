{
 "cells": [
  {
   "cell_type": "markdown",
   "metadata": {},
   "source": [
    "# NRC Emotional Lexicon\n",
    "\n",
    "This is the [NRC Emotional Lexicon](http://saifmohammad.com/WebPages/NRC-Emotion-Lexicon.htm): \"The NRC Emotion Lexicon is a list of English words and their associations with eight basic emotions (anger, fear, anticipation, trust, surprise, sadness, joy, and disgust) and two sentiments (negative and positive). The annotations were manually done by crowdsourcing.\"\n",
    "\n",
    "http://saifmohammad.com/WebPages/NRC-Emotion-Lexicon.htm"
   ]
  },
  {
   "cell_type": "code",
   "execution_count": 65,
   "metadata": {},
   "outputs": [],
   "source": [
    "import pandas as pd\n",
    "from nrclex import NRCLex"
   ]
  },
  {
   "cell_type": "code",
   "execution_count": 17,
   "metadata": {},
   "outputs": [
    {
     "data": {
      "text/html": [
       "<div>\n",
       "<style scoped>\n",
       "    .dataframe tbody tr th:only-of-type {\n",
       "        vertical-align: middle;\n",
       "    }\n",
       "\n",
       "    .dataframe tbody tr th {\n",
       "        vertical-align: top;\n",
       "    }\n",
       "\n",
       "    .dataframe thead th {\n",
       "        text-align: right;\n",
       "    }\n",
       "</style>\n",
       "<table border=\"1\" class=\"dataframe\">\n",
       "  <thead>\n",
       "    <tr style=\"text-align: right;\">\n",
       "      <th></th>\n",
       "      <th>word</th>\n",
       "      <th>emotion</th>\n",
       "      <th>association</th>\n",
       "    </tr>\n",
       "  </thead>\n",
       "  <tbody>\n",
       "    <tr>\n",
       "      <th>0</th>\n",
       "      <td>aback</td>\n",
       "      <td>anger</td>\n",
       "      <td>0</td>\n",
       "    </tr>\n",
       "    <tr>\n",
       "      <th>1</th>\n",
       "      <td>aback</td>\n",
       "      <td>anticipation</td>\n",
       "      <td>0</td>\n",
       "    </tr>\n",
       "    <tr>\n",
       "      <th>2</th>\n",
       "      <td>aback</td>\n",
       "      <td>disgust</td>\n",
       "      <td>0</td>\n",
       "    </tr>\n",
       "    <tr>\n",
       "      <th>3</th>\n",
       "      <td>aback</td>\n",
       "      <td>fear</td>\n",
       "      <td>0</td>\n",
       "    </tr>\n",
       "    <tr>\n",
       "      <th>4</th>\n",
       "      <td>aback</td>\n",
       "      <td>joy</td>\n",
       "      <td>0</td>\n",
       "    </tr>\n",
       "    <tr>\n",
       "      <th>5</th>\n",
       "      <td>aback</td>\n",
       "      <td>negative</td>\n",
       "      <td>0</td>\n",
       "    </tr>\n",
       "    <tr>\n",
       "      <th>6</th>\n",
       "      <td>aback</td>\n",
       "      <td>positive</td>\n",
       "      <td>0</td>\n",
       "    </tr>\n",
       "    <tr>\n",
       "      <th>7</th>\n",
       "      <td>aback</td>\n",
       "      <td>sadness</td>\n",
       "      <td>0</td>\n",
       "    </tr>\n",
       "    <tr>\n",
       "      <th>8</th>\n",
       "      <td>aback</td>\n",
       "      <td>surprise</td>\n",
       "      <td>0</td>\n",
       "    </tr>\n",
       "    <tr>\n",
       "      <th>9</th>\n",
       "      <td>aback</td>\n",
       "      <td>trust</td>\n",
       "      <td>0</td>\n",
       "    </tr>\n",
       "    <tr>\n",
       "      <th>10</th>\n",
       "      <td>abacus</td>\n",
       "      <td>anger</td>\n",
       "      <td>0</td>\n",
       "    </tr>\n",
       "    <tr>\n",
       "      <th>11</th>\n",
       "      <td>abacus</td>\n",
       "      <td>anticipation</td>\n",
       "      <td>0</td>\n",
       "    </tr>\n",
       "  </tbody>\n",
       "</table>\n",
       "</div>"
      ],
      "text/plain": [
       "      word       emotion  association\n",
       "0    aback         anger            0\n",
       "1    aback  anticipation            0\n",
       "2    aback       disgust            0\n",
       "3    aback          fear            0\n",
       "4    aback           joy            0\n",
       "5    aback      negative            0\n",
       "6    aback      positive            0\n",
       "7    aback       sadness            0\n",
       "8    aback      surprise            0\n",
       "9    aback         trust            0\n",
       "10  abacus         anger            0\n",
       "11  abacus  anticipation            0"
      ]
     },
     "execution_count": 17,
     "metadata": {},
     "output_type": "execute_result"
    }
   ],
   "source": [
    "filepath = r\"C:\\Users\\nitis\\OneDrive\\Desktop\\Innovation lab\\dictionary.txt\"\n",
    "emolex_df = pd.read_csv(filepath,  names=[\"word\", \"emotion\", \"association\"], skiprows=45, sep='\\t', keep_default_na=False)\n",
    "emolex_df.head(12)"
   ]
  },
  {
   "cell_type": "markdown",
   "metadata": {},
   "source": [
    "Seems kind of simple. A column for a word, a column for an emotion, and whether it't associated or not. You see \"aback aback aback aback\" because there's a row for every word-emotion pair."
   ]
  },
  {
   "cell_type": "markdown",
   "metadata": {},
   "source": [
    "## What emotions are covered?\n",
    "\n",
    "Let's look at the 'emotion' column. What can we talk about?"
   ]
  },
  {
   "cell_type": "code",
   "execution_count": 18,
   "metadata": {},
   "outputs": [
    {
     "data": {
      "text/plain": [
       "array(['anger', 'anticipation', 'disgust', 'fear', 'joy', 'negative',\n",
       "       'positive', 'sadness', 'surprise', 'trust'], dtype=object)"
      ]
     },
     "execution_count": 18,
     "metadata": {},
     "output_type": "execute_result"
    }
   ],
   "source": [
    "emolex_df.emotion.unique()"
   ]
  },
  {
   "cell_type": "code",
   "execution_count": 19,
   "metadata": {},
   "outputs": [
    {
     "data": {
      "text/plain": [
       "positive        14182\n",
       "negative        14182\n",
       "disgust         14182\n",
       "anger           14182\n",
       "anticipation    14182\n",
       "joy             14182\n",
       "surprise        14182\n",
       "fear            14182\n",
       "sadness         14182\n",
       "trust           14182\n",
       "Name: emotion, dtype: int64"
      ]
     },
     "execution_count": 19,
     "metadata": {},
     "output_type": "execute_result"
    }
   ],
   "source": [
    "emolex_df.emotion.value_counts()"
   ]
  },
  {
   "cell_type": "markdown",
   "metadata": {},
   "source": [
    "## How many words does each emotion have?\n",
    "\n",
    "Each emotion doesn't have 14182 words associated with it, unfortunately! `1` means \"is associated\" and `0` means \"is not associated.\"\n",
    "\n",
    "We're only going to care about \"is associated.\""
   ]
  },
  {
   "cell_type": "code",
   "execution_count": 20,
   "metadata": {},
   "outputs": [
    {
     "data": {
      "text/plain": [
       "negative        3324\n",
       "positive        2312\n",
       "fear            1476\n",
       "anger           1247\n",
       "trust           1231\n",
       "sadness         1191\n",
       "disgust         1058\n",
       "anticipation     839\n",
       "joy              689\n",
       "surprise         534\n",
       "Name: emotion, dtype: int64"
      ]
     },
     "execution_count": 20,
     "metadata": {},
     "output_type": "execute_result"
    }
   ],
   "source": [
    "emolex_df[emolex_df.association == 1].emotion.value_counts()"
   ]
  },
  {
   "cell_type": "markdown",
   "metadata": {},
   "source": [
    "In theory things could be *kind of* angry or *kind of* joyous, but it doesn't work like that. If you want to spend a few hundred dollars on Mechnical Turk, though, *your own personal version can.*"
   ]
  },
  {
   "cell_type": "markdown",
   "metadata": {},
   "source": [
    "## What if I just want the angry words?"
   ]
  },
  {
   "cell_type": "code",
   "execution_count": 21,
   "metadata": {},
   "outputs": [
    {
     "data": {
      "text/plain": [
       "30          abandoned\n",
       "40        abandonment\n",
       "170             abhor\n",
       "180         abhorrent\n",
       "270           abolish\n",
       "             ...     \n",
       "141220       wrongful\n",
       "141230        wrongly\n",
       "141470           yell\n",
       "141500           yelp\n",
       "141640          youth\n",
       "Name: word, Length: 1247, dtype: object"
      ]
     },
     "execution_count": 21,
     "metadata": {},
     "output_type": "execute_result"
    }
   ],
   "source": [
    "emolex_df[(emolex_df.association == 1) & (emolex_df.emotion == 'anger')].word"
   ]
  },
  {
   "cell_type": "markdown",
   "metadata": {},
   "source": [
    "## Reshaping\n",
    "\n",
    "You can also reshape the data in order to look at it a slightly different way"
   ]
  },
  {
   "cell_type": "code",
   "execution_count": 22,
   "metadata": {},
   "outputs": [
    {
     "data": {
      "text/html": [
       "<div>\n",
       "<style scoped>\n",
       "    .dataframe tbody tr th:only-of-type {\n",
       "        vertical-align: middle;\n",
       "    }\n",
       "\n",
       "    .dataframe tbody tr th {\n",
       "        vertical-align: top;\n",
       "    }\n",
       "\n",
       "    .dataframe thead th {\n",
       "        text-align: right;\n",
       "    }\n",
       "</style>\n",
       "<table border=\"1\" class=\"dataframe\">\n",
       "  <thead>\n",
       "    <tr style=\"text-align: right;\">\n",
       "      <th>emotion</th>\n",
       "      <th>word</th>\n",
       "      <th>anger</th>\n",
       "      <th>anticipation</th>\n",
       "      <th>disgust</th>\n",
       "      <th>fear</th>\n",
       "      <th>joy</th>\n",
       "      <th>negative</th>\n",
       "      <th>positive</th>\n",
       "      <th>sadness</th>\n",
       "      <th>surprise</th>\n",
       "      <th>trust</th>\n",
       "    </tr>\n",
       "  </thead>\n",
       "  <tbody>\n",
       "    <tr>\n",
       "      <th>0</th>\n",
       "      <td>aback</td>\n",
       "      <td>0</td>\n",
       "      <td>0</td>\n",
       "      <td>0</td>\n",
       "      <td>0</td>\n",
       "      <td>0</td>\n",
       "      <td>0</td>\n",
       "      <td>0</td>\n",
       "      <td>0</td>\n",
       "      <td>0</td>\n",
       "      <td>0</td>\n",
       "    </tr>\n",
       "    <tr>\n",
       "      <th>1</th>\n",
       "      <td>abacus</td>\n",
       "      <td>0</td>\n",
       "      <td>0</td>\n",
       "      <td>0</td>\n",
       "      <td>0</td>\n",
       "      <td>0</td>\n",
       "      <td>0</td>\n",
       "      <td>0</td>\n",
       "      <td>0</td>\n",
       "      <td>0</td>\n",
       "      <td>1</td>\n",
       "    </tr>\n",
       "    <tr>\n",
       "      <th>2</th>\n",
       "      <td>abandon</td>\n",
       "      <td>0</td>\n",
       "      <td>0</td>\n",
       "      <td>0</td>\n",
       "      <td>1</td>\n",
       "      <td>0</td>\n",
       "      <td>1</td>\n",
       "      <td>0</td>\n",
       "      <td>1</td>\n",
       "      <td>0</td>\n",
       "      <td>0</td>\n",
       "    </tr>\n",
       "    <tr>\n",
       "      <th>3</th>\n",
       "      <td>abandoned</td>\n",
       "      <td>1</td>\n",
       "      <td>0</td>\n",
       "      <td>0</td>\n",
       "      <td>1</td>\n",
       "      <td>0</td>\n",
       "      <td>1</td>\n",
       "      <td>0</td>\n",
       "      <td>1</td>\n",
       "      <td>0</td>\n",
       "      <td>0</td>\n",
       "    </tr>\n",
       "    <tr>\n",
       "      <th>4</th>\n",
       "      <td>abandonment</td>\n",
       "      <td>1</td>\n",
       "      <td>0</td>\n",
       "      <td>0</td>\n",
       "      <td>1</td>\n",
       "      <td>0</td>\n",
       "      <td>1</td>\n",
       "      <td>0</td>\n",
       "      <td>1</td>\n",
       "      <td>1</td>\n",
       "      <td>0</td>\n",
       "    </tr>\n",
       "  </tbody>\n",
       "</table>\n",
       "</div>"
      ],
      "text/plain": [
       "emotion         word  anger  anticipation  disgust  fear  joy  negative  \\\n",
       "0              aback      0             0        0     0    0         0   \n",
       "1             abacus      0             0        0     0    0         0   \n",
       "2            abandon      0             0        0     1    0         1   \n",
       "3          abandoned      1             0        0     1    0         1   \n",
       "4        abandonment      1             0        0     1    0         1   \n",
       "\n",
       "emotion  positive  sadness  surprise  trust  \n",
       "0               0        0         0      0  \n",
       "1               0        0         0      1  \n",
       "2               0        1         0      0  \n",
       "3               0        1         0      0  \n",
       "4               0        1         1      0  "
      ]
     },
     "execution_count": 22,
     "metadata": {},
     "output_type": "execute_result"
    }
   ],
   "source": [
    "emolex_words = emolex_df.pivot(index='word', columns='emotion', values='association').reset_index()\n",
    "emolex_words.head()"
   ]
  },
  {
   "cell_type": "markdown",
   "metadata": {},
   "source": [
    "You can now pull out individual words..."
   ]
  },
  {
   "cell_type": "code",
   "execution_count": 23,
   "metadata": {},
   "outputs": [
    {
     "data": {
      "text/html": [
       "<div>\n",
       "<style scoped>\n",
       "    .dataframe tbody tr th:only-of-type {\n",
       "        vertical-align: middle;\n",
       "    }\n",
       "\n",
       "    .dataframe tbody tr th {\n",
       "        vertical-align: top;\n",
       "    }\n",
       "\n",
       "    .dataframe thead th {\n",
       "        text-align: right;\n",
       "    }\n",
       "</style>\n",
       "<table border=\"1\" class=\"dataframe\">\n",
       "  <thead>\n",
       "    <tr style=\"text-align: right;\">\n",
       "      <th>emotion</th>\n",
       "      <th>word</th>\n",
       "      <th>anger</th>\n",
       "      <th>anticipation</th>\n",
       "      <th>disgust</th>\n",
       "      <th>fear</th>\n",
       "      <th>joy</th>\n",
       "      <th>negative</th>\n",
       "      <th>positive</th>\n",
       "      <th>sadness</th>\n",
       "      <th>surprise</th>\n",
       "      <th>trust</th>\n",
       "    </tr>\n",
       "  </thead>\n",
       "  <tbody>\n",
       "    <tr>\n",
       "      <th>2001</th>\n",
       "      <td>charitable</td>\n",
       "      <td>0</td>\n",
       "      <td>1</td>\n",
       "      <td>0</td>\n",
       "      <td>0</td>\n",
       "      <td>1</td>\n",
       "      <td>0</td>\n",
       "      <td>1</td>\n",
       "      <td>0</td>\n",
       "      <td>0</td>\n",
       "      <td>1</td>\n",
       "    </tr>\n",
       "  </tbody>\n",
       "</table>\n",
       "</div>"
      ],
      "text/plain": [
       "emotion        word  anger  anticipation  disgust  fear  joy  negative  \\\n",
       "2001     charitable      0             1        0     0    1         0   \n",
       "\n",
       "emotion  positive  sadness  surprise  trust  \n",
       "2001            1        0         0      1  "
      ]
     },
     "execution_count": 23,
     "metadata": {},
     "output_type": "execute_result"
    }
   ],
   "source": [
    "# If you didn't reset_index you could do this more easily\n",
    "# by doing emolex_words.loc['charitable']\n",
    "emolex_words[emolex_words.word == 'charitable']"
   ]
  },
  {
   "cell_type": "markdown",
   "metadata": {},
   "source": [
    "...or individual emotions...."
   ]
  },
  {
   "cell_type": "code",
   "execution_count": 24,
   "metadata": {},
   "outputs": [
    {
     "data": {
      "text/html": [
       "<div>\n",
       "<style scoped>\n",
       "    .dataframe tbody tr th:only-of-type {\n",
       "        vertical-align: middle;\n",
       "    }\n",
       "\n",
       "    .dataframe tbody tr th {\n",
       "        vertical-align: top;\n",
       "    }\n",
       "\n",
       "    .dataframe thead th {\n",
       "        text-align: right;\n",
       "    }\n",
       "</style>\n",
       "<table border=\"1\" class=\"dataframe\">\n",
       "  <thead>\n",
       "    <tr style=\"text-align: right;\">\n",
       "      <th>emotion</th>\n",
       "      <th>word</th>\n",
       "      <th>anger</th>\n",
       "      <th>anticipation</th>\n",
       "      <th>disgust</th>\n",
       "      <th>fear</th>\n",
       "      <th>joy</th>\n",
       "      <th>negative</th>\n",
       "      <th>positive</th>\n",
       "      <th>sadness</th>\n",
       "      <th>surprise</th>\n",
       "      <th>trust</th>\n",
       "    </tr>\n",
       "  </thead>\n",
       "  <tbody>\n",
       "    <tr>\n",
       "      <th>3</th>\n",
       "      <td>abandoned</td>\n",
       "      <td>1</td>\n",
       "      <td>0</td>\n",
       "      <td>0</td>\n",
       "      <td>1</td>\n",
       "      <td>0</td>\n",
       "      <td>1</td>\n",
       "      <td>0</td>\n",
       "      <td>1</td>\n",
       "      <td>0</td>\n",
       "      <td>0</td>\n",
       "    </tr>\n",
       "    <tr>\n",
       "      <th>4</th>\n",
       "      <td>abandonment</td>\n",
       "      <td>1</td>\n",
       "      <td>0</td>\n",
       "      <td>0</td>\n",
       "      <td>1</td>\n",
       "      <td>0</td>\n",
       "      <td>1</td>\n",
       "      <td>0</td>\n",
       "      <td>1</td>\n",
       "      <td>1</td>\n",
       "      <td>0</td>\n",
       "    </tr>\n",
       "    <tr>\n",
       "      <th>17</th>\n",
       "      <td>abhor</td>\n",
       "      <td>1</td>\n",
       "      <td>0</td>\n",
       "      <td>1</td>\n",
       "      <td>1</td>\n",
       "      <td>0</td>\n",
       "      <td>1</td>\n",
       "      <td>0</td>\n",
       "      <td>0</td>\n",
       "      <td>0</td>\n",
       "      <td>0</td>\n",
       "    </tr>\n",
       "    <tr>\n",
       "      <th>18</th>\n",
       "      <td>abhorrent</td>\n",
       "      <td>1</td>\n",
       "      <td>0</td>\n",
       "      <td>1</td>\n",
       "      <td>1</td>\n",
       "      <td>0</td>\n",
       "      <td>1</td>\n",
       "      <td>0</td>\n",
       "      <td>0</td>\n",
       "      <td>0</td>\n",
       "      <td>0</td>\n",
       "    </tr>\n",
       "    <tr>\n",
       "      <th>27</th>\n",
       "      <td>abolish</td>\n",
       "      <td>1</td>\n",
       "      <td>0</td>\n",
       "      <td>0</td>\n",
       "      <td>0</td>\n",
       "      <td>0</td>\n",
       "      <td>1</td>\n",
       "      <td>0</td>\n",
       "      <td>0</td>\n",
       "      <td>0</td>\n",
       "      <td>0</td>\n",
       "    </tr>\n",
       "  </tbody>\n",
       "</table>\n",
       "</div>"
      ],
      "text/plain": [
       "emotion         word  anger  anticipation  disgust  fear  joy  negative  \\\n",
       "3          abandoned      1             0        0     1    0         1   \n",
       "4        abandonment      1             0        0     1    0         1   \n",
       "17             abhor      1             0        1     1    0         1   \n",
       "18         abhorrent      1             0        1     1    0         1   \n",
       "27           abolish      1             0        0     0    0         1   \n",
       "\n",
       "emotion  positive  sadness  surprise  trust  \n",
       "3               0        1         0      0  \n",
       "4               0        1         1      0  \n",
       "17              0        0         0      0  \n",
       "18              0        0         0      0  \n",
       "27              0        0         0      0  "
      ]
     },
     "execution_count": 24,
     "metadata": {},
     "output_type": "execute_result"
    }
   ],
   "source": [
    "emolex_words[emolex_words.anger == 1].head()"
   ]
  },
  {
   "cell_type": "markdown",
   "metadata": {},
   "source": [
    "...or multiple emotions!"
   ]
  },
  {
   "cell_type": "code",
   "execution_count": 25,
   "metadata": {},
   "outputs": [
    {
     "data": {
      "text/html": [
       "<div>\n",
       "<style scoped>\n",
       "    .dataframe tbody tr th:only-of-type {\n",
       "        vertical-align: middle;\n",
       "    }\n",
       "\n",
       "    .dataframe tbody tr th {\n",
       "        vertical-align: top;\n",
       "    }\n",
       "\n",
       "    .dataframe thead th {\n",
       "        text-align: right;\n",
       "    }\n",
       "</style>\n",
       "<table border=\"1\" class=\"dataframe\">\n",
       "  <thead>\n",
       "    <tr style=\"text-align: right;\">\n",
       "      <th>emotion</th>\n",
       "      <th>word</th>\n",
       "      <th>anger</th>\n",
       "      <th>anticipation</th>\n",
       "      <th>disgust</th>\n",
       "      <th>fear</th>\n",
       "      <th>joy</th>\n",
       "      <th>negative</th>\n",
       "      <th>positive</th>\n",
       "      <th>sadness</th>\n",
       "      <th>surprise</th>\n",
       "      <th>trust</th>\n",
       "    </tr>\n",
       "  </thead>\n",
       "  <tbody>\n",
       "    <tr>\n",
       "      <th>61</th>\n",
       "      <td>abundance</td>\n",
       "      <td>0</td>\n",
       "      <td>1</td>\n",
       "      <td>1</td>\n",
       "      <td>0</td>\n",
       "      <td>1</td>\n",
       "      <td>1</td>\n",
       "      <td>1</td>\n",
       "      <td>0</td>\n",
       "      <td>0</td>\n",
       "      <td>1</td>\n",
       "    </tr>\n",
       "    <tr>\n",
       "      <th>1018</th>\n",
       "      <td>balm</td>\n",
       "      <td>0</td>\n",
       "      <td>1</td>\n",
       "      <td>0</td>\n",
       "      <td>0</td>\n",
       "      <td>1</td>\n",
       "      <td>1</td>\n",
       "      <td>1</td>\n",
       "      <td>0</td>\n",
       "      <td>0</td>\n",
       "      <td>0</td>\n",
       "    </tr>\n",
       "    <tr>\n",
       "      <th>1382</th>\n",
       "      <td>boisterous</td>\n",
       "      <td>1</td>\n",
       "      <td>1</td>\n",
       "      <td>0</td>\n",
       "      <td>0</td>\n",
       "      <td>1</td>\n",
       "      <td>1</td>\n",
       "      <td>1</td>\n",
       "      <td>0</td>\n",
       "      <td>0</td>\n",
       "      <td>0</td>\n",
       "    </tr>\n",
       "    <tr>\n",
       "      <th>1916</th>\n",
       "      <td>celebrity</td>\n",
       "      <td>1</td>\n",
       "      <td>1</td>\n",
       "      <td>1</td>\n",
       "      <td>0</td>\n",
       "      <td>1</td>\n",
       "      <td>1</td>\n",
       "      <td>1</td>\n",
       "      <td>0</td>\n",
       "      <td>1</td>\n",
       "      <td>1</td>\n",
       "    </tr>\n",
       "    <tr>\n",
       "      <th>2004</th>\n",
       "      <td>charmed</td>\n",
       "      <td>0</td>\n",
       "      <td>0</td>\n",
       "      <td>0</td>\n",
       "      <td>0</td>\n",
       "      <td>1</td>\n",
       "      <td>1</td>\n",
       "      <td>1</td>\n",
       "      <td>0</td>\n",
       "      <td>0</td>\n",
       "      <td>0</td>\n",
       "    </tr>\n",
       "  </tbody>\n",
       "</table>\n",
       "</div>"
      ],
      "text/plain": [
       "emotion        word  anger  anticipation  disgust  fear  joy  negative  \\\n",
       "61        abundance      0             1        1     0    1         1   \n",
       "1018           balm      0             1        0     0    1         1   \n",
       "1382     boisterous      1             1        0     0    1         1   \n",
       "1916      celebrity      1             1        1     0    1         1   \n",
       "2004        charmed      0             0        0     0    1         1   \n",
       "\n",
       "emotion  positive  sadness  surprise  trust  \n",
       "61              1        0         0      1  \n",
       "1018            1        0         0      0  \n",
       "1382            1        0         0      0  \n",
       "1916            1        0         1      1  \n",
       "2004            1        0         0      0  "
      ]
     },
     "execution_count": 25,
     "metadata": {},
     "output_type": "execute_result"
    }
   ],
   "source": [
    "emolex_words[(emolex_words.joy == 1) & (emolex_words.negative == 1)].head()"
   ]
  },
  {
   "cell_type": "markdown",
   "metadata": {},
   "source": [
    "The useful part is going to be just getting words for a **single emotion.**"
   ]
  },
  {
   "cell_type": "code",
   "execution_count": 26,
   "metadata": {},
   "outputs": [
    {
     "data": {
      "text/plain": [
       "3          abandoned\n",
       "4        abandonment\n",
       "17             abhor\n",
       "18         abhorrent\n",
       "27           abolish\n",
       "            ...     \n",
       "14122       wrongful\n",
       "14123        wrongly\n",
       "14147           yell\n",
       "14150           yelp\n",
       "14164          youth\n",
       "Name: word, Length: 1247, dtype: object"
      ]
     },
     "execution_count": 26,
     "metadata": {},
     "output_type": "execute_result"
    }
   ],
   "source": [
    "# Angry words\n",
    "emolex_words[emolex_words.anger == 1].word"
   ]
  },
  {
   "cell_type": "markdown",
   "metadata": {},
   "source": [
    "# NRC LExion pakage "
   ]
  },
  {
   "cell_type": "code",
   "execution_count": 70,
   "metadata": {},
   "outputs": [
    {
     "data": {
      "text/plain": [
       "'he Lake Waikaremoana Track is one of three Great Walks in New Zealandâ€™s North Island. These Great Walks are hiking tracks, deemed to showcase some of the best natural landscapes in the country, with the trails and accommodation maintained to a far higher standard than your typical backcountry hut.\\n\\nLake Waikaremoana is one of the lesser-walked tracks, especially in comparison to the big hitters down in the South Island, which get booked out months in advance. And sure, Lake Waikaremoana doesnâ€™t have those snow-capped mountains and pristine golden-sand beaches, but its scenery is impressive nonetheless. And the lack of crowds allow you to truly disconnect and immerse yourself in this spiritual destination.\\n\\nI loved walking the Lake Waikaremoana Track and highly recommend it as a multi-day adventure in New Zealand. Today, Iâ€™m going to be sharing absolutely everything you need to know about preparing for and tackling this fantastic walk.\\n\\nLetâ€™s get started. '"
      ]
     },
     "execution_count": 70,
     "metadata": {},
     "output_type": "execute_result"
    }
   ],
   "source": [
    "f = open(r\"C:\\Users\\nitis\\OneDrive\\Desktop\\Innovation lab\\data1.txt\")\n",
    "text =(f.read()) \n",
    "text"
   ]
  },
  {
   "cell_type": "code",
   "execution_count": 73,
   "metadata": {},
   "outputs": [],
   "source": [
    "#https://pypi.org/project/NRCLex/\n",
    "text_object = NRCLex(text)"
   ]
  },
  {
   "cell_type": "code",
   "execution_count": 74,
   "metadata": {},
   "outputs": [
    {
     "data": {
      "text/plain": [
       "['he',\n",
       " 'Lake',\n",
       " 'Waikaremoana',\n",
       " 'Track',\n",
       " 'is',\n",
       " 'one',\n",
       " 'of',\n",
       " 'three',\n",
       " 'Great',\n",
       " 'Walks',\n",
       " 'in',\n",
       " 'New',\n",
       " 'Zealandâ€™s',\n",
       " 'North',\n",
       " 'Island',\n",
       " 'These',\n",
       " 'Great',\n",
       " 'Walks',\n",
       " 'are',\n",
       " 'hiking',\n",
       " 'tracks',\n",
       " 'deemed',\n",
       " 'to',\n",
       " 'showcase',\n",
       " 'some',\n",
       " 'of',\n",
       " 'the',\n",
       " 'best',\n",
       " 'natural',\n",
       " 'landscapes',\n",
       " 'in',\n",
       " 'the',\n",
       " 'country',\n",
       " 'with',\n",
       " 'the',\n",
       " 'trails',\n",
       " 'and',\n",
       " 'accommodation',\n",
       " 'maintained',\n",
       " 'to',\n",
       " 'a',\n",
       " 'far',\n",
       " 'higher',\n",
       " 'standard',\n",
       " 'than',\n",
       " 'your',\n",
       " 'typical',\n",
       " 'backcountry',\n",
       " 'hut',\n",
       " 'Lake',\n",
       " 'Waikaremoana',\n",
       " 'is',\n",
       " 'one',\n",
       " 'of',\n",
       " 'the',\n",
       " 'lesser-walked',\n",
       " 'tracks',\n",
       " 'especially',\n",
       " 'in',\n",
       " 'comparison',\n",
       " 'to',\n",
       " 'the',\n",
       " 'big',\n",
       " 'hitters',\n",
       " 'down',\n",
       " 'in',\n",
       " 'the',\n",
       " 'South',\n",
       " 'Island',\n",
       " 'which',\n",
       " 'get',\n",
       " 'booked',\n",
       " 'out',\n",
       " 'months',\n",
       " 'in',\n",
       " 'advance',\n",
       " 'And',\n",
       " 'sure',\n",
       " 'Lake',\n",
       " 'Waikaremoana',\n",
       " 'doesnâ€™t',\n",
       " 'have',\n",
       " 'those',\n",
       " 'snow-capped',\n",
       " 'mountains',\n",
       " 'and',\n",
       " 'pristine',\n",
       " 'golden-sand',\n",
       " 'beaches',\n",
       " 'but',\n",
       " 'its',\n",
       " 'scenery',\n",
       " 'is',\n",
       " 'impressive',\n",
       " 'nonetheless',\n",
       " 'And',\n",
       " 'the',\n",
       " 'lack',\n",
       " 'of',\n",
       " 'crowds',\n",
       " 'allow',\n",
       " 'you',\n",
       " 'to',\n",
       " 'truly',\n",
       " 'disconnect',\n",
       " 'and',\n",
       " 'immerse',\n",
       " 'yourself',\n",
       " 'in',\n",
       " 'this',\n",
       " 'spiritual',\n",
       " 'destination',\n",
       " 'I',\n",
       " 'loved',\n",
       " 'walking',\n",
       " 'the',\n",
       " 'Lake',\n",
       " 'Waikaremoana',\n",
       " 'Track',\n",
       " 'and',\n",
       " 'highly',\n",
       " 'recommend',\n",
       " 'it',\n",
       " 'as',\n",
       " 'a',\n",
       " 'multi-day',\n",
       " 'adventure',\n",
       " 'in',\n",
       " 'New',\n",
       " 'Zealand',\n",
       " 'Today',\n",
       " 'Iâ€™m',\n",
       " 'going',\n",
       " 'to',\n",
       " 'be',\n",
       " 'sharing',\n",
       " 'absolutely',\n",
       " 'everything',\n",
       " 'you',\n",
       " 'need',\n",
       " 'to',\n",
       " 'know',\n",
       " 'about',\n",
       " 'preparing',\n",
       " 'for',\n",
       " 'and',\n",
       " 'tackling',\n",
       " 'this',\n",
       " 'fantastic',\n",
       " 'walk',\n",
       " 'Letâ€™s',\n",
       " 'get',\n",
       " 'started']"
      ]
     },
     "execution_count": 74,
     "metadata": {},
     "output_type": "execute_result"
    }
   ],
   "source": [
    "#return words list\n",
    "text_object.words"
   ]
  },
  {
   "cell_type": "code",
   "execution_count": 75,
   "metadata": {},
   "outputs": [
    {
     "data": {
      "text/plain": [
       "[Sentence(\"he Lake Waikaremoana Track is one of three Great Walks in New Zealandâ€™s North Island.\"),\n",
       " Sentence(\"These Great Walks are hiking tracks, deemed to showcase some of the best natural landscapes in the country, with the trails and accommodation maintained to a far higher standard than your typical backcountry hut.\"),\n",
       " Sentence(\"Lake Waikaremoana is one of the lesser-walked tracks, especially in comparison to the big hitters down in the South Island, which get booked out months in advance.\"),\n",
       " Sentence(\"And sure, Lake Waikaremoana doesnâ€™t have those snow-capped mountains and pristine golden-sand beaches, but its scenery is impressive nonetheless.\"),\n",
       " Sentence(\"And the lack of crowds allow you to truly disconnect and immerse yourself in this spiritual destination.\"),\n",
       " Sentence(\"I loved walking the Lake Waikaremoana Track and highly recommend it as a multi-day adventure in New Zealand.\"),\n",
       " Sentence(\"Today, Iâ€™m going to be sharing absolutely everything you need to know about preparing for and tackling this fantastic walk.\"),\n",
       " Sentence(\"Letâ€™s get started.\")]"
      ]
     },
     "execution_count": 75,
     "metadata": {},
     "output_type": "execute_result"
    }
   ],
   "source": [
    "#return sentences list\n",
    "text_object.sentences"
   ]
  },
  {
   "cell_type": "code",
   "execution_count": 76,
   "metadata": {},
   "outputs": [
    {
     "data": {
      "text/plain": [
       "['positive',\n",
       " 'positive',\n",
       " 'sadness',\n",
       " 'anticipation',\n",
       " 'fear',\n",
       " 'joy',\n",
       " 'positive',\n",
       " 'surprise',\n",
       " 'positive',\n",
       " 'negative',\n",
       " 'negative',\n",
       " 'sadness',\n",
       " 'anticipation',\n",
       " 'fear',\n",
       " 'joy',\n",
       " 'positive',\n",
       " 'surprise',\n",
       " 'trust',\n",
       " 'anticipation',\n",
       " 'fear',\n",
       " 'joy',\n",
       " 'positive',\n",
       " 'sadness',\n",
       " 'surprise',\n",
       " 'positive',\n",
       " 'trust',\n",
       " 'anticipation',\n",
       " 'positive']"
      ]
     },
     "execution_count": 76,
     "metadata": {},
     "output_type": "execute_result"
    }
   ],
   "source": [
    "#return affect list\n",
    "text_object.affect_list"
   ]
  },
  {
   "cell_type": "code",
   "execution_count": 77,
   "metadata": {},
   "outputs": [
    {
     "data": {
      "text/plain": [
       "{'accommodation': ['positive'],\n",
       " 'hut': ['positive', 'sadness'],\n",
       " 'advance': ['anticipation', 'fear', 'joy', 'positive', 'surprise'],\n",
       " 'pristine': ['positive'],\n",
       " 'lack': ['negative'],\n",
       " 'disconnect': ['negative', 'sadness'],\n",
       " 'immerse': ['anticipation', 'fear', 'joy', 'positive', 'surprise', 'trust'],\n",
       " 'destination': ['anticipation',\n",
       "  'fear',\n",
       "  'joy',\n",
       "  'positive',\n",
       "  'sadness',\n",
       "  'surprise'],\n",
       " 'recommend': ['positive', 'trust'],\n",
       " 'adventure': ['anticipation', 'positive']}"
      ]
     },
     "execution_count": 77,
     "metadata": {},
     "output_type": "execute_result"
    }
   ],
   "source": [
    "# return affect dictionary\n",
    "text_object.affect_dict"
   ]
  },
  {
   "cell_type": "code",
   "execution_count": 78,
   "metadata": {},
   "outputs": [
    {
     "data": {
      "text/plain": [
       "{'positive': 8,\n",
       " 'sadness': 3,\n",
       " 'anticipation': 4,\n",
       " 'fear': 3,\n",
       " 'joy': 3,\n",
       " 'surprise': 3,\n",
       " 'negative': 2,\n",
       " 'trust': 2}"
      ]
     },
     "execution_count": 78,
     "metadata": {},
     "output_type": "execute_result"
    }
   ],
   "source": [
    "##Return raw emotional counts\n",
    "text_object.raw_emotion_scores\n"
   ]
  },
  {
   "cell_type": "code",
   "execution_count": 79,
   "metadata": {},
   "outputs": [
    {
     "data": {
      "text/plain": [
       "[('positive', 0.2857142857142857)]"
      ]
     },
     "execution_count": 79,
     "metadata": {},
     "output_type": "execute_result"
    }
   ],
   "source": [
    "#return highest emotions\n",
    "text_object.top_emotions"
   ]
  },
  {
   "cell_type": "code",
   "execution_count": 80,
   "metadata": {},
   "outputs": [
    {
     "data": {
      "text/plain": [
       "{'fear': 0.10714285714285714,\n",
       " 'anger': 0.0,\n",
       " 'anticip': 0.0,\n",
       " 'trust': 0.07142857142857142,\n",
       " 'surprise': 0.10714285714285714,\n",
       " 'positive': 0.2857142857142857,\n",
       " 'negative': 0.07142857142857142,\n",
       " 'sadness': 0.10714285714285714,\n",
       " 'disgust': 0.0,\n",
       " 'joy': 0.10714285714285714,\n",
       " 'anticipation': 0.14285714285714285}"
      ]
     },
     "execution_count": 80,
     "metadata": {},
     "output_type": "execute_result"
    }
   ],
   "source": [
    "#return affect frequescies\n",
    "text_object.affect_frequencies"
   ]
  },
  {
   "cell_type": "code",
   "execution_count": null,
   "metadata": {},
   "outputs": [],
   "source": []
  },
  {
   "cell_type": "code",
   "execution_count": null,
   "metadata": {},
   "outputs": [],
   "source": []
  }
 ],
 "metadata": {
  "kernelspec": {
   "display_name": "Python 3",
   "language": "python",
   "name": "python3"
  },
  "language_info": {
   "codemirror_mode": {
    "name": "ipython",
    "version": 3
   },
   "file_extension": ".py",
   "mimetype": "text/x-python",
   "name": "python",
   "nbconvert_exporter": "python",
   "pygments_lexer": "ipython3",
   "version": "3.8.5"
  }
 },
 "nbformat": 4,
 "nbformat_minor": 2
}
