{
 "metadata": {
  "language_info": {
   "codemirror_mode": {
    "name": "ipython",
    "version": 3
   },
   "file_extension": ".py",
   "mimetype": "text/x-python",
   "name": "python",
   "nbconvert_exporter": "python",
   "pygments_lexer": "ipython3",
   "version": "3.9.5"
  },
  "orig_nbformat": 2,
  "kernelspec": {
   "name": "python395jvsc74a57bd008bcf114b6799a788c3e4c5366ee28d230c9527aecb5fe8828812464fcb419b7",
   "display_name": "Python 3.9.5 64-bit (windows store)"
  },
  "metadata": {
   "interpreter": {
    "hash": "08bcf114b6799a788c3e4c5366ee28d230c9527aecb5fe8828812464fcb419b7"
   }
  }
 },
 "nbformat": 4,
 "nbformat_minor": 2,
 "cells": [
  {
   "source": [
    "# IBM Watson Tone Analyzer API\n",
    "\n",
    "The IBM Watson Tone Analyzer helps detect communication tones from written text. These communication tones can be categorised as emotion, language and social.\n",
    "\n",
    "The emotion tones are categorised as anger, disgust, fear, joy, and sadness. The language tones are categorised as analytical, confident, and tentative. The social tones (Big Five personality traits) are categorised as openness, conscientiousness, Extraversion, agreeableness, and emotional range.\n",
    "\n",
    "Input Content: Sentences with less than three words cannot be analysed. This service supports up to 128KB of text (about 1000 sentences). A good use case would be tweets / Facebook posts of customers on company page.\n",
    "Content-type: Valid values are text/plain, text/html, or application/json.\n",
    "Output (result): Scores of the communication tones."
   ],
   "cell_type": "markdown",
   "metadata": {}
  },
  {
   "source": [
    "Table 1. General-purpose tones\n",
    "Tone / ID\tDescription\n",
    "\n",
    "Anger\n",
    "anger\tAnger is evoked due to injustice, conflict, humiliation, negligence, or betrayal. If anger is active, the individual attacks the target, verbally or physically. If anger is passive, the person silently sulks and feels tension and hostility. (An emotional tone.)\n",
    "\n",
    "Fear\n",
    "fear\tFear is a response to impending danger. It is a survival mechanism that is triggered as a reaction to some negative stimulus. Fear can be a mild caution or an extreme phobia. (An emotional tone.)\n",
    "\n",
    "Joy\n",
    "joy\tJoy (or happiness) has shades of enjoyment, satisfaction, and pleasure. Joy brings a sense of well-being, inner peace, love, safety, and contentment. (An emotional tone.)\n",
    "\n",
    "Sadness\n",
    "sadness\tSadness indicates a feeling of loss and disadvantage. When a person is quiet, less energetic, and withdrawn, it can be inferred that they feel sadness. (An emotional tone.)\n",
    "\n",
    "Analytical\n",
    "analytical\tAn analytical tone indicates a person's reasoning and analytical attitude about things. An analytical person might be perceived as intellectual, rational, systematic, emotionless, or impersonal. (A language tone.)\n",
    "\n",
    "Confident\n",
    "confident\tA confident tone indicates a person's degree of certainty. A confident person might be perceived as assured, collected, hopeful, or egotistical. (A language tone.)\n",
    "\n",
    "Tentative\n",
    "tentative\tA tentative tone indicates a person's degree of inhibition. A tentative person might be perceived as questionable, doubtful, or debatable. (A language tone.)"
   ],
   "cell_type": "markdown",
   "metadata": {}
  },
  {
   "source": [
    "##  Steps\n",
    "- Create a IBM Cloud account https://cloud.ibm.com/\n",
    "- Open Tone Analyzer API \n",
    "- Install pip install --upgrade \"ibm-watson>=5.1.0\"\n",
    "\n"
   ],
   "cell_type": "markdown",
   "metadata": {}
  },
  {
   "cell_type": "code",
   "execution_count": 1,
   "metadata": {},
   "outputs": [],
   "source": [
    "from ibm_watson import DiscoveryV1\n",
    "from ibm_cloud_sdk_core.authenticators import BasicAuthenticator\n",
    "\n",
    "# authenticator = BasicAuthenticator('goez.deniz@gmail.com', '...')\n",
    "# discovery = DiscoveryV1(version='2019-04-30', authenticator=authenticator)\n",
    "# discovery.set_service_url('https://api.eu-de.tone-analyzer.watson.cloud.ibm.com')\n"
   ]
  },
  {
   "cell_type": "code",
   "execution_count": 2,
   "metadata": {},
   "outputs": [],
   "source": [
    "import json\n",
    "from ibm_watson import ToneAnalyzerV3\n",
    "from ibm_cloud_sdk_core.authenticators import IAMAuthenticator\n",
    "\n",
    "authenticator = IAMAuthenticator('D6rfanTU52y_z6lMXrQfSDLVmUtyItOBlk7D3UGRDLRd')\n",
    "tone_analyzer = ToneAnalyzerV3(\n",
    "    version='2021-06-05',\n",
    "    authenticator=authenticator\n",
    ")\n",
    "\n",
    "tone_analyzer.set_service_url('https://api.eu-de.tone-analyzer.watson.cloud.ibm.com/instances/ec353de7-4727-479c-a05d-7ff267bdfe78')\n"
   ]
  },
  {
   "cell_type": "code",
   "execution_count": 5,
   "metadata": {},
   "outputs": [],
   "source": [
    "# \\\n",
    "tone_analysis = tone_analyzer.tone(\n",
    "    {'text': '{Getting back to work made a difference. After 10 days of nothing but the business of moving and all of its seemingly obligatory messy emotions, it was nice to think of nothing but my patients. I worked Wednesday through Friday, and even with a couple of long days in there, it was a relief to be away from home. It was a relief to be away from unpacking, and contemplating, and deciding. It was a pleasure to think about somebody other than myself for 3 days. I needed that. Those 3 days away, combined with a long run/walk/dip into Lake Superior with Jet yesterday, gave me the energy to unpack nearly my entire basement today. I ve still got a lot to do, but things are starting to take shape. My bedroom is almost completely put together. My bathroom and kitchen are done. I ve still got boxes in the living room, dining room and the other 2 bedrooms, but I m getting there. Tomorrow I m heading south to Mayo Clinic for a ketamine infusion. Im pleased its not an urgent need at this time, just a regular maintenance dose. Returning to work, getting some exercise, and progressing with my unpacking have each helped stabilize my mood. Im  no longer daily wiping tears from my eyes. In fact, I haven t cried for several days. That, in and of itself, is quite a feat! I m taking my time with unpacking. I m doing my best to remain patient. Taking the next right action and maintaining my attitude of gratitude are my focus now. Its still hard, but its not impossible. Settling into my new home, new routine, and new city will take time. I m keeping that fact forefront in my mind. I can do this. But I cant do it all today, nor do I have to. Patiently, Ill get it done. }'},\n",
    "    content_type='application/json').get_result()"
   ]
  },
  {
   "cell_type": "code",
   "execution_count": null,
   "metadata": {},
   "outputs": [],
   "source": []
  },
  {
   "cell_type": "code",
   "execution_count": 6,
   "metadata": {},
   "outputs": [
    {
     "output_type": "stream",
     "name": "stdout",
     "text": [
      "{\n  \"document_tone\": {\n    \"tones\": [\n      {\n        \"score\": 0.600422,\n        \"tone_id\": \"joy\",\n        \"tone_name\": \"Joy\"\n      },\n      {\n        \"score\": 0.576424,\n        \"tone_id\": \"sadness\",\n        \"tone_name\": \"Sadness\"\n      },\n      {\n        \"score\": 0.606332,\n        \"tone_id\": \"analytical\",\n        \"tone_name\": \"Analytical\"\n      }\n    ]\n  },\n  \"sentences_tone\": [\n    {\n      \"sentence_id\": 0,\n      \"text\": \"{Getting back to work made a difference.\",\n      \"tones\": []\n    },\n    {\n      \"sentence_id\": 1,\n      \"text\": \"After 10 days of nothing but the business of moving and all of its seemingly obligatory messy emotions, it was nice to think of nothing but my patients.\",\n      \"tones\": [\n        {\n          \"score\": 0.768762,\n          \"tone_id\": \"joy\",\n          \"tone_name\": \"Joy\"\n        },\n        {\n          \"score\": 0.811849,\n          \"tone_id\": \"analytical\",\n          \"tone_name\": \"Analytical\"\n        }\n      ]\n    },\n    {\n      \"sentence_id\": 2,\n      \"text\": \"I worked Wednesday through Friday, and even with a couple of long days in there, it was a relief to be away from home.\",\n      \"tones\": []\n    },\n    {\n      \"sentence_id\": 3,\n      \"text\": \"It was a relief to be away from unpacking, and contemplating, and deciding.\",\n      \"tones\": [\n        {\n          \"score\": 0.775702,\n          \"tone_id\": \"confident\",\n          \"tone_name\": \"Confident\"\n        },\n        {\n          \"score\": 0.908301,\n          \"tone_id\": \"analytical\",\n          \"tone_name\": \"Analytical\"\n        }\n      ]\n    },\n    {\n      \"sentence_id\": 4,\n      \"text\": \"It was a pleasure to think about somebody other than myself for 3 days.\",\n      \"tones\": [\n        {\n          \"score\": 0.768425,\n          \"tone_id\": \"joy\",\n          \"tone_name\": \"Joy\"\n        },\n        {\n          \"score\": 0.716301,\n          \"tone_id\": \"tentative\",\n          \"tone_name\": \"Tentative\"\n        },\n        {\n          \"score\": 0.73677,\n          \"tone_id\": \"analytical\",\n          \"tone_name\": \"Analytical\"\n        }\n      ]\n    },\n    {\n      \"sentence_id\": 5,\n      \"text\": \"I needed that.\",\n      \"tones\": []\n    },\n    {\n      \"sentence_id\": 6,\n      \"text\": \"Those 3 days away, combined with a long run/walk/dip into Lake Superior with Jet yesterday, gave me the energy to unpack nearly my entire basement today.\",\n      \"tones\": [\n        {\n          \"score\": 0.518301,\n          \"tone_id\": \"sadness\",\n          \"tone_name\": \"Sadness\"\n        }\n      ]\n    },\n    {\n      \"sentence_id\": 7,\n      \"text\": \"I ve still got a lot to do, but things are starting to take shape.\",\n      \"tones\": []\n    },\n    {\n      \"sentence_id\": 8,\n      \"text\": \"My bedroom is almost completely put together.\",\n      \"tones\": []\n    },\n    {\n      \"sentence_id\": 9,\n      \"text\": \"My bathroom and kitchen are done.\",\n      \"tones\": []\n    },\n    {\n      \"sentence_id\": 10,\n      \"text\": \"I ve still got boxes in the living room, dining room and the other 2 bedrooms, but I m getting there.\",\n      \"tones\": []\n    },\n    {\n      \"sentence_id\": 11,\n      \"text\": \"Tomorrow I m heading south to Mayo Clinic for a ketamine infusion.\",\n      \"tones\": []\n    },\n    {\n      \"sentence_id\": 12,\n      \"text\": \"Im pleased its not an urgent need at this time, just a regular maintenance dose.\",\n      \"tones\": [\n        {\n          \"score\": 0.647986,\n          \"tone_id\": \"tentative\",\n          \"tone_name\": \"Tentative\"\n        }\n      ]\n    },\n    {\n      \"sentence_id\": 13,\n      \"text\": \"Returning to work, getting some exercise, and progressing with my unpacking have each helped stabilize my mood.\",\n      \"tones\": [\n        {\n          \"score\": 0.668173,\n          \"tone_id\": \"joy\",\n          \"tone_name\": \"Joy\"\n        },\n        {\n          \"score\": 0.58393,\n          \"tone_id\": \"tentative\",\n          \"tone_name\": \"Tentative\"\n        }\n      ]\n    },\n    {\n      \"sentence_id\": 14,\n      \"text\": \"Im  no longer daily wiping tears from my eyes.\",\n      \"tones\": [\n        {\n          \"score\": 0.76089,\n          \"tone_id\": \"sadness\",\n          \"tone_name\": \"Sadness\"\n        }\n      ]\n    },\n    {\n      \"sentence_id\": 15,\n      \"text\": \"In fact, I haven t cried for several days.\",\n      \"tones\": [\n        {\n          \"score\": 0.910977,\n          \"tone_id\": \"sadness\",\n          \"tone_name\": \"Sadness\"\n        },\n        {\n          \"score\": 0.868982,\n          \"tone_id\": \"analytical\",\n          \"tone_name\": \"Analytical\"\n        }\n      ]\n    },\n    {\n      \"sentence_id\": 16,\n      \"text\": \"That, in and of itself, is quite a feat!\",\n      \"tones\": [\n        {\n          \"score\": 0.78696,\n          \"tone_id\": \"joy\",\n          \"tone_name\": \"Joy\"\n        },\n        {\n          \"score\": 0.5538,\n          \"tone_id\": \"tentative\",\n          \"tone_name\": \"Tentative\"\n        }\n      ]\n    },\n    {\n      \"sentence_id\": 17,\n      \"text\": \"I m taking my time with unpacking.\",\n      \"tones\": []\n    },\n    {\n      \"sentence_id\": 18,\n      \"text\": \"I m doing my best to remain patient.\",\n      \"tones\": [\n        {\n          \"score\": 0.573929,\n          \"tone_id\": \"joy\",\n          \"tone_name\": \"Joy\"\n        }\n      ]\n    },\n    {\n      \"sentence_id\": 19,\n      \"text\": \"Taking the next right action and maintaining my attitude of gratitude are my focus now.\",\n      \"tones\": [\n        {\n          \"score\": 0.891059,\n          \"tone_id\": \"joy\",\n          \"tone_name\": \"Joy\"\n        },\n        {\n          \"score\": 0.532616,\n          \"tone_id\": \"analytical\",\n          \"tone_name\": \"Analytical\"\n        }\n      ]\n    },\n    {\n      \"sentence_id\": 20,\n      \"text\": \"Its still hard, but its not impossible.\",\n      \"tones\": [\n        {\n          \"score\": 0.820595,\n          \"tone_id\": \"sadness\",\n          \"tone_name\": \"Sadness\"\n        },\n        {\n          \"score\": 0.801827,\n          \"tone_id\": \"analytical\",\n          \"tone_name\": \"Analytical\"\n        }\n      ]\n    },\n    {\n      \"sentence_id\": 21,\n      \"text\": \"Settling into my new home, new routine, and new city will take time.\",\n      \"tones\": [\n        {\n          \"score\": 0.566064,\n          \"tone_id\": \"joy\",\n          \"tone_name\": \"Joy\"\n        }\n      ]\n    },\n    {\n      \"sentence_id\": 22,\n      \"text\": \"I m keeping that fact forefront in my mind.\",\n      \"tones\": [\n        {\n          \"score\": 0.874372,\n          \"tone_id\": \"confident\",\n          \"tone_name\": \"Confident\"\n        },\n        {\n          \"score\": 0.955445,\n          \"tone_id\": \"analytical\",\n          \"tone_name\": \"Analytical\"\n        }\n      ]\n    },\n    {\n      \"sentence_id\": 23,\n      \"text\": \"I can do this.\",\n      \"tones\": []\n    },\n    {\n      \"sentence_id\": 24,\n      \"text\": \"But I cant do it all today, nor do I have to.\",\n      \"tones\": [\n        {\n          \"score\": 0.948292,\n          \"tone_id\": \"confident\",\n          \"tone_name\": \"Confident\"\n        }\n      ]\n    },\n    {\n      \"sentence_id\": 25,\n      \"text\": \"Patiently, Ill get it done.\",\n      \"tones\": [\n        {\n          \"score\": 0.541296,\n          \"tone_id\": \"sadness\",\n          \"tone_name\": \"Sadness\"\n        },\n        {\n          \"score\": 0.965509,\n          \"tone_id\": \"analytical\",\n          \"tone_name\": \"Analytical\"\n        }\n      ]\n    },\n    {\n      \"sentence_id\": 26,\n      \"text\": \"}\",\n      \"tones\": []\n    }\n  ]\n}\n"
     ]
    }
   ],
   "source": [
    "print(json.dumps(tone_analysis, indent=2))"
   ]
  },
  {
   "cell_type": "code",
   "execution_count": null,
   "metadata": {},
   "outputs": [],
   "source": []
  }
 ]
}