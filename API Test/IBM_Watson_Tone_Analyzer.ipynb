{
 "metadata": {
  "language_info": {
   "codemirror_mode": {
    "name": "ipython",
    "version": 3
   },
   "file_extension": ".py",
   "mimetype": "text/x-python",
   "name": "python",
   "nbconvert_exporter": "python",
   "pygments_lexer": "ipython3",
   "version": "3.9.5"
  },
  "orig_nbformat": 2,
  "kernelspec": {
   "name": "python395jvsc74a57bd008bcf114b6799a788c3e4c5366ee28d230c9527aecb5fe8828812464fcb419b7",
   "display_name": "Python 3.9.5 64-bit (windows store)"
  },
  "metadata": {
   "interpreter": {
    "hash": "08bcf114b6799a788c3e4c5366ee28d230c9527aecb5fe8828812464fcb419b7"
   }
  }
 },
 "nbformat": 4,
 "nbformat_minor": 2,
 "cells": [
  {
   "source": [
    "##  Steps\n",
    "- Create a IBM Cloud account https://cloud.ibm.com/\n",
    "- Open Tone Analyzer API \n",
    "- Install pip install --upgrade \"ibm-watson>=5.1.0\"\n",
    "\n"
   ],
   "cell_type": "markdown",
   "metadata": {}
  },
  {
   "cell_type": "code",
   "execution_count": 2,
   "metadata": {},
   "outputs": [],
   "source": [
    "from ibm_watson import DiscoveryV1\n",
    "from ibm_cloud_sdk_core.authenticators import BasicAuthenticator\n",
    "\n",
    "# authenticator = BasicAuthenticator('goez.deniz@gmail.com', '...')\n",
    "# discovery = DiscoveryV1(version='2019-04-30', authenticator=authenticator)\n",
    "# discovery.set_service_url('https://api.eu-de.tone-analyzer.watson.cloud.ibm.com')\n"
   ]
  },
  {
   "cell_type": "code",
   "execution_count": 5,
   "metadata": {},
   "outputs": [],
   "source": [
    "import json\n",
    "from ibm_watson import ToneAnalyzerV3\n",
    "from ibm_cloud_sdk_core.authenticators import IAMAuthenticator\n",
    "\n",
    "authenticator = IAMAuthenticator('D6rfanTU52y_z6lMXrQfSDLVmUtyItOBlk7D3UGRDLRd')\n",
    "tone_analyzer = ToneAnalyzerV3(\n",
    "    version='{version}',\n",
    "    authenticator=authenticator\n",
    ")\n",
    "\n",
    "tone_analyzer.set_service_url('https://api.eu-de.tone-analyzer.watson.cloud.ibm.com/instances/ec353de7-4727-479c-a05d-7ff267bdfe78')\n"
   ]
  },
  {
   "cell_type": "code",
   "execution_count": null,
   "metadata": {},
   "outputs": [],
   "source": []
  }
 ]
}