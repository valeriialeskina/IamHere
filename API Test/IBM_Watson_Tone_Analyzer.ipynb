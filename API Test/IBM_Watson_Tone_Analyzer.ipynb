{
 "metadata": {
  "language_info": {
   "codemirror_mode": {
    "name": "ipython",
    "version": 3
   },
   "file_extension": ".py",
   "mimetype": "text/x-python",
   "name": "python",
   "nbconvert_exporter": "python",
   "pygments_lexer": "ipython3",
   "version": "3.9.5"
  },
  "orig_nbformat": 2,
  "kernelspec": {
   "name": "python395jvsc74a57bd008bcf114b6799a788c3e4c5366ee28d230c9527aecb5fe8828812464fcb419b7",
   "display_name": "Python 3.9.5 64-bit (windows store)"
  },
  "metadata": {
   "interpreter": {
    "hash": "08bcf114b6799a788c3e4c5366ee28d230c9527aecb5fe8828812464fcb419b7"
   }
  }
 },
 "nbformat": 4,
 "nbformat_minor": 2,
 "cells": [
  {
   "source": [
    "# IBM Watson Tone Analyzer API\n",
    "\n",
    "The IBM Watson Tone Analyzer helps detect communication tones from written text. These communication tones can be categorised as emotion, language and social.\n",
    "\n",
    "The emotion tones are categorised as anger, disgust, fear, joy, and sadness. The language tones are categorised as analytical, confident, and tentative. The social tones (Big Five personality traits) are categorised as openness, conscientiousness, Extraversion, agreeableness, and emotional range."
   ],
   "cell_type": "markdown",
   "metadata": {}
  },
  {
   "source": [
    "##  Steps\n",
    "- Create a IBM Cloud account https://cloud.ibm.com/\n",
    "- Open Tone Analyzer API \n",
    "- Install pip install --upgrade \"ibm-watson>=5.1.0\"\n",
    "\n"
   ],
   "cell_type": "markdown",
   "metadata": {}
  },
  {
   "cell_type": "code",
   "execution_count": 2,
   "metadata": {},
   "outputs": [],
   "source": [
    "from ibm_watson import DiscoveryV1\n",
    "from ibm_cloud_sdk_core.authenticators import BasicAuthenticator\n",
    "\n",
    "# authenticator = BasicAuthenticator('goez.deniz@gmail.com', '...')\n",
    "# discovery = DiscoveryV1(version='2019-04-30', authenticator=authenticator)\n",
    "# discovery.set_service_url('https://api.eu-de.tone-analyzer.watson.cloud.ibm.com')\n"
   ]
  },
  {
   "cell_type": "code",
   "execution_count": 3,
   "metadata": {},
   "outputs": [],
   "source": [
    "import json\n",
    "from ibm_watson import ToneAnalyzerV3\n",
    "from ibm_cloud_sdk_core.authenticators import IAMAuthenticator\n",
    "\n",
    "authenticator = IAMAuthenticator('D6rfanTU52y_z6lMXrQfSDLVmUtyItOBlk7D3UGRDLRd')\n",
    "tone_analyzer = ToneAnalyzerV3(\n",
    "    version='2021-06-05',\n",
    "    authenticator=authenticator\n",
    ")\n",
    "\n",
    "tone_analyzer.set_service_url('https://api.eu-de.tone-analyzer.watson.cloud.ibm.com/instances/ec353de7-4727-479c-a05d-7ff267bdfe78')\n"
   ]
  },
  {
   "cell_type": "code",
   "execution_count": 4,
   "metadata": {},
   "outputs": [],
   "source": [
    "# \\\n",
    "tone_analysis = tone_analyzer.tone(\n",
    "    {'text': '{No news is good news Fortunately, or perhaps unfortunately for you, my readers, I have little to write about today. I m doing well. My mood has been holding steady. I ve been very slowly organizing my house, though truthfully, I ve done little since I last wrote. I ve been trying to spend more energy working on my physical health, and thats left less time to organize stuff. Getting back to being a healthy athletic woman is more important right now.}'},\n",
    "    content_type='application/json').get_result()"
   ]
  },
  {
   "cell_type": "code",
   "execution_count": 5,
   "metadata": {},
   "outputs": [
    {
     "output_type": "stream",
     "name": "stdout",
     "text": [
      "{\n  \"document_tone\": {\n    \"tones\": [\n      {\n        \"score\": 0.664847,\n        \"tone_id\": \"joy\",\n        \"tone_name\": \"Joy\"\n      },\n      {\n        \"score\": 0.781683,\n        \"tone_id\": \"tentative\",\n        \"tone_name\": \"Tentative\"\n      }\n    ]\n  },\n  \"sentences_tone\": [\n    {\n      \"sentence_id\": 0,\n      \"text\": \"{No news is good news Fortunately, or perhaps unfortunately for you, my readers, I have little to write about today.\",\n      \"tones\": [\n        {\n          \"score\": 0.810721,\n          \"tone_id\": \"joy\",\n          \"tone_name\": \"Joy\"\n        },\n        {\n          \"score\": 0.953007,\n          \"tone_id\": \"tentative\",\n          \"tone_name\": \"Tentative\"\n        }\n      ]\n    },\n    {\n      \"sentence_id\": 1,\n      \"text\": \"I m doing well.\",\n      \"tones\": []\n    },\n    {\n      \"sentence_id\": 2,\n      \"text\": \"My mood has been holding steady.\",\n      \"tones\": []\n    },\n    {\n      \"sentence_id\": 3,\n      \"text\": \"I ve been very slowly organizing my house, though truthfully, I ve done little since I last wrote.\",\n      \"tones\": [\n        {\n          \"score\": 0.502922,\n          \"tone_id\": \"sadness\",\n          \"tone_name\": \"Sadness\"\n        },\n        {\n          \"score\": 0.80026,\n          \"tone_id\": \"confident\",\n          \"tone_name\": \"Confident\"\n        }\n      ]\n    },\n    {\n      \"sentence_id\": 4,\n      \"text\": \"I ve been trying to spend more energy working on my physical health, and thats left less time to organize stuff.\",\n      \"tones\": []\n    },\n    {\n      \"sentence_id\": 5,\n      \"text\": \"Getting back to being a healthy athletic woman is more important right now.}\",\n      \"tones\": [\n        {\n          \"score\": 0.814411,\n          \"tone_id\": \"joy\",\n          \"tone_name\": \"Joy\"\n        }\n      ]\n    }\n  ]\n}\n"
     ]
    }
   ],
   "source": [
    "print(json.dumps(tone_analysis, indent=2))"
   ]
  },
  {
   "cell_type": "code",
   "execution_count": null,
   "metadata": {},
   "outputs": [],
   "source": []
  }
 ]
}