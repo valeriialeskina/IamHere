{
 "metadata": {
  "language_info": {
   "codemirror_mode": {
    "name": "ipython",
    "version": 3
   },
   "file_extension": ".py",
   "mimetype": "text/x-python",
   "name": "python",
   "nbconvert_exporter": "python",
   "pygments_lexer": "ipython3",
   "version": 3
  },
  "orig_nbformat": 2
 },
 "nbformat": 4,
 "nbformat_minor": 2,
 "cells": [
  {
   "source": [
    "# MoodPatrol API\n",
    "\n",
    "MoodPatrol helps analyse texts and extract the underlying emotions. This API uses sophisticated text analysis to find emotion patterns in text. It helps detect 8 basic emotions and a wide variety of finer emotions from the texts.\n",
    "\n",
    "These basic emotions are anger, fear, sadness, disgust, surprise, anticipation, trust, and joy.\n",
    "There’s also a ton of fine-grained emotions\n",
    "\n",
    "\n",
    "Example:\n",
    "“How is the weather? it is sunny and dusty. Even though it breezes a bit, I can hear noise made from passing cars.”\n",
    "Emotions detected: disgust, joy rough, horrible, bitter, boredom, hungover, warm, optimistic, optimism, peaceful, fantastic"
   ],
   "cell_type": "markdown",
   "metadata": {}
  },
  {
   "cell_type": "code",
   "execution_count": null,
   "metadata": {},
   "outputs": [],
   "source": []
  }
 ]
}