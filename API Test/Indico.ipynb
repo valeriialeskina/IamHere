{
 "metadata": {
  "language_info": {
   "codemirror_mode": {
    "name": "ipython",
    "version": 3
   },
   "file_extension": ".py",
   "mimetype": "text/x-python",
   "name": "python",
   "nbconvert_exporter": "python",
   "pygments_lexer": "ipython3",
   "version": 3
  },
  "orig_nbformat": 2
 },
 "nbformat": 4,
 "nbformat_minor": 2,
 "cells": [
  {
   "source": [
    "# Indico \n",
    "\n"
   ],
   "cell_type": "markdown",
   "metadata": {}
  },
  {
   "source": [
    "## Steps\n",
    "\n",
    "- Create an account https://app.indico.io/auth/register\n",
    "\n",
    "\n",
    "To install the Python Client Library:\n",
    "\n",
    "pip install indico-client\n",
    "To upgrade the Python Client Library:\n",
    "\n",
    "pip install --upgrade indico-client\n",
    "Afterwards, proper installation can be verified with the following in a python shell:\n",
    "\n",
    "import indico\n",
    "print(indico.__version__)"
   ],
   "cell_type": "markdown",
   "metadata": {}
  },
  {
   "cell_type": "code",
   "execution_count": null,
   "metadata": {},
   "outputs": [],
   "source": []
  }
 ]
}