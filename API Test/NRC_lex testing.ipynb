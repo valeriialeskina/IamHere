{
 "metadata": {
  "language_info": {
   "codemirror_mode": {
    "name": "ipython",
    "version": 3
   },
   "file_extension": ".py",
   "mimetype": "text/x-python",
   "name": "python",
   "nbconvert_exporter": "python",
   "pygments_lexer": "ipython3",
   "version": "3.7.10"
  },
  "orig_nbformat": 2,
  "kernelspec": {
   "name": "python3710jvsc74a57bd022a63b945ad88ad6aa60a7f3f570c70abf6faa8a03284077614716ef20649993",
   "display_name": "Python 3.7.10 64-bit ('uni': conda)"
  }
 },
 "nbformat": 4,
 "nbformat_minor": 2,
 "cells": [
  {
   "cell_type": "code",
   "execution_count": 1,
   "metadata": {},
   "outputs": [],
   "source": [
    "#pip install NRCLex\n",
    "from nrclex import NRCLex"
   ]
  },
  {
   "source": [
    "NRCLex will measure emotional affect from a body of text. Affect dictionary contains approximately 27,000 words, and is based on the National Research Council Canada (NRC) affect lexicon (see link below) and the NLTK library's WordNet synonym sets.\n",
    "\n",
    "\n",
    "Emotional affects measured include the following:\n",
    "\n",
    "fear\n",
    "anger\n",
    "anticipation\n",
    "trust\n",
    "surprise\n",
    "positive\n",
    "negative\n",
    "sadness\n",
    "disgust\n",
    "joy\n"
   ],
   "cell_type": "markdown",
   "metadata": {}
  },
  {
   "cell_type": "code",
   "execution_count": 3,
   "metadata": {},
   "outputs": [],
   "source": [
    "blog_post = '''\n",
    "            Getting back to work made a difference. After 10 days of nothing but the business of moving and all of its \n",
    "            seemingly obligatory messy emotions, it was nice to think of nothing but my patients. I worked Wednesday through \n",
    "            Friday, and even with a couple of long days in there, it was a relief to be away from home. It was a relief to be \n",
    "            away from unpacking, and contemplating, and deciding. It was a pleasure to think about somebody other than myself \n",
    "            for 3 days. I needed that. \n",
    "            Those 3 days away, combined with a long run/walk/dip into Lake Superior with Jet yesterday, gave me the energy to \n",
    "            unpack nearly my entire basement today. I've still got a lot to do, but things are starting to take shape. My \n",
    "            bedroom is almost completely put together. My bathroom and kitchen are done. I've still got boxes in the living \n",
    "            room, dining room and the other 2 bedrooms, but I'm getting there.\n",
    "            Tomorrow I'm heading south to Mayo Clinic for a ketamine infusion. I'm pleased it's not an urgent need at this \n",
    "            time, just a regular maintenance dose. Returning to work, getting some exercise, and progressing with my unpacking \n",
    "            have each helped stabilize my mood. I'm no longer daily wiping tears from my eyes. In fact, I haven't cried for \n",
    "            several days. That, in and of itself, is quite a feat! \n",
    "            I'm taking my time with unpacking. I'm doing my best to remain patient. Taking the next right action and \n",
    "            maintaining my attitude of gratitude are my focus now. It's still hard, but it's not impossible. Settling into my \n",
    "            new home, new routine, and new city will take time. I'm keeping that fact forefront in my mind. I can do this. \n",
    "            But I can't do it all today, nor do I have to. Patiently, I'll get it done. \n",
    "            '''"
   ]
  },
  {
   "cell_type": "code",
   "execution_count": 4,
   "metadata": {},
   "outputs": [],
   "source": [
    "#Instantiate text object (for best results, 'text' should be unicode).\n",
    "text_object = NRCLex(blog_post)"
   ]
  },
  {
   "cell_type": "code",
   "execution_count": 11,
   "metadata": {},
   "outputs": [
    {
     "output_type": "stream",
     "name": "stdout",
     "text": [
      "322\n['Getting', 'back', 'to', 'work', 'made', 'a', 'difference', 'After', '10', 'days', 'of', 'nothing', 'but', 'the', 'business', 'of', 'moving', 'and', 'all', 'of', 'its', 'seemingly', 'obligatory', 'messy', 'emotions', 'it', 'was', 'nice', 'to', 'think', 'of', 'nothing', 'but', 'my', 'patients', 'I', 'worked', 'Wednesday', 'through', 'Friday', 'and', 'even', 'with', 'a', 'couple', 'of', 'long', 'days', 'in', 'there', 'it', 'was', 'a', 'relief', 'to', 'be', 'away', 'from', 'home', 'It', 'was', 'a', 'relief', 'to', 'be', 'away', 'from', 'unpacking', 'and', 'contemplating', 'and', 'deciding', 'It', 'was', 'a', 'pleasure', 'to', 'think', 'about', 'somebody', 'other', 'than', 'myself', 'for', '3', 'days', 'I', 'needed', 'that', 'Those', '3', 'days', 'away', 'combined', 'with', 'a', 'long', 'run/walk/dip', 'into', 'Lake', 'Superior', 'with', 'Jet', 'yesterday', 'gave', 'me', 'the', 'energy', 'to', 'unpack', 'nearly', 'my', 'entire', 'basement', 'today', 'I', \"'ve\", 'still', 'got', 'a', 'lot', 'to', 'do', 'but', 'things', 'are', 'starting', 'to', 'take', 'shape', 'My', 'bedroom', 'is', 'almost', 'completely', 'put', 'together', 'My', 'bathroom', 'and', 'kitchen', 'are', 'done', 'I', \"'ve\", 'still', 'got', 'boxes', 'in', 'the', 'living', 'room', 'dining', 'room', 'and', 'the', 'other', '2', 'bedrooms', 'but', 'I', \"'m\", 'getting', 'there', 'Tomorrow', 'I', \"'m\", 'heading', 'south', 'to', 'Mayo', 'Clinic', 'for', 'a', 'ketamine', 'infusion', 'I', \"'m\", 'pleased', 'it', \"'s\", 'not', 'an', 'urgent', 'need', 'at', 'this', 'time', 'just', 'a', 'regular', 'maintenance', 'dose', 'Returning', 'to', 'work', 'getting', 'some', 'exercise', 'and', 'progressing', 'with', 'my', 'unpacking', 'have', 'each', 'helped', 'stabilize', 'my', 'mood', 'I', \"'m\", 'no', 'longer', 'daily', 'wiping', 'tears', 'from', 'my', 'eyes', 'In', 'fact', 'I', 'have', \"n't\", 'cried', 'for', 'several', 'days', 'That', 'in', 'and', 'of', 'itself', 'is', 'quite', 'a', 'feat', 'I', \"'m\", 'taking', 'my', 'time', 'with', 'unpacking', 'I', \"'m\", 'doing', 'my', 'best', 'to', 'remain', 'patient', 'Taking', 'the', 'next', 'right', 'action', 'and', 'maintaining', 'my', 'attitude', 'of', 'gratitude', 'are', 'my', 'focus', 'now', 'It', \"'s\", 'still', 'hard', 'but', 'it', \"'s\", 'not', 'impossible', 'Settling', 'into', 'my', 'new', 'home', 'new', 'routine', 'and', 'new', 'city', 'will', 'take', 'time', 'I', \"'m\", 'keeping', 'that', 'fact', 'forefront', 'in', 'my', 'mind', 'I', 'can', 'do', 'this', 'But', 'I', 'ca', \"n't\", 'do', 'it', 'all', 'today', 'nor', 'do', 'I', 'have', 'to', 'Patiently', 'I', \"'ll\", 'get', 'it', 'done']\n"
     ]
    }
   ],
   "source": [
    "#Return words list.\n",
    "print(len(text_object.words))\n",
    "print(text_object.words)"
   ]
  },
  {
   "cell_type": "code",
   "execution_count": 10,
   "metadata": {},
   "outputs": [
    {
     "output_type": "stream",
     "name": "stdout",
     "text": [
      "26\n"
     ]
    },
    {
     "output_type": "execute_result",
     "data": {
      "text/plain": [
       "[Sentence(\"\n",
       "             Getting back to work made a difference.\"),\n",
       " Sentence(\"After 10 days of nothing but the business of moving and all of its \n",
       "             seemingly obligatory messy emotions, it was nice to think of nothing but my patients.\"),\n",
       " Sentence(\"I worked Wednesday through \n",
       "             Friday, and even with a couple of long days in there, it was a relief to be away from home.\"),\n",
       " Sentence(\"It was a relief to be \n",
       "             away from unpacking, and contemplating, and deciding.\"),\n",
       " Sentence(\"It was a pleasure to think about somebody other than myself \n",
       "             for 3 days.\"),\n",
       " Sentence(\"I needed that.\"),\n",
       " Sentence(\"Those 3 days away, combined with a long run/walk/dip into Lake Superior with Jet yesterday, gave me the energy to \n",
       "             unpack nearly my entire basement today.\"),\n",
       " Sentence(\"I've still got a lot to do, but things are starting to take shape.\"),\n",
       " Sentence(\"My \n",
       "             bedroom is almost completely put together.\"),\n",
       " Sentence(\"My bathroom and kitchen are done.\"),\n",
       " Sentence(\"I've still got boxes in the living \n",
       "             room, dining room and the other 2 bedrooms, but I'm getting there.\"),\n",
       " Sentence(\"Tomorrow I'm heading south to Mayo Clinic for a ketamine infusion.\"),\n",
       " Sentence(\"I'm pleased it's not an urgent need at this \n",
       "             time, just a regular maintenance dose.\"),\n",
       " Sentence(\"Returning to work, getting some exercise, and progressing with my unpacking \n",
       "             have each helped stabilize my mood.\"),\n",
       " Sentence(\"I'm no longer daily wiping tears from my eyes.\"),\n",
       " Sentence(\"In fact, I haven't cried for \n",
       "             several days.\"),\n",
       " Sentence(\"That, in and of itself, is quite a feat!\"),\n",
       " Sentence(\"I'm taking my time with unpacking.\"),\n",
       " Sentence(\"I'm doing my best to remain patient.\"),\n",
       " Sentence(\"Taking the next right action and \n",
       "             maintaining my attitude of gratitude are my focus now.\"),\n",
       " Sentence(\"It's still hard, but it's not impossible.\"),\n",
       " Sentence(\"Settling into my \n",
       "             new home, new routine, and new city will take time.\"),\n",
       " Sentence(\"I'm keeping that fact forefront in my mind.\"),\n",
       " Sentence(\"I can do this.\"),\n",
       " Sentence(\"But I can't do it all today, nor do I have to.\"),\n",
       " Sentence(\"Patiently, I'll get it done.\")]"
      ]
     },
     "metadata": {},
     "execution_count": 10
    }
   ],
   "source": [
    "#Return sentences list.\n",
    "print(len(text_object.sentences))\n",
    "text_object.sentences"
   ]
  },
  {
   "cell_type": "code",
   "execution_count": 12,
   "metadata": {},
   "outputs": [
    {
     "output_type": "stream",
     "name": "stdout",
     "text": [
      "35\n"
     ]
    },
    {
     "output_type": "execute_result",
     "data": {
      "text/plain": [
       "['disgust',\n",
       " 'negative',\n",
       " 'anticipation',\n",
       " 'positive',\n",
       " 'positive',\n",
       " 'anticipation',\n",
       " 'positive',\n",
       " 'positive',\n",
       " 'joy',\n",
       " 'positive',\n",
       " 'anticipation',\n",
       " 'fear',\n",
       " 'negative',\n",
       " 'surprise',\n",
       " 'anticipation',\n",
       " 'trust',\n",
       " 'anticipation',\n",
       " 'trust',\n",
       " 'anticipation',\n",
       " 'joy',\n",
       " 'positive',\n",
       " 'surprise',\n",
       " 'anticipation',\n",
       " 'anticipation',\n",
       " 'positive',\n",
       " 'positive',\n",
       " 'joy',\n",
       " 'positive',\n",
       " 'positive',\n",
       " 'negative',\n",
       " 'sadness',\n",
       " 'positive',\n",
       " 'trust',\n",
       " 'anticipation',\n",
       " 'trust']"
      ]
     },
     "metadata": {},
     "execution_count": 12
    }
   ],
   "source": [
    "#Return affect list.\n",
    "print(len(text_object.affect_list))\n",
    "text_object.affect_list"
   ]
  },
  {
   "cell_type": "code",
   "execution_count": 13,
   "metadata": {},
   "outputs": [
    {
     "output_type": "stream",
     "name": "stdout",
     "text": [
      "18\n"
     ]
    },
    {
     "output_type": "execute_result",
     "data": {
      "text/plain": [
       "{'messy': ['disgust', 'negative'],\n",
       " 'long': ['anticipation'],\n",
       " 'relief': ['positive'],\n",
       " 'shape': ['positive'],\n",
       " 'completely': ['positive'],\n",
       " 'pleased': ['joy', 'positive'],\n",
       " 'urgent': ['anticipation', 'fear', 'negative', 'surprise'],\n",
       " 'time': ['anticipation'],\n",
       " 'maintenance': ['trust'],\n",
       " 'daily': ['anticipation'],\n",
       " 'fact': ['trust'],\n",
       " 'feat': ['anticipation', 'joy', 'positive', 'surprise'],\n",
       " 'patient': ['anticipation', 'positive'],\n",
       " 'action': ['positive'],\n",
       " 'gratitude': ['joy', 'positive'],\n",
       " 'focus': ['positive'],\n",
       " 'impossible': ['negative', 'sadness'],\n",
       " 'routine': ['positive', 'trust']}"
      ]
     },
     "metadata": {},
     "execution_count": 13
    }
   ],
   "source": [
    "#Return affect dictionary.\n",
    "print(len(text_object.affect_dict))\n",
    "text_object.affect_dict"
   ]
  },
  {
   "cell_type": "code",
   "execution_count": 14,
   "metadata": {},
   "outputs": [
    {
     "output_type": "execute_result",
     "data": {
      "text/plain": [
       "{'disgust': 1,\n",
       " 'negative': 3,\n",
       " 'anticipation': 9,\n",
       " 'positive': 11,\n",
       " 'joy': 3,\n",
       " 'fear': 1,\n",
       " 'surprise': 2,\n",
       " 'trust': 4,\n",
       " 'sadness': 1}"
      ]
     },
     "metadata": {},
     "execution_count": 14
    }
   ],
   "source": [
    "#Return raw emotional counts.\n",
    "\n",
    "text_object.raw_emotion_scores"
   ]
  },
  {
   "cell_type": "code",
   "execution_count": 15,
   "metadata": {},
   "outputs": [
    {
     "output_type": "execute_result",
     "data": {
      "text/plain": [
       "[('positive', 0.3142857142857143)]"
      ]
     },
     "metadata": {},
     "execution_count": 15
    }
   ],
   "source": [
    "#Return highest emotions.\n",
    "\n",
    "text_object.top_emotions"
   ]
  },
  {
   "cell_type": "code",
   "execution_count": 16,
   "metadata": {},
   "outputs": [
    {
     "output_type": "execute_result",
     "data": {
      "text/plain": [
       "{'fear': 0.02857142857142857,\n",
       " 'anger': 0.0,\n",
       " 'anticip': 0.0,\n",
       " 'trust': 0.11428571428571428,\n",
       " 'surprise': 0.05714285714285714,\n",
       " 'positive': 0.3142857142857143,\n",
       " 'negative': 0.08571428571428572,\n",
       " 'sadness': 0.02857142857142857,\n",
       " 'disgust': 0.02857142857142857,\n",
       " 'joy': 0.08571428571428572,\n",
       " 'anticipation': 0.2571428571428571}"
      ]
     },
     "metadata": {},
     "execution_count": 16
    }
   ],
   "source": [
    "#Return affect frequencies.\n",
    "\n",
    "text_object.affect_frequencies"
   ]
  }
 ]
}