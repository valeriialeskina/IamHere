{
 "metadata": {
  "language_info": {
   "codemirror_mode": {
    "name": "ipython",
    "version": 3
   },
   "file_extension": ".py",
   "mimetype": "text/x-python",
   "name": "python",
   "nbconvert_exporter": "python",
   "pygments_lexer": "ipython3",
   "version": "3.8.3"
  },
  "orig_nbformat": 2,
  "kernelspec": {
   "name": "python3",
   "display_name": "Python 3.8.3 64-bit ('base': conda)"
  },
  "interpreter": {
   "hash": "516186bd0ec0d9f4d5315d95f88038d756540a3a2a2ced092e94dc29fedad10e"
  }
 },
 "nbformat": 4,
 "nbformat_minor": 2,
 "cells": [
  {
   "cell_type": "code",
   "execution_count": 8,
   "metadata": {},
   "outputs": [],
   "source": [
    "#Import the modules\n",
    "import re\n",
    "import pandas as pd\n",
    "import text2emotion as te\n",
    "from nrclex import NRCLex"
   ]
  },
  {
   "cell_type": "code",
   "execution_count": 3,
   "metadata": {},
   "outputs": [],
   "source": [
    "blog_post = '''\n",
    "            Getting back to work made a difference. After 10 days of nothing but the business of moving and all of its \n",
    "            seemingly obligatory messy emotions, it was nice to think of nothing but my patients. I worked Wednesday through \n",
    "            Friday, and even with a couple of long days in there, it was a relief to be away from home. It was a relief to be \n",
    "            away from unpacking, and contemplating, and deciding. It was a pleasure to think about somebody other than myself \n",
    "            for 3 days. I needed that. \n",
    "            Those 3 days away, combined with a long run/walk/dip into Lake Superior with Jet yesterday, gave me the energy to \n",
    "            unpack nearly my entire basement today. I've still got a lot to do, but things are starting to take shape. My \n",
    "            bedroom is almost completely put together. My bathroom and kitchen are done. I've still got boxes in the living \n",
    "            room, dining room and the other 2 bedrooms, but I'm getting there.\n",
    "            Tomorrow I'm heading south to Mayo Clinic for a ketamine infusion. I'm pleased it's not an urgent need at this \n",
    "            time, just a regular maintenance dose. Returning to work, getting some exercise, and progressing with my unpacking \n",
    "            have each helped stabilize my mood. I'm no longer daily wiping tears from my eyes. In fact, I haven't cried for \n",
    "            several days. That, in and of itself, is quite a feat! \n",
    "            I'm taking my time with unpacking. I'm doing my best to remain patient. Taking the next right action and \n",
    "            maintaining my attitude of gratitude are my focus now. It's still hard, but it's not impossible. Settling into my \n",
    "            new home, new routine, and new city will take time. I'm keeping that fact forefront in my mind. I can do this. \n",
    "            But I can't do it all today, nor do I have to. Patiently, I'll get it done. \n",
    "            '''"
   ]
  },
  {
   "cell_type": "code",
   "execution_count": 6,
   "metadata": {},
   "outputs": [
    {
     "output_type": "execute_result",
     "data": {
      "text/plain": [
       "{'Happy': 0.14, 'Angry': 0.08, 'Surprise': 0.16, 'Sad': 0.24, 'Fear': 0.37}"
      ]
     },
     "metadata": {},
     "execution_count": 6
    }
   ],
   "source": [
    "#Call to the function on the whole text\n",
    "te.get_emotion(blog_post)"
   ]
  },
  {
   "cell_type": "code",
   "execution_count": 12,
   "metadata": {},
   "outputs": [
    {
     "output_type": "execute_result",
     "data": {
      "text/plain": [
       "['Getting back to work made a difference',\n",
       " 'After 10 days of nothing but the business of moving and all of its             seemingly obligatory messy emotions, it was nice to think of nothing but my patients',\n",
       " 'I worked Wednesday through             Friday, and even with a couple of long days in there, it was a relief to be away from home',\n",
       " 'It was a relief to be             away from unpacking, and contemplating, and deciding',\n",
       " 'It was a pleasure to think about somebody other than myself             for 3 days',\n",
       " 'I needed that',\n",
       " 'Those 3 days away, combined with a long run/walk/dip into Lake Superior with Jet yesterday, gave me the energy to             unpack nearly my entire basement today',\n",
       " \"I've still got a lot to do, but things are starting to take shape\",\n",
       " 'My             bedroom is almost completely put together',\n",
       " 'My bathroom and kitchen are done',\n",
       " \"I've still got boxes in the living             room, dining room and the other 2 bedrooms, but I'm getting there\",\n",
       " \"Tomorrow I'm heading south to Mayo Clinic for a ketamine infusion\",\n",
       " \"I'm pleased it's not an urgent need at this             time, just a regular maintenance dose\",\n",
       " 'Returning to work, getting some exercise, and progressing with my unpacking             have each helped stabilize my mood',\n",
       " \"I'm no longer daily wiping tears from my eyes\",\n",
       " \"In fact, I haven't cried for             several days\",\n",
       " \"That, in and of itself, is quite a feat!             I'm taking my time with unpacking\",\n",
       " \"I'm doing my best to remain patient\",\n",
       " 'Taking the next right action and             maintaining my attitude of gratitude are my focus now',\n",
       " \"It's still hard, but it's not impossible\",\n",
       " 'Settling into my             new home, new routine, and new city will take time',\n",
       " \"I'm keeping that fact forefront in my mind\",\n",
       " 'I can do this',\n",
       " \"But I can't do it all today, nor do I have to\",\n",
       " \"Patiently, I'll get it done\",\n",
       " '']"
      ]
     },
     "metadata": {},
     "execution_count": 12
    }
   ],
   "source": [
    "sentences = [sentence.strip() for sentence in sentences]\n",
    "sentences = [sentence.replace('\\n', '') for sentence in sentences]\n",
    "sentences"
   ]
  },
  {
   "cell_type": "code",
   "execution_count": 7,
   "metadata": {},
   "outputs": [
    {
     "output_type": "execute_result",
     "data": {
      "text/plain": [
       "['\\n            Getting back to work made a difference',\n",
       " ' After 10 days of nothing but the business of moving and all of its \\n            seemingly obligatory messy emotions, it was nice to think of nothing but my patients',\n",
       " ' I worked Wednesday through \\n            Friday, and even with a couple of long days in there, it was a relief to be away from home',\n",
       " ' It was a relief to be \\n            away from unpacking, and contemplating, and deciding',\n",
       " ' It was a pleasure to think about somebody other than myself \\n            for 3 days',\n",
       " ' I needed that',\n",
       " ' \\n            Those 3 days away, combined with a long run/walk/dip into Lake Superior with Jet yesterday, gave me the energy to \\n            unpack nearly my entire basement today',\n",
       " \" I've still got a lot to do, but things are starting to take shape\",\n",
       " ' My \\n            bedroom is almost completely put together',\n",
       " ' My bathroom and kitchen are done',\n",
       " \" I've still got boxes in the living \\n            room, dining room and the other 2 bedrooms, but I'm getting there\",\n",
       " \"\\n            Tomorrow I'm heading south to Mayo Clinic for a ketamine infusion\",\n",
       " \" I'm pleased it's not an urgent need at this \\n            time, just a regular maintenance dose\",\n",
       " ' Returning to work, getting some exercise, and progressing with my unpacking \\n            have each helped stabilize my mood',\n",
       " \" I'm no longer daily wiping tears from my eyes\",\n",
       " \" In fact, I haven't cried for \\n            several days\",\n",
       " \" That, in and of itself, is quite a feat! \\n            I'm taking my time with unpacking\",\n",
       " \" I'm doing my best to remain patient\",\n",
       " ' Taking the next right action and \\n            maintaining my attitude of gratitude are my focus now',\n",
       " \" It's still hard, but it's not impossible\",\n",
       " ' Settling into my \\n            new home, new routine, and new city will take time',\n",
       " \" I'm keeping that fact forefront in my mind\",\n",
       " ' I can do this',\n",
       " \" \\n            But I can't do it all today, nor do I have to\",\n",
       " \" Patiently, I'll get it done\",\n",
       " ' \\n            ']"
      ]
     },
     "metadata": {},
     "execution_count": 7
    }
   ],
   "source": [
    "sentences = blog_post.split('.')\n",
    "sentences"
   ]
  },
  {
   "cell_type": "code",
   "execution_count": 56,
   "metadata": {},
   "outputs": [
    {
     "output_type": "execute_result",
     "data": {
      "text/plain": [
       "                                                 text\n",
       "0              Getting back to work made a difference\n",
       "1   After 10 days of nothing but the business of m...\n",
       "2   I worked Wednesday through             Friday,...\n",
       "3   It was a relief to be             away from un...\n",
       "4   It was a pleasure to think about somebody othe...\n",
       "5                                       I needed that\n",
       "6   Those 3 days away, combined with a long run/wa...\n",
       "7   I've still got a lot to do, but things are sta...\n",
       "8   My             bedroom is almost completely pu...\n",
       "9                    My bathroom and kitchen are done\n",
       "10  I've still got boxes in the living            ...\n",
       "11  Tomorrow I'm heading south to Mayo Clinic for ...\n",
       "12  I'm pleased it's not an urgent need at this   ...\n",
       "13  Returning to work, getting some exercise, and ...\n",
       "14      I'm no longer daily wiping tears from my eyes\n",
       "15  In fact, I haven't cried for             sever...\n",
       "16  That, in and of itself, is quite a feat!      ...\n",
       "17                I'm doing my best to remain patient\n",
       "18  Taking the next right action and             m...\n",
       "19           It's still hard, but it's not impossible\n",
       "20  Settling into my             new home, new rou...\n",
       "21         I'm keeping that fact forefront in my mind\n",
       "22                                      I can do this\n",
       "23      But I can't do it all today, nor do I have to\n",
       "24                        Patiently, I'll get it done\n",
       "25                                                   "
      ],
      "text/html": "<div>\n<style scoped>\n    .dataframe tbody tr th:only-of-type {\n        vertical-align: middle;\n    }\n\n    .dataframe tbody tr th {\n        vertical-align: top;\n    }\n\n    .dataframe thead th {\n        text-align: right;\n    }\n</style>\n<table border=\"1\" class=\"dataframe\">\n  <thead>\n    <tr style=\"text-align: right;\">\n      <th></th>\n      <th>text</th>\n    </tr>\n  </thead>\n  <tbody>\n    <tr>\n      <th>0</th>\n      <td>Getting back to work made a difference</td>\n    </tr>\n    <tr>\n      <th>1</th>\n      <td>After 10 days of nothing but the business of m...</td>\n    </tr>\n    <tr>\n      <th>2</th>\n      <td>I worked Wednesday through             Friday,...</td>\n    </tr>\n    <tr>\n      <th>3</th>\n      <td>It was a relief to be             away from un...</td>\n    </tr>\n    <tr>\n      <th>4</th>\n      <td>It was a pleasure to think about somebody othe...</td>\n    </tr>\n    <tr>\n      <th>5</th>\n      <td>I needed that</td>\n    </tr>\n    <tr>\n      <th>6</th>\n      <td>Those 3 days away, combined with a long run/wa...</td>\n    </tr>\n    <tr>\n      <th>7</th>\n      <td>I've still got a lot to do, but things are sta...</td>\n    </tr>\n    <tr>\n      <th>8</th>\n      <td>My             bedroom is almost completely pu...</td>\n    </tr>\n    <tr>\n      <th>9</th>\n      <td>My bathroom and kitchen are done</td>\n    </tr>\n    <tr>\n      <th>10</th>\n      <td>I've still got boxes in the living            ...</td>\n    </tr>\n    <tr>\n      <th>11</th>\n      <td>Tomorrow I'm heading south to Mayo Clinic for ...</td>\n    </tr>\n    <tr>\n      <th>12</th>\n      <td>I'm pleased it's not an urgent need at this   ...</td>\n    </tr>\n    <tr>\n      <th>13</th>\n      <td>Returning to work, getting some exercise, and ...</td>\n    </tr>\n    <tr>\n      <th>14</th>\n      <td>I'm no longer daily wiping tears from my eyes</td>\n    </tr>\n    <tr>\n      <th>15</th>\n      <td>In fact, I haven't cried for             sever...</td>\n    </tr>\n    <tr>\n      <th>16</th>\n      <td>That, in and of itself, is quite a feat!      ...</td>\n    </tr>\n    <tr>\n      <th>17</th>\n      <td>I'm doing my best to remain patient</td>\n    </tr>\n    <tr>\n      <th>18</th>\n      <td>Taking the next right action and             m...</td>\n    </tr>\n    <tr>\n      <th>19</th>\n      <td>It's still hard, but it's not impossible</td>\n    </tr>\n    <tr>\n      <th>20</th>\n      <td>Settling into my             new home, new rou...</td>\n    </tr>\n    <tr>\n      <th>21</th>\n      <td>I'm keeping that fact forefront in my mind</td>\n    </tr>\n    <tr>\n      <th>22</th>\n      <td>I can do this</td>\n    </tr>\n    <tr>\n      <th>23</th>\n      <td>But I can't do it all today, nor do I have to</td>\n    </tr>\n    <tr>\n      <th>24</th>\n      <td>Patiently, I'll get it done</td>\n    </tr>\n    <tr>\n      <th>25</th>\n      <td></td>\n    </tr>\n  </tbody>\n</table>\n</div>"
     },
     "metadata": {},
     "execution_count": 56
    }
   ],
   "source": [
    "df = pd.DataFrame(sentences,columns = ['text'])\n",
    "df"
   ]
  },
  {
   "cell_type": "code",
   "execution_count": 53,
   "metadata": {},
   "outputs": [
    {
     "output_type": "stream",
     "name": "stdout",
     "text": [
      "Getting back to work made a difference {'Happy': 0.0, 'Angry': 0.0, 'Surprise': 0.0, 'Sad': 0.5, 'Fear': 0.5}\n",
      "After 10 days of nothing but the business of moving and all of its             seemingly obligatory messy emotions, it was nice to think of nothing but my patients {'Happy': 0.4, 'Angry': 0.0, 'Surprise': 0.2, 'Sad': 0.2, 'Fear': 0.2}\n",
      "I worked Wednesday through             Friday, and even with a couple of long days in there, it was a relief to be away from home {'Happy': 0.17, 'Angry': 0.17, 'Surprise': 0.0, 'Sad': 0.17, 'Fear': 0.5}\n",
      "It was a relief to be             away from unpacking, and contemplating, and deciding {'Happy': 0.0, 'Angry': 0.33, 'Surprise': 0.0, 'Sad': 0.0, 'Fear': 0.67}\n",
      "It was a pleasure to think about somebody other than myself             for 3 days {'Happy': 0.67, 'Angry': 0.0, 'Surprise': 0.33, 'Sad': 0.0, 'Fear': 0.0}\n",
      "I needed that {'Happy': 0, 'Angry': 0, 'Surprise': 0, 'Sad': 0, 'Fear': 0}\n",
      "Those 3 days away, combined with a long run/walk/dip into Lake Superior with Jet yesterday, gave me the energy to             unpack nearly my entire basement today {'Happy': 0.17, 'Angry': 0.17, 'Surprise': 0.0, 'Sad': 0.0, 'Fear': 0.67}\n",
      "I've still got a lot to do, but things are starting to take shape {'Happy': 0.0, 'Angry': 0.0, 'Surprise': 0.5, 'Sad': 0.5, 'Fear': 0.0}\n",
      "My             bedroom is almost completely put together {'Happy': 0.0, 'Angry': 0.0, 'Surprise': 0.0, 'Sad': 1.0, 'Fear': 0.0}\n",
      "My bathroom and kitchen are done {'Happy': 0, 'Angry': 0, 'Surprise': 0, 'Sad': 0, 'Fear': 0}\n",
      "I've still got boxes in the living             room, dining room and the other 2 bedrooms, but I'm getting there {'Happy': 0.0, 'Angry': 0.0, 'Surprise': 0.0, 'Sad': 0.0, 'Fear': 1.0}\n",
      "Tomorrow I'm heading south to Mayo Clinic for a ketamine infusion {'Happy': 0.0, 'Angry': 0.0, 'Surprise': 0.0, 'Sad': 0.0, 'Fear': 1.0}\n",
      "I'm pleased it's not an urgent need at this             time, just a regular maintenance dose {'Happy': 0.0, 'Angry': 0.0, 'Surprise': 0.0, 'Sad': 1.0, 'Fear': 0.0}\n",
      "Returning to work, getting some exercise, and progressing with my unpacking             have each helped stabilize my mood {'Happy': 0.0, 'Angry': 0.0, 'Surprise': 0.25, 'Sad': 0.5, 'Fear': 0.25}\n",
      "I'm no longer daily wiping tears from my eyes {'Happy': 0.0, 'Angry': 0.0, 'Surprise': 0.0, 'Sad': 1.0, 'Fear': 0.0}\n",
      "In fact, I haven't cried for             several days {'Happy': 1.0, 'Angry': 0.0, 'Surprise': 0.0, 'Sad': 0.0, 'Fear': 0.0}\n",
      "That, in and of itself, is quite a feat!             I'm taking my time with unpacking {'Happy': 0.0, 'Angry': 0.0, 'Surprise': 1.0, 'Sad': 0.0, 'Fear': 0.0}\n",
      "I'm doing my best to remain patient {'Happy': 0.0, 'Angry': 0.0, 'Surprise': 1.0, 'Sad': 0.0, 'Fear': 0.0}\n",
      "Taking the next right action and             maintaining my attitude of gratitude are my focus now {'Happy': 0.0, 'Angry': 0.0, 'Surprise': 0.2, 'Sad': 0.2, 'Fear': 0.6}\n",
      "It's still hard, but it's not impossible {'Happy': 0.0, 'Angry': 1.0, 'Surprise': 0.0, 'Sad': 0.0, 'Fear': 0.0}\n",
      "Settling into my             new home, new routine, and new city will take time {'Happy': 0.0, 'Angry': 0.0, 'Surprise': 0.0, 'Sad': 1.0, 'Fear': 0.0}\n",
      "I'm keeping that fact forefront in my mind {'Happy': 0.0, 'Angry': 0.0, 'Surprise': 1.0, 'Sad': 0.0, 'Fear': 0.0}\n",
      "I can do this {'Happy': 0, 'Angry': 0, 'Surprise': 0, 'Sad': 0, 'Fear': 0}\n",
      "But I can't do it all today, nor do I have to {'Happy': 0.0, 'Angry': 0.0, 'Surprise': 0.0, 'Sad': 1.0, 'Fear': 0.0}\n",
      "Patiently, I'll get it done {'Happy': 0, 'Angry': 0, 'Surprise': 0, 'Sad': 0, 'Fear': 0}\n",
      " {'Happy': 0, 'Angry': 0, 'Surprise': 0, 'Sad': 0, 'Fear': 0}\n"
     ]
    }
   ],
   "source": [
    "for i, row in df.iterrows():\n",
    "     print(row.text, te.get_emotion(row.text))"
   ]
  },
  {
   "cell_type": "code",
   "execution_count": 57,
   "metadata": {},
   "outputs": [],
   "source": [
    "df['Happy'] = [te.get_emotion(text)['Happy'] for text in df.text]\n",
    "df['Angry'] = [te.get_emotion(text)['Angry'] for text in df.text]\n",
    "df['Surprise'] = [te.get_emotion(text)['Surprise'] for text in df.text]\n",
    "df['Sad'] = [te.get_emotion(text)['Sad'] for text in df.text]\n",
    "df['Fear'] = [te.get_emotion(text)['Fear'] for text in df.text]"
   ]
  },
  {
   "cell_type": "code",
   "execution_count": 66,
   "metadata": {},
   "outputs": [
    {
     "output_type": "stream",
     "name": "stdout",
     "text": [
      "In fact, I haven't cried for             several days\n",
      "It was a pleasure to think about somebody other than myself             for 3 days\n",
      "After 10 days of nothing but the business of moving and all of its             seemingly obligatory messy emotions, it was nice to think of nothing but my patients\n"
     ]
    }
   ],
   "source": [
    "#happy\n",
    "for i, text in df.sort_values(by='Happy', ascending=False)[:3].text.iteritems():\n",
    "    print(text)"
   ]
  },
  {
   "cell_type": "code",
   "execution_count": 67,
   "metadata": {},
   "outputs": [
    {
     "output_type": "stream",
     "name": "stdout",
     "text": [
      "It's still hard, but it's not impossible\n",
      "It was a relief to be             away from unpacking, and contemplating, and deciding\n",
      "I worked Wednesday through             Friday, and even with a couple of long days in there, it was a relief to be away from home\n"
     ]
    }
   ],
   "source": [
    "#angry\n",
    "for i, text in df.sort_values(by='Angry', ascending=False)[:3].text.iteritems():\n",
    "    print(text)"
   ]
  },
  {
   "cell_type": "code",
   "execution_count": 68,
   "metadata": {},
   "outputs": [
    {
     "output_type": "stream",
     "name": "stdout",
     "text": [
      "But I can't do it all today, nor do I have to\n",
      "Settling into my             new home, new routine, and new city will take time\n",
      "I'm no longer daily wiping tears from my eyes\n"
     ]
    }
   ],
   "source": [
    "#sad\n",
    "for i, text in df.sort_values(by='Sad', ascending=False)[:3].text.iteritems():\n",
    "    print(text)"
   ]
  },
  {
   "cell_type": "code",
   "execution_count": 1,
   "metadata": {},
   "outputs": [
    {
     "output_type": "error",
     "ename": "NameError",
     "evalue": "name 'df' is not defined",
     "traceback": [
      "\u001b[1;31m---------------------------------------------------------------------------\u001b[0m",
      "\u001b[1;31mNameError\u001b[0m                                 Traceback (most recent call last)",
      "\u001b[1;32m<ipython-input-1-e50ae1afb268>\u001b[0m in \u001b[0;36m<module>\u001b[1;34m\u001b[0m\n\u001b[0;32m      1\u001b[0m \u001b[1;31m#fear\u001b[0m\u001b[1;33m\u001b[0m\u001b[1;33m\u001b[0m\u001b[1;33m\u001b[0m\u001b[0m\n\u001b[1;32m----> 2\u001b[1;33m \u001b[1;32mfor\u001b[0m \u001b[0mi\u001b[0m\u001b[1;33m,\u001b[0m \u001b[0mtext\u001b[0m \u001b[1;32min\u001b[0m \u001b[0mdf\u001b[0m\u001b[1;33m.\u001b[0m\u001b[0msort_values\u001b[0m\u001b[1;33m(\u001b[0m\u001b[0mby\u001b[0m\u001b[1;33m=\u001b[0m\u001b[1;34m'Fear'\u001b[0m\u001b[1;33m,\u001b[0m \u001b[0mascending\u001b[0m\u001b[1;33m=\u001b[0m\u001b[1;32mFalse\u001b[0m\u001b[1;33m)\u001b[0m\u001b[1;33m[\u001b[0m\u001b[1;33m:\u001b[0m\u001b[1;36m3\u001b[0m\u001b[1;33m]\u001b[0m\u001b[1;33m.\u001b[0m\u001b[0mtext\u001b[0m\u001b[1;33m.\u001b[0m\u001b[0miteritems\u001b[0m\u001b[1;33m(\u001b[0m\u001b[1;33m)\u001b[0m\u001b[1;33m:\u001b[0m\u001b[1;33m\u001b[0m\u001b[1;33m\u001b[0m\u001b[0m\n\u001b[0m\u001b[0;32m      3\u001b[0m     \u001b[0mprint\u001b[0m\u001b[1;33m(\u001b[0m\u001b[0mtext\u001b[0m\u001b[1;33m)\u001b[0m\u001b[1;33m\u001b[0m\u001b[1;33m\u001b[0m\u001b[0m\n",
      "\u001b[1;31mNameError\u001b[0m: name 'df' is not defined"
     ]
    }
   ],
   "source": [
    "#fear\n",
    "for i, text in df.sort_values(by='Fear', ascending=False)[:3].text.iteritems():\n",
    "    print(text)"
   ]
  },
  {
   "cell_type": "code",
   "execution_count": null,
   "metadata": {},
   "outputs": [],
   "source": []
  }
 ]
}