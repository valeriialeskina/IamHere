{
 "metadata": {
  "language_info": {
   "codemirror_mode": {
    "name": "ipython",
    "version": 3
   },
   "file_extension": ".py",
   "mimetype": "text/x-python",
   "name": "python",
   "nbconvert_exporter": "python",
   "pygments_lexer": "ipython3",
   "version": "3.9.5"
  },
  "orig_nbformat": 4,
  "kernelspec": {
   "name": "python3",
   "display_name": "Python 3.9.5 64-bit (windows store)"
  },
  "interpreter": {
   "hash": "08bcf114b6799a788c3e4c5366ee28d230c9527aecb5fe8828812464fcb419b7"
  }
 },
 "nbformat": 4,
 "nbformat_minor": 2,
 "cells": [
  {
   "source": [
    "# Context with Text2Emotions API"
   ],
   "cell_type": "markdown",
   "metadata": {}
  },
  {
   "cell_type": "code",
   "execution_count": 37,
   "metadata": {},
   "outputs": [],
   "source": [
    "# import packages\n",
    "import re\n",
    "import pandas as pd\n",
    "import numpy as np\n",
    "import pickle\n",
    "import sys\n",
    "sys.path.append('../')\n",
    "import text2emotion as te\n",
    "import nltk\n",
    "from rake_nltk import Rake"
   ]
  },
  {
   "cell_type": "code",
   "execution_count": 38,
   "metadata": {},
   "outputs": [
    {
     "output_type": "stream",
     "name": "stderr",
     "text": [
      "<ipython-input-38-0891b765a168>:1: FutureWarning: Passing a negative integer is deprecated in version 1.0 and will not be supported in future version. Instead, use None to not limit the column width.\n  pd.set_option('display.max_colwidth', -1)\n"
     ]
    }
   ],
   "source": [
    "pd.set_option('display.max_colwidth', -1)"
   ]
  },
  {
   "cell_type": "code",
   "execution_count": 39,
   "metadata": {},
   "outputs": [],
   "source": [
    "# install API\n",
    "# !pip install text2emotion"
   ]
  },
  {
   "cell_type": "code",
   "execution_count": 40,
   "metadata": {},
   "outputs": [
    {
     "output_type": "execute_result",
     "data": {
      "text/plain": [
       "(199, 3)"
      ]
     },
     "metadata": {},
     "execution_count": 40
    }
   ],
   "source": [
    "# import cleaned pck \n",
    "data = pd.read_pickle(r'C:/Users/deniz/OneDrive/Dokumente/GitHub/IamHere/data/depression_marathon_df_final.pkl')\n",
    "data.shape"
   ]
  },
  {
   "cell_type": "code",
   "execution_count": 41,
   "metadata": {},
   "outputs": [
    {
     "output_type": "execute_result",
     "data": {
      "text/plain": [
       "                           header       date  \\\n",
       "0  The trigger question           2019-05-12   \n",
       "1  Results                        2019-03-04   \n",
       "2  The disintegration of my brain 2019-03-17   \n",
       "3  Spam                           2019-04-02   \n",
       "4  She would have been 50         2019-03-29   \n",
       "\n",
       "                                                                                                                                                                                                                                                                                                                                                                                                                                                                                                                                                                                                                                                                                                                                                                                                                                                                                                                                                                                                                                                                                                                                                                                                                                                                                                                                                                                                                                                                                                                                                                                                                                                                                                                                                                                                                                                                                                                                                                                                                                                                                                                                                                                                                                                                                                                                                                                                                                                                                                                                                                                                                                                                                                                                                                                                                                                                                                                                                                                                                                                                                                                                                                                                                                                                                                                                                                                                                                                                                                                                                                                                                                                                                                                                                                                                                                                                                                                                                                                                                                                                                                                                                                                                                                                                                                                                                                                                                                                                                                                                                                                                                                                                                                                                                                                                                                                                                                                                                                                                                                                                                                                                                                                                                                                                                                                                                                                                                                                                                                                                                                                                                                                                                                                                                                                                                                                                                                                                                                                                                                                                                                                                                                                                                                                                                                                                                                        full_text  \n",
       "0  I've been meaning to write for 4 or 5 days, but I'm not feeling all that inspirational or interesting right now. I'm getting back into the routines of my life as best I can. Things still aren't as honky dory as they were prior to my recent depression relapse, but I'm functional. I'd like to be feeling 100% better. I'd like to be as free and light as I was just 2 months ago, but I'm not quite there yet.\\n\\n\\n\\nI'm not quite humming along, but I think I'm moving in the right direction. I'm working close to my normal schedule. Unfortunately, we are really slow right now so I've had to take some extra, unwanted time off. I still get really tired after a full work day, though, so maybe working a little less is still for the best. Regardless, I'm looking forward to resuming my regular schedule.\\n\\n\\n\\nI'm in the process of resuming my normal exercise schedule and intensity as well. I'm happy and extremely grateful to report I've been able to run 2-4 days per week for the last couple of weeks. I'm super slow, and I'm not running very far, but my Achilles tendons are hanging in there. Every time I run I feel an overwhelming sense of joy, gratitude and relief.\\n\\n\\n\\nUnfortunately, every run also brings a bit of fear, as I'm constantly waiting for one of my Achilles tendons to flare. I'm running so cautiously I feel like I'm tip-toeing down the road. But so far so good. One thing is for certain, I am not taking being able to run for granted. I'm doing everything in my power to keep my Achilles tendons healthy so I may continue to feel the overwhelming joy, relief and gratitude which only running provides me.\\n\\n\\n\\nThey say we really don't appreciate what we have until it's lost. I can now verify the truth behind that statement. Even though I'm getting back to my routines, I still feel the sting from the losses of my mental wellness, high level of functioning, and running. Of course, I do myself no good staying stuck in the losses. Instead I must continue to diligently put one foot in front of the other, which is what I'm currently trying to do.\\n\\n\\n\\nOne foot at a time, I'm doing my best to move forward and regain my momentum. What was lost certainly hasn't returned as quickly as it disappeared. In fact, it's taking a lot longer than I would like. And the work required isn't always enjoyable. Life could be kinder, easier, or more fair, but it's not. It's not. Nevertheless, getting my life back is, for now, worth the effort. From past experience I know the results will be realized, eventually, if I continue to do the work. I'm trying to be patient.                                                                                                                                                                                                                                                                                                                                                                                                                                                                                                                                                                                                                                                                                                                                                                                                                                                                                                                                                                                                                                                                                                                                                                                                                                                                                                                                                                                                                                                                                                                                                                                                                                                                                                                                                                                                                                                                                                                                                                                                                                                                                                                                                                                                                                                                                                                                                                                                                                                                                                                                                                                                                                                                                                                                                                                                                                                                                                                                                                                                                                                                                                                                                                                                                                                                                                                                                                                                                                                                                                                                                                                                                                                                                      \n",
       "1  Here's one symptom not mentioned in the Diagnostic and Statistical Manual used to diagnose depression, total blackout. In speaking with friends and coworkers I've become aware that I remember little to nothing from approximately February 20th through my first inpatient day on February 28th. I've been reconstructing things based on their accounts and by reviewing my texts, e-mails, and blog posts. It's pretty frightening.\\n\\n\\n\\nFor example, it was frightening to be told by a coworker that she came to visit one evening. \"Remember,\" she said, \"you wrote a blog post about it.\" Really? I checked. Sure enough, there was a blog post about my coworker coming to visit and giving me a hug. I don't remember that.\\n\\n\\n\\nWorse, in that same blog post I wrote about going for a drive in the dark. Nothing. I don't remember that at all. I wonder where I went, how long I was gone, or if I even locked my house? Who knows, maybe I didn't even shut the door! Going for a drive, completely sober of course, and having no recollection of it really scares me. How does that happen?\\n\\n\\n\\nI still don't know how it happened. So I'm trying to piece together the last week of February, 2019, so I at least have an idea of what occurred. One thing is certain, I went downhill fast! That scares me, too.\\n\\n\\n\\nThere's unfortunately another thing which has become quite clear. During the last week of February I scared the crap out of my friends and coworkers. That makes me sad. Every single person who has talked to me in the last 14 days talked about how frightened they were. I hated hearing that. They tried everything, it seems, to get me into the hospital earlier, but I wouldn't go. I'm sorry about that.\\n\\n\\n\\nIt seems things got so messy and so ugly so fast I was just lost. I hate that I scared people. I hate that they were worried they would wake up to hear I was dead. As I reconstruct what happened, I get it. I should have been scared, too. I wasn't, I guess, but now I feel sick to have worried them so much.\\n\\n\\n\\nThis episode was, and kind of still is, a very scary dive into depression. It was fast, and aggressive, and obviously too much for my brain. I couldn't even form memories! It's still mostly a blur. My broken brain seems to have taken a rocket ship into the black hole over a period of 7 or 8 days. I was sick.\\n\\n\\n\\nWhen I'm not well, at times like this, my friend Wendy always says, \"I hate your sick brain!\" Me, too, Wendy. Me, too. I'm sorry my sick brain and I frightened people.                                                                                                                                                                                                                                                                                                                                                                                                                                                                                                                                                                                                                                                                                                                                                                                                                                                                                                                                                                                                                                                                                                                                                                                                                                                                                                                                                                                                                                                                                                                                                                                                                                                                                                                                                                                                                                                                                                                                                                                                                                                                                                                                                                                                                                                                                                                                                                                                                                                                                                                                                                                                                                                                                                                                                                                                                                                                                                                                                                                                                                                                                                                                                                                                                                                                                                                                                                                                                                                                                                                                                                                                                                                                                                                                                                      \n",
       "2  I'm back home. I left the hospital yesterday. I had a total of 4 Ketamine infusions over the course of my 17 days there. Seventeen days and 4 infusions later, I'd say I'm at about 65% of my baseline. That's a lot of time and effort for 65%. That's a lot of missed life for 65%. I'm frustrated.\\n\\n\\n\\nYes, I'm happy I'm no longer at minus 65%, but I know I could have gotten more out of this hospitalization than I did, and that's frustrating. The problem was not with the unit (which was comfortable and safe), the nursing staff (who were absolutely incredible as usual) or even the programming (though I've been through it multiple times). Each of those things contributed to improving my mood, but they could only take it so far. I needed more intervention than that.\\n\\n\\n\\nUnfortunately, the intervention which was decided upon, the reason I went to the hospital at all, Ketamine, was carried out in an unplanned, fly-by-the-seat-of-our pants method. The problem was my inpatient MD. He knows me well from previous hospitalizations, but I guess we just aren't a good fit. He seems to have me packed tightly in a box from which I cannot escape.\\n\\n\\n\\nNo matter how hard I try, no matter the objective proof to the contrary, this MD just can't imagine me as anything but a baseline sad, suicidal, dysthymic, moderately functional, friend-less, solitary being. And that did nothing to improve our relationship with each other or of his treatment plan for me.\\n\\n\\n\\nHis bias against, or lack of complete knowledge of Ketamine was also transparent from day one. During my previous treatment with Ketamine (different doctor and during a clinical trial) I received 3 doses of Ketamine in the first 7 days and then one dose per week for 4 weeks. The total of 7 infusions, with those first 3 every other day, worked like a miracle. It worked for 18 months! Yet there was no attempt made to follow that plan this time. There was no plan at all.\\n\\n\\n\\nFrom day one, inpatient MD scheduled one infusion at a time, and since Mayo Clinic only does one infusion per day (yes, you read that correctly), by the time he decided to schedule another infusion, the schedule was already full for the week. Luckily, there were some cancellations in there, but the haphazard timing didn't do me any favors, in my humble opinion. Not only, perhaps, was the varying schedule not clinically as impactful as it could have been, but the randomness of it was also incredibly stressful.\\n\\n\\n\\nMD rounds were difficult and anxiety provoking. I never knew what was going to happen next. For example, when I gave the MD feedback that I wasn't feeling better after an infusion he suggested we should stop the infusions because they obviously weren't working. Yet, when I gave him feedback that my mood improved following an infusion, he suggested we stop the infusions because I was better. This happened after every single infusion. There was no commitment to a plan. There was no plan, period, and the constant threat of pulling the plug on Ketamine, with no alternative plan suggested, left me feeling helpless and hopeless.\\n\\n\\n\\nI expended an awful lot of energy advocating for myself, which was stressful and exhausting. I felt like I was always on the defensive during MD rounds. This did nothing to change Mr. MD's perception of me as some sort of difficult patient whose self reports he didn't appear to trust. The more I advocated, the more it seemed to reinforce his opinion of me in that box. It was like a boxing match where I had no chance of even landing a blow. Nothing I said or did mattered. And there still was no plan!\\n\\n\\n\\nFortunately, the two doctors with whom I had contact over the weekends helped immensely. For example, inpatient MD felt we should stop the infusions after I sobbed through the second one because, he told me, obviously the infusions were making me worse rather than better. That statement led to a lot more sobbing, as it crushed any hope I had of getting better. It terrified me. And when I asked what we would do if we quit Ketamine, inpatient MD offered no plan. Turns out, it was an inaccurate statement, but I didn't know that until 24 hours later.\\n\\n\\n\\nTwenty four hours later the weekend MD explained the various responses a patient may have during and after a Ketamine infusion, something which had not been explained previously. He noted sobbing through one infusion did not mean it was a failure. He told me in light of the fact I had been tearful prior to the second infusion it made perfect sense to him that the Ketamine might have caused me to sob during the infusion. Nothing to worry about, he said. It did not mean the Ketamine wasn't going to work.\\n\\n\\n\\nThe second weekend MD, with whom I met yesterday, entered my room with a big smile and said, \"There's one of my favorite distance runners in Rochester.\" Even though I had no recollection of him, he knew who I was from sharing the roads and races with me over the years. He even remembered me running with my previous lab, Puck. He didn't have to be convinced, he knew I was a fully functioning, happy human being outside of the hospital. That made all the difference in the world.\\n\\n\\n\\nI'm happy to be home. But I'm also a little concerned to be home, as I don't know what to expect. I'd certainly like to be feeling better than 65 percent. My worst fear is my mood will slide again. Actually, my worst fear is my mood will slide so far as to render me hospitalizable again. But I don't feel I can go back there.\\n\\n\\n\\nFeeling like the hospital isn't a great option is daunting. It puts pressure on me to continue pushing through, regardless of how I feel. But I can't go back there and continue to do battle with a doctor who I don't believe believes in me. I can't take more time away from my life without a definitive plan to get me back to baseline.\\n\\n\\n\\nBaseline: happy with the life I've built, grateful, active and energetic, loving and kind, generous, reliable, competent, fun, sometimes downright silly, 100% functional, and with many supportive friends and coworkers. That's who I am. That's who I want to be again.  \n",
       "3  He says, \"But we grow stronger when we break.\" As broken as I am right now, I'm not so sure about that. I hope he's right.                                                                                                                                                                                                                                                                                                                                                                                                                                                                                                                                                                                                                                                                                                                                                                                                                                                                                                                                                                                                                                                                                                                                                                                                                                                                                                                                                                                                                                                                                                                                                                                                                                                                                                                                                                                                                                                                                                                                                                                                                                                                                                                                                                                                                                                                                                                                                                                                                                                                                                                                                                                                                                                                                                                                                                                                                                                                                                                                                                                                                                                                                                                                                                                                                                                                                                                                                                                                                                                                                                                                                                                                                                                                                                                                                                                                                                                                                                                                                                                                                                                                                                                                                                                                                                                                                                                                                                                                                                                                                                                                                                                                                                                                                                                                                                                                                                                                                                                                                                                                                                                                                                                                                                                                                                                                                                                                                                                                                                                                                                                                                                                                                                                                                                                                                                                                                                                                                                                                                                                                                                                                                                                                                                                                                                                      \n",
       "4  I didn't mean to do it, but I stepped into the middle of something at work today. In an effort to assist a coworker, thinking only of helping the coworker, I inadvertently created an issue which went all the way to the top brass of my facility. In deference to the coworker and other staff at my facility I don't want to say too much about the specific situation, but I'm going to try to process my thoughts anyway.\\n\\n\\n\\nBasically, in doing what I did, I created something bigger than I anticipated. It never crossed my mind that what happened would happen, and perhaps that's what I'm most concerned about. I didn't think things through.\\n\\n\\n\\nTo be clear, I don't think I did anything wrong. I was concerned about another staff person, and based on my observations and a bit of clinical data, I rendered an opinion about what should be done. And what I thought should be done was quite simple. Problem solved, or so I thought.\\n\\n\\n\\nMy opinion started a ball rolling, which is what I had hoped for, but the ball didn't stop. That's the part I didn't anticipate. The ball knocked through one person after another, as if they were bowling pins, and didn't come to rest until it reached the director of the facility. The director of the facility then questioned whether I was qualified to form the opinion I formed. She wasn't happy. She didn't say she wasn't happy, but I'm not a dope. She wasn't happy.\\n\\n\\n\\nMy simple fix wasn't as black and white as I thought. My opinion created work for others, and my opinion went against the opinions of other staff people who are more directly involved with the person I was concerned about. There were many layers to the issue, and I feel I should have anticipated those layers prior to the director visiting me in my office. But I didn't, and as soon as the director left my office I began to panic and second guess myself. I've yet to stop.\\n\\n\\n\\nI'm still worried. I don't like making waves, especially if I have no business getting in the pool! Did I do the right thing? Did I have any business rendering an opinion? Was this an issue in which I needed to get involved? I'm still not sure. My gut feeling isn't good.\\n\\n\\n\\nIt's a difficult situation, and I don't like that I stepped into the middle of it without thinking through the ramifications of my involvement. I didn't intend to create extra work for anyone else in the facility, and I didn't intend to devalue or discredit anyone by rendering a different opinion, but perhaps I should have anticipated the potential of both consequences prior to sticking my nose into the mix.                                                                                                                                                                                                                                                                                                                                                                                                                                                                                                                                                                                                                                                                                                                                                                                                                                                                                                                                                                                                                                                                                                                                                                                                                                                                                                                                                                                                                                                                                                                                                                                                                                                                                                                                                                                                                                                                                                                                                                                                                                                                                                                                                                                                                                                                                                                                                                                                                                                                                                                                                                                                                                                                                                                                                                                                                                                                                                                                                                                                                                                                                                                                                                                                                                                                                                                                                                                                                                                                                                                                                                                                                                                                                     "
      ],
      "text/html": "<div>\n<style scoped>\n    .dataframe tbody tr th:only-of-type {\n        vertical-align: middle;\n    }\n\n    .dataframe tbody tr th {\n        vertical-align: top;\n    }\n\n    .dataframe thead th {\n        text-align: right;\n    }\n</style>\n<table border=\"1\" class=\"dataframe\">\n  <thead>\n    <tr style=\"text-align: right;\">\n      <th></th>\n      <th>header</th>\n      <th>date</th>\n      <th>full_text</th>\n    </tr>\n  </thead>\n  <tbody>\n    <tr>\n      <th>0</th>\n      <td>The trigger question</td>\n      <td>2019-05-12</td>\n      <td>I've been meaning to write for 4 or 5 days, but I'm not feeling all that inspirational or interesting right now. I'm getting back into the routines of my life as best I can. Things still aren't as honky dory as they were prior to my recent depression relapse, but I'm functional. I'd like to be feeling 100% better. I'd like to be as free and light as I was just 2 months ago, but I'm not quite there yet.\\n\\n\\n\\nI'm not quite humming along, but I think I'm moving in the right direction. I'm working close to my normal schedule. Unfortunately, we are really slow right now so I've had to take some extra, unwanted time off. I still get really tired after a full work day, though, so maybe working a little less is still for the best. Regardless, I'm looking forward to resuming my regular schedule.\\n\\n\\n\\nI'm in the process of resuming my normal exercise schedule and intensity as well. I'm happy and extremely grateful to report I've been able to run 2-4 days per week for the last couple of weeks. I'm super slow, and I'm not running very far, but my Achilles tendons are hanging in there. Every time I run I feel an overwhelming sense of joy, gratitude and relief.\\n\\n\\n\\nUnfortunately, every run also brings a bit of fear, as I'm constantly waiting for one of my Achilles tendons to flare. I'm running so cautiously I feel like I'm tip-toeing down the road. But so far so good. One thing is for certain, I am not taking being able to run for granted. I'm doing everything in my power to keep my Achilles tendons healthy so I may continue to feel the overwhelming joy, relief and gratitude which only running provides me.\\n\\n\\n\\nThey say we really don't appreciate what we have until it's lost. I can now verify the truth behind that statement. Even though I'm getting back to my routines, I still feel the sting from the losses of my mental wellness, high level of functioning, and running. Of course, I do myself no good staying stuck in the losses. Instead I must continue to diligently put one foot in front of the other, which is what I'm currently trying to do.\\n\\n\\n\\nOne foot at a time, I'm doing my best to move forward and regain my momentum. What was lost certainly hasn't returned as quickly as it disappeared. In fact, it's taking a lot longer than I would like. And the work required isn't always enjoyable. Life could be kinder, easier, or more fair, but it's not. It's not. Nevertheless, getting my life back is, for now, worth the effort. From past experience I know the results will be realized, eventually, if I continue to do the work. I'm trying to be patient.</td>\n    </tr>\n    <tr>\n      <th>1</th>\n      <td>Results</td>\n      <td>2019-03-04</td>\n      <td>Here's one symptom not mentioned in the Diagnostic and Statistical Manual used to diagnose depression, total blackout. In speaking with friends and coworkers I've become aware that I remember little to nothing from approximately February 20th through my first inpatient day on February 28th. I've been reconstructing things based on their accounts and by reviewing my texts, e-mails, and blog posts. It's pretty frightening.\\n\\n\\n\\nFor example, it was frightening to be told by a coworker that she came to visit one evening. \"Remember,\" she said, \"you wrote a blog post about it.\" Really? I checked. Sure enough, there was a blog post about my coworker coming to visit and giving me a hug. I don't remember that.\\n\\n\\n\\nWorse, in that same blog post I wrote about going for a drive in the dark. Nothing. I don't remember that at all. I wonder where I went, how long I was gone, or if I even locked my house? Who knows, maybe I didn't even shut the door! Going for a drive, completely sober of course, and having no recollection of it really scares me. How does that happen?\\n\\n\\n\\nI still don't know how it happened. So I'm trying to piece together the last week of February, 2019, so I at least have an idea of what occurred. One thing is certain, I went downhill fast! That scares me, too.\\n\\n\\n\\nThere's unfortunately another thing which has become quite clear. During the last week of February I scared the crap out of my friends and coworkers. That makes me sad. Every single person who has talked to me in the last 14 days talked about how frightened they were. I hated hearing that. They tried everything, it seems, to get me into the hospital earlier, but I wouldn't go. I'm sorry about that.\\n\\n\\n\\nIt seems things got so messy and so ugly so fast I was just lost. I hate that I scared people. I hate that they were worried they would wake up to hear I was dead. As I reconstruct what happened, I get it. I should have been scared, too. I wasn't, I guess, but now I feel sick to have worried them so much.\\n\\n\\n\\nThis episode was, and kind of still is, a very scary dive into depression. It was fast, and aggressive, and obviously too much for my brain. I couldn't even form memories! It's still mostly a blur. My broken brain seems to have taken a rocket ship into the black hole over a period of 7 or 8 days. I was sick.\\n\\n\\n\\nWhen I'm not well, at times like this, my friend Wendy always says, \"I hate your sick brain!\" Me, too, Wendy. Me, too. I'm sorry my sick brain and I frightened people.</td>\n    </tr>\n    <tr>\n      <th>2</th>\n      <td>The disintegration of my brain</td>\n      <td>2019-03-17</td>\n      <td>I'm back home. I left the hospital yesterday. I had a total of 4 Ketamine infusions over the course of my 17 days there. Seventeen days and 4 infusions later, I'd say I'm at about 65% of my baseline. That's a lot of time and effort for 65%. That's a lot of missed life for 65%. I'm frustrated.\\n\\n\\n\\nYes, I'm happy I'm no longer at minus 65%, but I know I could have gotten more out of this hospitalization than I did, and that's frustrating. The problem was not with the unit (which was comfortable and safe), the nursing staff (who were absolutely incredible as usual) or even the programming (though I've been through it multiple times). Each of those things contributed to improving my mood, but they could only take it so far. I needed more intervention than that.\\n\\n\\n\\nUnfortunately, the intervention which was decided upon, the reason I went to the hospital at all, Ketamine, was carried out in an unplanned, fly-by-the-seat-of-our pants method. The problem was my inpatient MD. He knows me well from previous hospitalizations, but I guess we just aren't a good fit. He seems to have me packed tightly in a box from which I cannot escape.\\n\\n\\n\\nNo matter how hard I try, no matter the objective proof to the contrary, this MD just can't imagine me as anything but a baseline sad, suicidal, dysthymic, moderately functional, friend-less, solitary being. And that did nothing to improve our relationship with each other or of his treatment plan for me.\\n\\n\\n\\nHis bias against, or lack of complete knowledge of Ketamine was also transparent from day one. During my previous treatment with Ketamine (different doctor and during a clinical trial) I received 3 doses of Ketamine in the first 7 days and then one dose per week for 4 weeks. The total of 7 infusions, with those first 3 every other day, worked like a miracle. It worked for 18 months! Yet there was no attempt made to follow that plan this time. There was no plan at all.\\n\\n\\n\\nFrom day one, inpatient MD scheduled one infusion at a time, and since Mayo Clinic only does one infusion per day (yes, you read that correctly), by the time he decided to schedule another infusion, the schedule was already full for the week. Luckily, there were some cancellations in there, but the haphazard timing didn't do me any favors, in my humble opinion. Not only, perhaps, was the varying schedule not clinically as impactful as it could have been, but the randomness of it was also incredibly stressful.\\n\\n\\n\\nMD rounds were difficult and anxiety provoking. I never knew what was going to happen next. For example, when I gave the MD feedback that I wasn't feeling better after an infusion he suggested we should stop the infusions because they obviously weren't working. Yet, when I gave him feedback that my mood improved following an infusion, he suggested we stop the infusions because I was better. This happened after every single infusion. There was no commitment to a plan. There was no plan, period, and the constant threat of pulling the plug on Ketamine, with no alternative plan suggested, left me feeling helpless and hopeless.\\n\\n\\n\\nI expended an awful lot of energy advocating for myself, which was stressful and exhausting. I felt like I was always on the defensive during MD rounds. This did nothing to change Mr. MD's perception of me as some sort of difficult patient whose self reports he didn't appear to trust. The more I advocated, the more it seemed to reinforce his opinion of me in that box. It was like a boxing match where I had no chance of even landing a blow. Nothing I said or did mattered. And there still was no plan!\\n\\n\\n\\nFortunately, the two doctors with whom I had contact over the weekends helped immensely. For example, inpatient MD felt we should stop the infusions after I sobbed through the second one because, he told me, obviously the infusions were making me worse rather than better. That statement led to a lot more sobbing, as it crushed any hope I had of getting better. It terrified me. And when I asked what we would do if we quit Ketamine, inpatient MD offered no plan. Turns out, it was an inaccurate statement, but I didn't know that until 24 hours later.\\n\\n\\n\\nTwenty four hours later the weekend MD explained the various responses a patient may have during and after a Ketamine infusion, something which had not been explained previously. He noted sobbing through one infusion did not mean it was a failure. He told me in light of the fact I had been tearful prior to the second infusion it made perfect sense to him that the Ketamine might have caused me to sob during the infusion. Nothing to worry about, he said. It did not mean the Ketamine wasn't going to work.\\n\\n\\n\\nThe second weekend MD, with whom I met yesterday, entered my room with a big smile and said, \"There's one of my favorite distance runners in Rochester.\" Even though I had no recollection of him, he knew who I was from sharing the roads and races with me over the years. He even remembered me running with my previous lab, Puck. He didn't have to be convinced, he knew I was a fully functioning, happy human being outside of the hospital. That made all the difference in the world.\\n\\n\\n\\nI'm happy to be home. But I'm also a little concerned to be home, as I don't know what to expect. I'd certainly like to be feeling better than 65 percent. My worst fear is my mood will slide again. Actually, my worst fear is my mood will slide so far as to render me hospitalizable again. But I don't feel I can go back there.\\n\\n\\n\\nFeeling like the hospital isn't a great option is daunting. It puts pressure on me to continue pushing through, regardless of how I feel. But I can't go back there and continue to do battle with a doctor who I don't believe believes in me. I can't take more time away from my life without a definitive plan to get me back to baseline.\\n\\n\\n\\nBaseline: happy with the life I've built, grateful, active and energetic, loving and kind, generous, reliable, competent, fun, sometimes downright silly, 100% functional, and with many supportive friends and coworkers. That's who I am. That's who I want to be again.</td>\n    </tr>\n    <tr>\n      <th>3</th>\n      <td>Spam</td>\n      <td>2019-04-02</td>\n      <td>He says, \"But we grow stronger when we break.\" As broken as I am right now, I'm not so sure about that. I hope he's right.</td>\n    </tr>\n    <tr>\n      <th>4</th>\n      <td>She would have been 50</td>\n      <td>2019-03-29</td>\n      <td>I didn't mean to do it, but I stepped into the middle of something at work today. In an effort to assist a coworker, thinking only of helping the coworker, I inadvertently created an issue which went all the way to the top brass of my facility. In deference to the coworker and other staff at my facility I don't want to say too much about the specific situation, but I'm going to try to process my thoughts anyway.\\n\\n\\n\\nBasically, in doing what I did, I created something bigger than I anticipated. It never crossed my mind that what happened would happen, and perhaps that's what I'm most concerned about. I didn't think things through.\\n\\n\\n\\nTo be clear, I don't think I did anything wrong. I was concerned about another staff person, and based on my observations and a bit of clinical data, I rendered an opinion about what should be done. And what I thought should be done was quite simple. Problem solved, or so I thought.\\n\\n\\n\\nMy opinion started a ball rolling, which is what I had hoped for, but the ball didn't stop. That's the part I didn't anticipate. The ball knocked through one person after another, as if they were bowling pins, and didn't come to rest until it reached the director of the facility. The director of the facility then questioned whether I was qualified to form the opinion I formed. She wasn't happy. She didn't say she wasn't happy, but I'm not a dope. She wasn't happy.\\n\\n\\n\\nMy simple fix wasn't as black and white as I thought. My opinion created work for others, and my opinion went against the opinions of other staff people who are more directly involved with the person I was concerned about. There were many layers to the issue, and I feel I should have anticipated those layers prior to the director visiting me in my office. But I didn't, and as soon as the director left my office I began to panic and second guess myself. I've yet to stop.\\n\\n\\n\\nI'm still worried. I don't like making waves, especially if I have no business getting in the pool! Did I do the right thing? Did I have any business rendering an opinion? Was this an issue in which I needed to get involved? I'm still not sure. My gut feeling isn't good.\\n\\n\\n\\nIt's a difficult situation, and I don't like that I stepped into the middle of it without thinking through the ramifications of my involvement. I didn't intend to create extra work for anyone else in the facility, and I didn't intend to devalue or discredit anyone by rendering a different opinion, but perhaps I should have anticipated the potential of both consequences prior to sticking my nose into the mix.</td>\n    </tr>\n  </tbody>\n</table>\n</div>"
     },
     "metadata": {},
     "execution_count": 41
    }
   ],
   "source": [
    "data.head()"
   ]
  },
  {
   "cell_type": "code",
   "execution_count": 42,
   "metadata": {},
   "outputs": [
    {
     "output_type": "execute_result",
     "data": {
      "text/plain": [
       "0    I've been meaning to write for 4 or 5 days, but I'm not feeling all that inspirational or interesting right now. I'm getting back into the routines of my life as best I can. Things still aren't as honky dory as they were prior to my recent depression relapse, but I'm functional. I'd like to be feeling 100% better. I'd like to be as free and light as I was just 2 months ago, but I'm not quite there yet.\\n\\n\\n\\nI'm not quite humming along, but I think I'm moving in the right direction. I'm working close to my normal schedule. Unfortunately, we are really slow right now so I've had to take some extra, unwanted time off. I still get really tired after a full work day, though, so maybe working a little less is still for the best. Regardless, I'm looking forward to resuming my regular schedule.\\n\\n\\n\\nI'm in the process of resuming my normal exercise schedule and intensity as well. I'm happy and extremely grateful to report I've been able to run 2-4 days per week for the last couple of weeks. I'm super slow, and I'm not running very far, but my Achilles tendons are hanging in there. Every time I run I feel an overwhelming sense of joy, gratitude and relief.\\n\\n\\n\\nUnfortunately, every run also brings a bit of fear, as I'm constantly waiting for one of my Achilles tendons to flare. I'm running so cautiously I feel like I'm tip-toeing down the road. But so far so good. One thing is for certain, I am not taking being able to run for granted. I'm doing everything in my power to keep my Achilles tendons healthy so I may continue to feel the overwhelming joy, relief and gratitude which only running provides me.\\n\\n\\n\\nThey say we really don't appreciate what we have until it's lost. I can now verify the truth behind that statement. Even though I'm getting back to my routines, I still feel the sting from the losses of my mental wellness, high level of functioning, and running. Of course, I do myself no good staying stuck in the losses. Instead I must continue to diligently put one foot in front of the other, which is what I'm currently trying to do.\\n\\n\\n\\nOne foot at a time, I'm doing my best to move forward and regain my momentum. What was lost certainly hasn't returned as quickly as it disappeared. In fact, it's taking a lot longer than I would like. And the work required isn't always enjoyable. Life could be kinder, easier, or more fair, but it's not. It's not. Nevertheless, getting my life back is, for now, worth the effort. From past experience I know the results will be realized, eventually, if I continue to do the work. I'm trying to be patient.                                                                                                                                                                                                                                                                                                                                                       \n",
       "0    I'm not sure why I got it when so many others didn't. Luck? Willingness? Chemistry? Maybe a bit of all three? I don't know, but I'm happy I got it. I'm thrilled and grateful today to be celebrating 13 years of sobriety. Most of you reading this post have no idea what I was like when I was drinking. Allow me to give you a glimpse.\\n\\n\\n\\nWhen I was in the thick of my disease, and that includes years of abstinence, I did not know what gratitude meant. I did not understand the word, and I'm pretty sure I never once uttered it in conversation. Humility was even more foreign to me. I certainly didn't understand the concept. And if I was ever aware of the word, I probably thought it had something to do with humiliation.\\n\\n\\n\\nI was selfish, self centered, and controlling. I figured it was my responsibility to make sure you knew what you should be doing, whether that was as a colleague, a family member, or a friend. I could be a jerk, but if I was, I was sure it was because you caused me to be a jerk. Rationalization was one concept I did understand. I'm sure I often wasn't a pleasant person to be around, but I had no idea.\\n\\n\\n\\nSince I knew what was best for me, I didn't come to sobriety willingly. Believing in something greater than myself, listening to suggestions from others, and admitting I was powerless? None of those ideas sounded even remotely right. Like I said, I'm still not sure why I got it. After all, I came to sobriety kicking and screaming.\\n\\n\\n\\nI kicked and screamed for well over a year, if I remember correctly. I'm so lucky the people attempting to assist me, to listen to me, to share their knowledge with me; I'm so lucky they didn't give up. They continued to share their experience, strength and hope, despite my reservations and probably protestations. But for some reason I continued to come back for more.\\n\\n\\n\\nI guess that's what was required, though, because at some point something clicked. Maybe I became willing? Maybe I gave up thinking I knew what was best, not only for me but for you, too? Maybe I realized I actually was powerless? At some point, I got it. Something clicked, and I began to change.\\n\\n\\n\\nSobriety is about so much more than not drinking. For me, it's about becoming a better person, a kinder, gentler person. It's about learning to trust. It's about living life on life's terms rather than mine. Amazingly, when I gave up trying to control everything, I found a freedom like I'd never known before. It's weird, and strange, and wonderful.\\n\\n\\n\\nI'm amazed to be sitting here 13 years sober today. I'm humbled, and grateful, and happy. If you're struggling, know it's possible. If you're willing, a better life, not necessarily an easier life, but a better life is there for the taking. After all, if I can get it, anyone can.                                                                                                                             \n",
       "0    It's been a tough day. For the last 8 or 9 months I had an inkling that Jet's eyesight wasn't great. First his eyes began to look a little cloudy. Over the summer, especially around the 4th of July, he quit going to his safe space in the basement when he was scared. He'd get halfway down the steps and then just stop and stand there. After a bit he'd turn around and come back up. But he was still scared, so he'd do this again and again. I wondered if it was because it was dark, so I put a light at the bottom of the stairs. He began going all the way down the stairs after that.\\n\\n\\n\\nEarly yesterday morning he flew out the door into the backyard as he always does when I let him out. A bunny ran right past him, and for the first time ever he didn't charge after it. I could tell he knew it was there, but he just stood there looking around. The bunny stopped on the other side of the yard. When Jet finally located it, he charged. He was on it's tail until the bunny made a quick move to one side. Jet lost him. The bunny was still running away from Jet, but he couldn't seem to locate him. I was crushed.\\n\\n\\n\\nToday my vet confirmed my fear. Jet is losing his sight. He has a condition called Progressive Retinal Degeneration. The blood vessels which bring circulation to his retinas are shriveling up. He is losing his sight. There is no cure. He will go blind, and that may happen sooner rather than later. He's only seven and a half years old. I know it's not the end of the world, but I am so sad.\\n\\n\\n\\nI'm sad because I want my boy to have the highest quality of life possible. I want him to run with me, hike with me, and play with me as he wishes. And I especially want him to feel safe and comfortable in his home.\\n\\n\\n\\nI'm afraid he's already less comfortable in his home. For the last week, every night when I turn out the lights and go to bed, Jet has been standing uncomfortably in my bedroom doorway. Just standing. He usually sleeps in his bed in the living room, but lately I've had to convince him to go to his bed and lie down. I even escorted him there one night, as he just didn't seem to know what to do. He was kind of stuck standing in my doorway.\\n\\n\\n\\nI already have a light on in the living room, but I guess I may need to add more lights throughout the house. He's never been interested in coming into my bedroom, but I may add a bed in there, too, in case that's changed. He's an anxious dog to begin with. I fear losing his sight isn't going to help.\\n\\n\\n\\nSo I'm sad today. Like I said, I know it's not the end of the world. He's otherwise very healthy. Going blind is not likely to shorten his lifespan. Nevertheless this was a tough thing to hear. I feel like I have so little resilience right now, barely keeping my head above water, so handling another hit has been challenging. Prayers for Jet. And in case you need encouragement, just look at that face!\\n\\n\\n\\nLove you, Buddy.\n",
       "0    I'm celebrating a birthday today. It's not my \"belly button\" birthday. That was 10 days ago. Today I'm celebrating a different kind of birthday. Fifteen years ago today I began my new life, a life I never could have imagined on that day, December 28, 2005. Desperate and hopeless, fifteen years ago today I finally gave up and decided to quit drinking. I've been sober 15 years. Wow. Happy sobriety birthday to me. When I made that decision in 2005, I was sure my life was over. I couldn't imagine my life without alcohol. I was certain I would be missing out at every outing, sporting event, or holiday. In reality, I wasn't participating in any of those activities anyway because I was home drinking alone! Pathetic. Yet I was sure my life would get worse if I quit drinking! That's alcoholic thinking at its finest, my friends.Instead of getting worse, which I just noted would have been impossible, I actually gained a life worth living, a beautiful life, because I got sober. It took awhile. It wasn't easy. And it required way more than simply stopping. It required willingness and work. It required changing, well, everything--the way I perceived, thought about, and interacted with other human beings in the world. Heck, it required acknowledging there were other human beings in the world! I'm glad I put in the work. I'm alive today because I got sober. I have no doubt about that. My life would have ended years ago otherwise. I really can't believe I'm here, 15 years later, living a life I never could have imagined, sober. Amazing. Damn, I'm grateful!                                                                                                                                                                                                                                                                                                                                                                                                                                                                                                                                                                                                                                                                                                                                                                                                                                                                                                                                                                                                                                                                                                                                                                                                                                                                                                                                                                                                                    \n",
       "0    It's funny. As I sit here today, thinking about tomorrow, I feel butterflies in my stomach. No, I'm not running another race tomorrow. That's next Sunday. I've got butterflies because tomorrow I'm scheduled to run my first 20-mile training run since 2016. The long, long road between 20-milers is about to come to an end. I'm excited, and anxious, and ready. I think.\\n\\n\\n\\nTwenty miles. I've already run 32.5 miles this week, so not only will this be my longest run, it will also be my highest weekly mileage total in well over 2 years. I haven't yet signed up for the Twin Cities Marathon, which is the first Sunday in October. I wanted to wait until I had at least one healthy 20-miler under my belt prior to registering. Hopefully I'll be an official registrant by tomorrow afternoon.\\n\\n\\n\\nI'm excited the Twin Cities Marathon is in sight. I'm ecstatic to be relatively healthy this far along in my training. Of course my legs are tired and my feet are calloused, but that's all normal. I've got some soreness in both Achilles, but I'm taking care of them, babying them, actually. I'm able to run pain free, and that's huge. As I've said in just about every recent post (sorry about that), I'm extremely grateful to be running and training again.\\n\\n\\n\\nI'll have several hours to reflect on the last several years while I'm out there running tomorrow. Twenty miles. It's going to be difficult, mentally and physically. Twenty miles always is. But I'm certain I will also experience satisfaction, gratitude and perhaps even joy intermingled with the pain. That's the beauty of marathon training, and I wouldn't have it any other way. I can't wait!                                                                                                                                                                                                                                                                                                                                                                                                                                                                                                                                                                                                                                                                                                                                                                                                                                                                                                                                                                                                                                                                                                                                                                                                                                                                                                                           \n",
       "0    Crazy is not a word I use lightly. In fact it's a word which usually makes me cringe with anger or defensiveness. But I don't know what else to write about today. I don't think another word works as well to describe our current state of pandemic, murder, power, protest, racism and riot. What has happened to our world? Unprecedented craziness.\\n\\n\\n\\nIt's hard to think about much else these days. The larger world is so off-kilter, my day-to-day life seems tiny and insignificant, so tiny and insignificant I've not felt compelled to write. I mean, who cares? The world seems to be imploding!\\n\\n\\n\\nI'm grateful for my tiny boring life right now, but it doesn't mean I'm any less anxious about what's going on around me--around us all. I feel somewhat helpless in the grand scheme of things, but I will do what I can to stand up for what I feel is right. I'm hopeful meaningful discussion, action, and perhaps even change will come out of all of this chaos.\\n\\n\\n\\nIn the meantime I continue to care for myself. I'm staying safe by following CDC guidelines regarding COVID-19 when I leave my house. At work we are gowned and gloved and facemask(ed) to the max. So far not one of our patients has tested positive for the virus, so our efforts have paid off. I'm proud to work in a facility which takes such excellent care of its residents.\\n\\n\\n\\nThe precautions we take to protect our residents apparently protect the staff, myself included, as well. So far we are all virus-free. I'm also happy to report I'm nearly free from depression. My mood is almost back to normal. I'm continuing with ketamine treatments. We are now in a diminishing frequency maintenance stage, and I feel great! I feel almost 100% back to being me. I'm so incredibly grateful for that.\\n\\n\\n\\nLastly, I'm pleased to say my hip recovery continues. I had a second steroid injection yesterday. The first injection, 4 weeks ago, went directly into the joint. Yesterday we injected the bursa at the front of my hip. The first injection improved my symptoms at least 60%, so I'm hopeful yesterday's injection will totally resolve my lingering pain. I've been riding my ElliptiGo as much as possible, and I'm definitely getting stronger. I can finally see a return to running on the horizon. It's still a horizon far far away, but at least I have a glimpse!\\n\\n\\n\\nStay safe, my friends. Take care of yourselves during this unprecedented, unsettling time. We need to care for ourselves first despite (or perhaps more accurately, because of) what's going on around us.                                                                                                                                                                                                                                                                                                                                                                                                     \n",
       "Name: full_text, dtype: object"
      ]
     },
     "metadata": {},
     "execution_count": 42
    }
   ],
   "source": [
    "data.full_text[0]"
   ]
  },
  {
   "cell_type": "code",
   "execution_count": 43,
   "metadata": {},
   "outputs": [],
   "source": [
    "full_0 = str(data.full_text[0])\n",
    "full = str(data.full_text)"
   ]
  },
  {
   "cell_type": "code",
   "execution_count": 44,
   "metadata": {},
   "outputs": [],
   "source": [
    "# Uses stopwords for english from NLTK, and all puntuation characters.\n",
    "r = Rake(min_length=3, max_length=5)\n",
    "\n",
    "r.extract_keywords_from_text(full_0)\n",
    "\n",
    "# To get keyword phrases ranked highest to lowest.\n",
    "rake_words_0 = str(r.get_ranked_phrases()) "
   ]
  },
  {
   "cell_type": "code",
   "execution_count": 45,
   "metadata": {},
   "outputs": [
    {
     "output_type": "execute_result",
     "data": {
      "text/plain": [
       "str"
      ]
     },
     "metadata": {},
     "execution_count": 45
    }
   ],
   "source": [
    "type(rake_words_0)"
   ]
  },
  {
   "cell_type": "code",
   "execution_count": 46,
   "metadata": {},
   "outputs": [
    {
     "output_type": "execute_result",
     "data": {
      "text/plain": [
       "\"['following cdc guidelines regarding covid', 'condition called progressive retinal degeneration', 'mile training run since 2016', 'ideas sounded even remotely right', 'may happen sooner rather', 'highest weekly mileage total', 'diminishing frequency maintenance stage', 'diligently put one foot', 'bunny ran right past', 'life would get worse', 'perhaps even joy intermingled', 'horizon far far away', 'tiny boring life right', 'think another word works', 'running another race tomorrow', 'day life seems tiny', 'still get really tired', 'second steroid injection yesterday', 'least one healthy 20', '4 days per week', 'fifteen years ago today', 'ended years ago otherwise', 'every run also brings', '13 years sober today', 'unprecedented craziness .\\\\\\\\ n', 'tomorrow afternoon .\\\\\\\\ n', 'regular schedule .\\\\\\\\ n', 'still running away', 'perhaps even change', 'really slow right', '4 weeks ago', '10 days ago', 'sober 15 years', 'celebrating 13 years', 'little resilience right', 'think .\\\\\\\\ n', 'run pain free', 'already run 32', 'handling another hit', 'life worth living', 'life without alcohol', 'normal exercise schedule', 'nearly yesterday morning', 'least 60 %,', 'full work day', 'first injection improved', 'every recent post', 'also experience satisfaction', 'achilles tendons healthy', '2 months ago', 'last several years', 'half years old', '15 years later', 'yet .\\\\\\\\ n', 'wonderful .\\\\\\\\ n', 'screaming .\\\\\\\\ n', 'sad .\\\\\\\\ n', 'residents .\\\\\\\\ n', 'relief .\\\\\\\\ n', 'idea .\\\\\\\\ n', 'humiliation .\\\\\\\\ n', 'home .\\\\\\\\ n', 'help .\\\\\\\\ n', 'glimpse .\\\\\\\\ n', 'doorway .\\\\\\\\ n', 'crushed .\\\\\\\\ n', 'chaos .\\\\\\\\ n', 'change .\\\\\\\\ n', 'imploding !\\\\\\\\ n', 'glimpse !\\\\\\\\ n', 'face !\\\\\\\\ n', 'twin cities marathon', 'twenty miles always', 'residents apparently protect', 'recent depression relapse', 'quite humming along', 'point something clicked', 'jet finally located', 'hopeful meaningful discussion', 'home drinking alone', 'hip recovery continues', 'happy sobriety birthday', 'good staying stuck', 'first time ever', 'feel somewhat helpless', 'feel almost 100', 'definitely getting stronger', 'already less comfortable', '-- around us']\""
      ]
     },
     "metadata": {},
     "execution_count": 46
    }
   ],
   "source": [
    "rake_words_0"
   ]
  },
  {
   "cell_type": "code",
   "execution_count": 47,
   "metadata": {},
   "outputs": [],
   "source": [
    "# substring = \",\"\n",
    "# index = rake_words_0.find(substring)\n",
    "# print(index)"
   ]
  },
  {
   "cell_type": "code",
   "execution_count": 48,
   "metadata": {},
   "outputs": [],
   "source": [
    "# index for every , \n",
    "c = [m.start() for m in re.finditer(\",\", rake_words_0)]"
   ]
  },
  {
   "cell_type": "code",
   "execution_count": 49,
   "metadata": {},
   "outputs": [
    {
     "output_type": "execute_result",
     "data": {
      "text/plain": [
       "[43,\n",
       " 96,\n",
       " 128,\n",
       " 165,\n",
       " 193,\n",
       " 225,\n",
       " 268,\n",
       " 295,\n",
       " 319,\n",
       " 343,\n",
       " 376,\n",
       " 400,\n",
       " 426,\n",
       " 454,\n",
       " 487,\n",
       " 510,\n",
       " 536,\n",
       " 574,\n",
       " 598,\n",
       " 617,\n",
       " 644,\n",
       " 673,\n",
       " 698,\n",
       " 722,\n",
       " 755,\n",
       " 783,\n",
       " 809,\n",
       " 831,\n",
       " 854,\n",
       " 875,\n",
       " 890,\n",
       " 905,\n",
       " 923,\n",
       " 947,\n",
       " 974,\n",
       " 989,\n",
       " 1006,\n",
       " 1024,\n",
       " 1048,\n",
       " 1069,\n",
       " 1093,\n",
       " 1121,\n",
       " 1149,\n",
       " 1162,\n",
       " 1164,\n",
       " 1181,\n",
       " 1209,\n",
       " 1230,\n",
       " 1262,\n",
       " 1290,\n",
       " 1306,\n",
       " 1328,\n",
       " 1346,\n",
       " 1364,\n",
       " 1377,\n",
       " 1396,\n",
       " 1415,\n",
       " 1428,\n",
       " 1447,\n",
       " 1463,\n",
       " 1477,\n",
       " 1498,\n",
       " 1512,\n",
       " 1526,\n",
       " 1543,\n",
       " 1560,\n",
       " 1577,\n",
       " 1592,\n",
       " 1608,\n",
       " 1627,\n",
       " 1644,\n",
       " 1658,\n",
       " 1682,\n",
       " 1705,\n",
       " 1737,\n",
       " 1766,\n",
       " 1789,\n",
       " 1816,\n",
       " 1839,\n",
       " 1872,\n",
       " 1895,\n",
       " 1921,\n",
       " 1948,\n",
       " 1970,\n",
       " 1989,\n",
       " 2015,\n",
       " 2034,\n",
       " 2065,\n",
       " 2093]"
      ]
     },
     "metadata": {},
     "execution_count": 49
    }
   ],
   "source": [
    "c"
   ]
  },
  {
   "cell_type": "code",
   "execution_count": 84,
   "metadata": {},
   "outputs": [],
   "source": [
    "N=1\n",
    "temp=c\n",
    "res = rake_words_0[:temp[0]]"
   ]
  },
  {
   "cell_type": "code",
   "execution_count": 85,
   "metadata": {},
   "outputs": [
    {
     "output_type": "execute_result",
     "data": {
      "text/plain": [
       "\"['following cdc guidelines regarding covid'\""
      ]
     },
     "metadata": {},
     "execution_count": 85
    }
   ],
   "source": [
    "res"
   ]
  },
  {
   "cell_type": "code",
   "execution_count": 94,
   "metadata": {},
   "outputs": [
    {
     "output_type": "error",
     "ename": "NameError",
     "evalue": "name 'sentences' is not defined",
     "traceback": [
      "\u001b[1;31m---------------------------------------------------------------------------\u001b[0m",
      "\u001b[1;31mNameError\u001b[0m                                 Traceback (most recent call last)",
      "\u001b[1;32m<ipython-input-94-a716ba40ca39>\u001b[0m in \u001b[0;36m<module>\u001b[1;34m\u001b[0m\n\u001b[1;32m----> 1\u001b[1;33m \u001b[0msentences\u001b[0m \u001b[1;33m=\u001b[0m \u001b[1;33m[\u001b[0m\u001b[0msentence\u001b[0m\u001b[1;33m.\u001b[0m\u001b[0mstrip\u001b[0m\u001b[1;33m(\u001b[0m\u001b[1;33m)\u001b[0m \u001b[1;32mfor\u001b[0m \u001b[0msentence\u001b[0m \u001b[1;32min\u001b[0m \u001b[0msentences\u001b[0m\u001b[1;33m]\u001b[0m\u001b[1;33m\u001b[0m\u001b[1;33m\u001b[0m\u001b[0m\n\u001b[0m\u001b[0;32m      2\u001b[0m \u001b[0msentences\u001b[0m \u001b[1;33m=\u001b[0m \u001b[1;33m[\u001b[0m\u001b[0msentence\u001b[0m\u001b[1;33m.\u001b[0m\u001b[0mreplace\u001b[0m\u001b[1;33m(\u001b[0m\u001b[1;34m'\\n'\u001b[0m\u001b[1;33m,\u001b[0m \u001b[1;34m''\u001b[0m\u001b[1;33m)\u001b[0m \u001b[1;32mfor\u001b[0m \u001b[0msentence\u001b[0m \u001b[1;32min\u001b[0m \u001b[0msentences\u001b[0m\u001b[1;33m]\u001b[0m\u001b[1;33m\u001b[0m\u001b[1;33m\u001b[0m\u001b[0m\n\u001b[0;32m      3\u001b[0m \u001b[0msentences\u001b[0m\u001b[1;33m\u001b[0m\u001b[1;33m\u001b[0m\u001b[0m\n",
      "\u001b[1;31mNameError\u001b[0m: name 'sentences' is not defined"
     ]
    }
   ],
   "source": [
    "sentences = [sentence.strip() for sentence in sentences]\n",
    "sentences = [sentence.replace('\\n', '') for sentence in sentences]\n",
    "sentences"
   ]
  },
  {
   "cell_type": "code",
   "execution_count": 86,
   "metadata": {},
   "outputs": [],
   "source": [
    "def content_from_list(l):\n",
    "    c = [m.start() for m in re.finditer(\",\", l)]\n",
    "    for i in l: \n",
    "        # find , to split  \n",
    "        print(c)"
   ]
  },
  {
   "cell_type": "code",
   "execution_count": 91,
   "metadata": {},
   "outputs": [],
   "source": [
    "# test api \n",
    "test=te.get_emotion(rake_words_0)"
   ]
  },
  {
   "cell_type": "code",
   "execution_count": 93,
   "metadata": {},
   "outputs": [
    {
     "output_type": "error",
     "ename": "AttributeError",
     "evalue": "'float' object has no attribute 'text'",
     "traceback": [
      "\u001b[1;31m---------------------------------------------------------------------------\u001b[0m",
      "\u001b[1;31mAttributeError\u001b[0m                            Traceback (most recent call last)",
      "\u001b[1;32m<ipython-input-93-2faa607de7da>\u001b[0m in \u001b[0;36m<module>\u001b[1;34m\u001b[0m\n\u001b[0;32m      1\u001b[0m \u001b[1;32mfor\u001b[0m \u001b[0mi\u001b[0m\u001b[1;33m,\u001b[0m \u001b[0mrow\u001b[0m \u001b[1;32min\u001b[0m \u001b[0mtest\u001b[0m\u001b[1;33m.\u001b[0m\u001b[0mitems\u001b[0m\u001b[1;33m(\u001b[0m\u001b[1;33m)\u001b[0m\u001b[1;33m:\u001b[0m\u001b[1;33m\u001b[0m\u001b[1;33m\u001b[0m\u001b[0m\n\u001b[1;32m----> 2\u001b[1;33m      \u001b[0mprint\u001b[0m\u001b[1;33m(\u001b[0m\u001b[0mrow\u001b[0m\u001b[1;33m.\u001b[0m\u001b[0mtext\u001b[0m\u001b[1;33m,\u001b[0m \u001b[0mte\u001b[0m\u001b[1;33m.\u001b[0m\u001b[0mget_emotion\u001b[0m\u001b[1;33m(\u001b[0m\u001b[0mrow\u001b[0m\u001b[1;33m.\u001b[0m\u001b[0mtext\u001b[0m\u001b[1;33m)\u001b[0m\u001b[1;33m)\u001b[0m\u001b[1;33m\u001b[0m\u001b[1;33m\u001b[0m\u001b[0m\n\u001b[0m",
      "\u001b[1;31mAttributeError\u001b[0m: 'float' object has no attribute 'text'"
     ]
    }
   ],
   "source": [
    "for i, row in test.items():\n",
    "     print(row.text, te.get_emotion(row.text))"
   ]
  },
  {
   "cell_type": "code",
   "execution_count": null,
   "metadata": {},
   "outputs": [],
   "source": []
  }
 ]
}