{
 "metadata": {
  "language_info": {
   "codemirror_mode": {
    "name": "ipython",
    "version": 3
   },
   "file_extension": ".py",
   "mimetype": "text/x-python",
   "name": "python",
   "nbconvert_exporter": "python",
   "pygments_lexer": "ipython3",
   "version": "3.9.5"
  },
  "orig_nbformat": 4,
  "kernelspec": {
   "name": "python3",
   "display_name": "Python 3.9.5 64-bit (windows store)"
  },
  "interpreter": {
   "hash": "08bcf114b6799a788c3e4c5366ee28d230c9527aecb5fe8828812464fcb419b7"
  }
 },
 "nbformat": 4,
 "nbformat_minor": 2,
 "cells": [
  {
   "source": [
    "# Context with Text2Emotions API"
   ],
   "cell_type": "markdown",
   "metadata": {}
  },
  {
   "cell_type": "code",
   "execution_count": 63,
   "metadata": {},
   "outputs": [],
   "source": [
    "# import packages\n",
    "import re\n",
    "import pandas as pd\n",
    "import numpy as np\n",
    "import pickle\n",
    "import sys\n",
    "sys.path.append('../')\n",
    "import text2emotion as te\n",
    "import nltk\n",
    "from rake_nltk import Rake"
   ]
  },
  {
   "cell_type": "code",
   "execution_count": 46,
   "metadata": {},
   "outputs": [
    {
     "output_type": "stream",
     "name": "stderr",
     "text": [
      "<ipython-input-46-0891b765a168>:1: FutureWarning: Passing a negative integer is deprecated in version 1.0 and will not be supported in future version. Instead, use None to not limit the column width.\n  pd.set_option('display.max_colwidth', -1)\n"
     ]
    }
   ],
   "source": [
    "pd.set_option('display.max_colwidth', -1)"
   ]
  },
  {
   "cell_type": "code",
   "execution_count": 40,
   "metadata": {},
   "outputs": [
    {
     "output_type": "stream",
     "name": "stdout",
     "text": [
      "Collecting text2emotion\n  Downloading text2emotion-0.0.5-py3-none-any.whl (57 kB)\nRequirement already satisfied: nltk in c:\\users\\deniz\\appdata\\local\\packages\\pythonsoftwarefoundation.python.3.9_qbz5n2kfra8p0\\localcache\\local-packages\\python39\\site-packages (from text2emotion) (3.6.2)\nCollecting emoji>=0.6.0\n  Using cached emoji-1.2.0-py3-none-any.whl (131 kB)\nRequirement already satisfied: tqdm in c:\\users\\deniz\\appdata\\local\\packages\\pythonsoftwarefoundation.python.3.9_qbz5n2kfra8p0\\localcache\\local-packages\\python39\\site-packages (from nltk->text2emotion) (4.60.0)\nRequirement already satisfied: click in c:\\users\\deniz\\appdata\\local\\packages\\pythonsoftwarefoundation.python.3.9_qbz5n2kfra8p0\\localcache\\local-packages\\python39\\site-packages (from nltk->text2emotion) (7.1.2)\nRequirement already satisfied: regex in c:\\users\\deniz\\appdata\\local\\packages\\pythonsoftwarefoundation.python.3.9_qbz5n2kfra8p0\\localcache\\local-packages\\python39\\site-packages (from nltk->text2emotion) (2021.4.4)\nRequirement already satisfied: joblib in c:\\users\\deniz\\appdata\\local\\packages\\pythonsoftwarefoundation.python.3.9_qbz5n2kfra8p0\\localcache\\local-packages\\python39\\site-packages (from nltk->text2emotion) (1.0.1)\nInstalling collected packages: emoji, text2emotion\nSuccessfully installed emoji-1.2.0 text2emotion-0.0.5\n"
     ]
    }
   ],
   "source": [
    "# install API\n",
    "# !pip install text2emotion"
   ]
  },
  {
   "cell_type": "code",
   "execution_count": 30,
   "metadata": {},
   "outputs": [
    {
     "output_type": "execute_result",
     "data": {
      "text/plain": [
       "(199, 3)"
      ]
     },
     "metadata": {},
     "execution_count": 30
    }
   ],
   "source": [
    "# import cleaned pck \n",
    "data = pd.read_pickle(r'C:/Users/deniz/OneDrive/Dokumente/GitHub/IamHere/data/depression_marathon_df_final.pkl')\n",
    "data.shape"
   ]
  },
  {
   "cell_type": "code",
   "execution_count": 31,
   "metadata": {},
   "outputs": [
    {
     "output_type": "execute_result",
     "data": {
      "text/plain": [
       "                           header       date  \\\n",
       "0            The trigger question 2019-05-12   \n",
       "1                         Results 2019-03-04   \n",
       "2  The disintegration of my brain 2019-03-17   \n",
       "3                            Spam 2019-04-02   \n",
       "4          She would have been 50 2019-03-29   \n",
       "\n",
       "                                           full_text  \n",
       "0  I've been meaning to write for 4 or 5 days, bu...  \n",
       "1  Here's one symptom not mentioned in the Diagno...  \n",
       "2  I'm back home. I left the hospital yesterday. ...  \n",
       "3  He says, \"But we grow stronger when we break.\"...  \n",
       "4  I didn't mean to do it, but I stepped into the...  "
      ],
      "text/html": "<div>\n<style scoped>\n    .dataframe tbody tr th:only-of-type {\n        vertical-align: middle;\n    }\n\n    .dataframe tbody tr th {\n        vertical-align: top;\n    }\n\n    .dataframe thead th {\n        text-align: right;\n    }\n</style>\n<table border=\"1\" class=\"dataframe\">\n  <thead>\n    <tr style=\"text-align: right;\">\n      <th></th>\n      <th>header</th>\n      <th>date</th>\n      <th>full_text</th>\n    </tr>\n  </thead>\n  <tbody>\n    <tr>\n      <th>0</th>\n      <td>The trigger question</td>\n      <td>2019-05-12</td>\n      <td>I've been meaning to write for 4 or 5 days, bu...</td>\n    </tr>\n    <tr>\n      <th>1</th>\n      <td>Results</td>\n      <td>2019-03-04</td>\n      <td>Here's one symptom not mentioned in the Diagno...</td>\n    </tr>\n    <tr>\n      <th>2</th>\n      <td>The disintegration of my brain</td>\n      <td>2019-03-17</td>\n      <td>I'm back home. I left the hospital yesterday. ...</td>\n    </tr>\n    <tr>\n      <th>3</th>\n      <td>Spam</td>\n      <td>2019-04-02</td>\n      <td>He says, \"But we grow stronger when we break.\"...</td>\n    </tr>\n    <tr>\n      <th>4</th>\n      <td>She would have been 50</td>\n      <td>2019-03-29</td>\n      <td>I didn't mean to do it, but I stepped into the...</td>\n    </tr>\n  </tbody>\n</table>\n</div>"
     },
     "metadata": {},
     "execution_count": 31
    }
   ],
   "source": [
    "data.head()"
   ]
  },
  {
   "cell_type": "code",
   "execution_count": 51,
   "metadata": {},
   "outputs": [
    {
     "output_type": "execute_result",
     "data": {
      "text/plain": [
       "0    I've been meaning to write for 4 or 5 days, but I'm not feeling all that inspirational or interesting right now. I'm getting back into the routines of my life as best I can. Things still aren't as honky dory as they were prior to my recent depression relapse, but I'm functional. I'd like to be feeling 100% better. I'd like to be as free and light as I was just 2 months ago, but I'm not quite there yet.\\n\\n\\n\\nI'm not quite humming along, but I think I'm moving in the right direction. I'm working close to my normal schedule. Unfortunately, we are really slow right now so I've had to take some extra, unwanted time off. I still get really tired after a full work day, though, so maybe working a little less is still for the best. Regardless, I'm looking forward to resuming my regular schedule.\\n\\n\\n\\nI'm in the process of resuming my normal exercise schedule and intensity as well. I'm happy and extremely grateful to report I've been able to run 2-4 days per week for the last couple of weeks. I'm super slow, and I'm not running very far, but my Achilles tendons are hanging in there. Every time I run I feel an overwhelming sense of joy, gratitude and relief.\\n\\n\\n\\nUnfortunately, every run also brings a bit of fear, as I'm constantly waiting for one of my Achilles tendons to flare. I'm running so cautiously I feel like I'm tip-toeing down the road. But so far so good. One thing is for certain, I am not taking being able to run for granted. I'm doing everything in my power to keep my Achilles tendons healthy so I may continue to feel the overwhelming joy, relief and gratitude which only running provides me.\\n\\n\\n\\nThey say we really don't appreciate what we have until it's lost. I can now verify the truth behind that statement. Even though I'm getting back to my routines, I still feel the sting from the losses of my mental wellness, high level of functioning, and running. Of course, I do myself no good staying stuck in the losses. Instead I must continue to diligently put one foot in front of the other, which is what I'm currently trying to do.\\n\\n\\n\\nOne foot at a time, I'm doing my best to move forward and regain my momentum. What was lost certainly hasn't returned as quickly as it disappeared. In fact, it's taking a lot longer than I would like. And the work required isn't always enjoyable. Life could be kinder, easier, or more fair, but it's not. It's not. Nevertheless, getting my life back is, for now, worth the effort. From past experience I know the results will be realized, eventually, if I continue to do the work. I'm trying to be patient.                                                                                                                                                                                                                                                                                                                                                       \n",
       "0    I'm not sure why I got it when so many others didn't. Luck? Willingness? Chemistry? Maybe a bit of all three? I don't know, but I'm happy I got it. I'm thrilled and grateful today to be celebrating 13 years of sobriety. Most of you reading this post have no idea what I was like when I was drinking. Allow me to give you a glimpse.\\n\\n\\n\\nWhen I was in the thick of my disease, and that includes years of abstinence, I did not know what gratitude meant. I did not understand the word, and I'm pretty sure I never once uttered it in conversation. Humility was even more foreign to me. I certainly didn't understand the concept. And if I was ever aware of the word, I probably thought it had something to do with humiliation.\\n\\n\\n\\nI was selfish, self centered, and controlling. I figured it was my responsibility to make sure you knew what you should be doing, whether that was as a colleague, a family member, or a friend. I could be a jerk, but if I was, I was sure it was because you caused me to be a jerk. Rationalization was one concept I did understand. I'm sure I often wasn't a pleasant person to be around, but I had no idea.\\n\\n\\n\\nSince I knew what was best for me, I didn't come to sobriety willingly. Believing in something greater than myself, listening to suggestions from others, and admitting I was powerless? None of those ideas sounded even remotely right. Like I said, I'm still not sure why I got it. After all, I came to sobriety kicking and screaming.\\n\\n\\n\\nI kicked and screamed for well over a year, if I remember correctly. I'm so lucky the people attempting to assist me, to listen to me, to share their knowledge with me; I'm so lucky they didn't give up. They continued to share their experience, strength and hope, despite my reservations and probably protestations. But for some reason I continued to come back for more.\\n\\n\\n\\nI guess that's what was required, though, because at some point something clicked. Maybe I became willing? Maybe I gave up thinking I knew what was best, not only for me but for you, too? Maybe I realized I actually was powerless? At some point, I got it. Something clicked, and I began to change.\\n\\n\\n\\nSobriety is about so much more than not drinking. For me, it's about becoming a better person, a kinder, gentler person. It's about learning to trust. It's about living life on life's terms rather than mine. Amazingly, when I gave up trying to control everything, I found a freedom like I'd never known before. It's weird, and strange, and wonderful.\\n\\n\\n\\nI'm amazed to be sitting here 13 years sober today. I'm humbled, and grateful, and happy. If you're struggling, know it's possible. If you're willing, a better life, not necessarily an easier life, but a better life is there for the taking. After all, if I can get it, anyone can.                                                                                                                             \n",
       "0    It's been a tough day. For the last 8 or 9 months I had an inkling that Jet's eyesight wasn't great. First his eyes began to look a little cloudy. Over the summer, especially around the 4th of July, he quit going to his safe space in the basement when he was scared. He'd get halfway down the steps and then just stop and stand there. After a bit he'd turn around and come back up. But he was still scared, so he'd do this again and again. I wondered if it was because it was dark, so I put a light at the bottom of the stairs. He began going all the way down the stairs after that.\\n\\n\\n\\nEarly yesterday morning he flew out the door into the backyard as he always does when I let him out. A bunny ran right past him, and for the first time ever he didn't charge after it. I could tell he knew it was there, but he just stood there looking around. The bunny stopped on the other side of the yard. When Jet finally located it, he charged. He was on it's tail until the bunny made a quick move to one side. Jet lost him. The bunny was still running away from Jet, but he couldn't seem to locate him. I was crushed.\\n\\n\\n\\nToday my vet confirmed my fear. Jet is losing his sight. He has a condition called Progressive Retinal Degeneration. The blood vessels which bring circulation to his retinas are shriveling up. He is losing his sight. There is no cure. He will go blind, and that may happen sooner rather than later. He's only seven and a half years old. I know it's not the end of the world, but I am so sad.\\n\\n\\n\\nI'm sad because I want my boy to have the highest quality of life possible. I want him to run with me, hike with me, and play with me as he wishes. And I especially want him to feel safe and comfortable in his home.\\n\\n\\n\\nI'm afraid he's already less comfortable in his home. For the last week, every night when I turn out the lights and go to bed, Jet has been standing uncomfortably in my bedroom doorway. Just standing. He usually sleeps in his bed in the living room, but lately I've had to convince him to go to his bed and lie down. I even escorted him there one night, as he just didn't seem to know what to do. He was kind of stuck standing in my doorway.\\n\\n\\n\\nI already have a light on in the living room, but I guess I may need to add more lights throughout the house. He's never been interested in coming into my bedroom, but I may add a bed in there, too, in case that's changed. He's an anxious dog to begin with. I fear losing his sight isn't going to help.\\n\\n\\n\\nSo I'm sad today. Like I said, I know it's not the end of the world. He's otherwise very healthy. Going blind is not likely to shorten his lifespan. Nevertheless this was a tough thing to hear. I feel like I have so little resilience right now, barely keeping my head above water, so handling another hit has been challenging. Prayers for Jet. And in case you need encouragement, just look at that face!\\n\\n\\n\\nLove you, Buddy.\n",
       "0    I'm celebrating a birthday today. It's not my \"belly button\" birthday. That was 10 days ago. Today I'm celebrating a different kind of birthday. Fifteen years ago today I began my new life, a life I never could have imagined on that day, December 28, 2005. Desperate and hopeless, fifteen years ago today I finally gave up and decided to quit drinking. I've been sober 15 years. Wow. Happy sobriety birthday to me. When I made that decision in 2005, I was sure my life was over. I couldn't imagine my life without alcohol. I was certain I would be missing out at every outing, sporting event, or holiday. In reality, I wasn't participating in any of those activities anyway because I was home drinking alone! Pathetic. Yet I was sure my life would get worse if I quit drinking! That's alcoholic thinking at its finest, my friends.Instead of getting worse, which I just noted would have been impossible, I actually gained a life worth living, a beautiful life, because I got sober. It took awhile. It wasn't easy. And it required way more than simply stopping. It required willingness and work. It required changing, well, everything--the way I perceived, thought about, and interacted with other human beings in the world. Heck, it required acknowledging there were other human beings in the world! I'm glad I put in the work. I'm alive today because I got sober. I have no doubt about that. My life would have ended years ago otherwise. I really can't believe I'm here, 15 years later, living a life I never could have imagined, sober. Amazing. Damn, I'm grateful!                                                                                                                                                                                                                                                                                                                                                                                                                                                                                                                                                                                                                                                                                                                                                                                                                                                                                                                                                                                                                                                                                                                                                                                                                                                                                                                                                                                                                    \n",
       "0    It's funny. As I sit here today, thinking about tomorrow, I feel butterflies in my stomach. No, I'm not running another race tomorrow. That's next Sunday. I've got butterflies because tomorrow I'm scheduled to run my first 20-mile training run since 2016. The long, long road between 20-milers is about to come to an end. I'm excited, and anxious, and ready. I think.\\n\\n\\n\\nTwenty miles. I've already run 32.5 miles this week, so not only will this be my longest run, it will also be my highest weekly mileage total in well over 2 years. I haven't yet signed up for the Twin Cities Marathon, which is the first Sunday in October. I wanted to wait until I had at least one healthy 20-miler under my belt prior to registering. Hopefully I'll be an official registrant by tomorrow afternoon.\\n\\n\\n\\nI'm excited the Twin Cities Marathon is in sight. I'm ecstatic to be relatively healthy this far along in my training. Of course my legs are tired and my feet are calloused, but that's all normal. I've got some soreness in both Achilles, but I'm taking care of them, babying them, actually. I'm able to run pain free, and that's huge. As I've said in just about every recent post (sorry about that), I'm extremely grateful to be running and training again.\\n\\n\\n\\nI'll have several hours to reflect on the last several years while I'm out there running tomorrow. Twenty miles. It's going to be difficult, mentally and physically. Twenty miles always is. But I'm certain I will also experience satisfaction, gratitude and perhaps even joy intermingled with the pain. That's the beauty of marathon training, and I wouldn't have it any other way. I can't wait!                                                                                                                                                                                                                                                                                                                                                                                                                                                                                                                                                                                                                                                                                                                                                                                                                                                                                                                                                                                                                                                                                                                                                                                                                                                                                                                           \n",
       "0    Crazy is not a word I use lightly. In fact it's a word which usually makes me cringe with anger or defensiveness. But I don't know what else to write about today. I don't think another word works as well to describe our current state of pandemic, murder, power, protest, racism and riot. What has happened to our world? Unprecedented craziness.\\n\\n\\n\\nIt's hard to think about much else these days. The larger world is so off-kilter, my day-to-day life seems tiny and insignificant, so tiny and insignificant I've not felt compelled to write. I mean, who cares? The world seems to be imploding!\\n\\n\\n\\nI'm grateful for my tiny boring life right now, but it doesn't mean I'm any less anxious about what's going on around me--around us all. I feel somewhat helpless in the grand scheme of things, but I will do what I can to stand up for what I feel is right. I'm hopeful meaningful discussion, action, and perhaps even change will come out of all of this chaos.\\n\\n\\n\\nIn the meantime I continue to care for myself. I'm staying safe by following CDC guidelines regarding COVID-19 when I leave my house. At work we are gowned and gloved and facemask(ed) to the max. So far not one of our patients has tested positive for the virus, so our efforts have paid off. I'm proud to work in a facility which takes such excellent care of its residents.\\n\\n\\n\\nThe precautions we take to protect our residents apparently protect the staff, myself included, as well. So far we are all virus-free. I'm also happy to report I'm nearly free from depression. My mood is almost back to normal. I'm continuing with ketamine treatments. We are now in a diminishing frequency maintenance stage, and I feel great! I feel almost 100% back to being me. I'm so incredibly grateful for that.\\n\\n\\n\\nLastly, I'm pleased to say my hip recovery continues. I had a second steroid injection yesterday. The first injection, 4 weeks ago, went directly into the joint. Yesterday we injected the bursa at the front of my hip. The first injection improved my symptoms at least 60%, so I'm hopeful yesterday's injection will totally resolve my lingering pain. I've been riding my ElliptiGo as much as possible, and I'm definitely getting stronger. I can finally see a return to running on the horizon. It's still a horizon far far away, but at least I have a glimpse!\\n\\n\\n\\nStay safe, my friends. Take care of yourselves during this unprecedented, unsettling time. We need to care for ourselves first despite (or perhaps more accurately, because of) what's going on around us.                                                                                                                                                                                                                                                                                                                                                                                                     \n",
       "Name: full_text, dtype: object"
      ]
     },
     "metadata": {},
     "execution_count": 51
    }
   ],
   "source": [
    "data.full_text[0]"
   ]
  },
  {
   "cell_type": "code",
   "execution_count": 65,
   "metadata": {},
   "outputs": [],
   "source": [
    "full_0 = str(data.full_text[0])\n",
    "full = str(data.full_text)"
   ]
  },
  {
   "cell_type": "code",
   "execution_count": 79,
   "metadata": {},
   "outputs": [],
   "source": [
    "# Uses stopwords for english from NLTK, and all puntuation characters.\n",
    "r = Rake(min_length=2, max_length=5)\n",
    "\n",
    "r.extract_keywords_from_text(full_0)\n",
    "\n",
    "# To get keyword phrases ranked highest to lowest.\n",
    "rake_words_0 = str(r.get_ranked_phrases()) "
   ]
  },
  {
   "cell_type": "code",
   "execution_count": 80,
   "metadata": {},
   "outputs": [
    {
     "output_type": "execute_result",
     "data": {
      "text/plain": [
       "\"['following cdc guidelines regarding covid', 'condition called progressive retinal degeneration', 'mile training run since 2016', 'ideas sounded even remotely right', 'diminishing frequency maintenance stage', 'think another word works', 'highest weekly mileage total', 'ended years ago otherwise', 'unprecedented craziness .\\\\\\\\ n', 'horizon far far away', 'second steroid injection yesterday', 'tiny boring life right', 'running another race tomorrow', 'perhaps even joy intermingled', 'diligently put one foot', 'tomorrow afternoon .\\\\\\\\ n', 'may happen sooner rather', '4 days per week', 'still get really tired', 'regular schedule .\\\\\\\\ n', 'fifteen years ago today', 'bunny ran right past', 'every run also brings', 'day life seems tiny', '13 years sober today', 'least one healthy 20', 'life would get worse', '4 weeks ago', 'perhaps even change', 'think .\\\\\\\\ n', 'handling another hit', 'celebrating 13 years', 'least 60 %,', '10 days ago', 'really slow right', 'wonderful .\\\\\\\\ n', 'screaming .\\\\\\\\ n', 'residents .\\\\\\\\ n', 'relief .\\\\\\\\ n', 'idea .\\\\\\\\ n', 'humiliation .\\\\\\\\ n', 'home .\\\\\\\\ n', 'help .\\\\\\\\ n', 'glimpse .\\\\\\\\ n', 'crushed .\\\\\\\\ n', 'chaos .\\\\\\\\ n', 'change .\\\\\\\\ n', 'sober 15 years', 'half years old', '15 years later', 'imploding !\\\\\\\\ n', 'glimpse !\\\\\\\\ n', 'face !\\\\\\\\ n', 'residents apparently protect', 'recent depression relapse', 'hip recovery continues', 'still running away', 'already run 32', 'yet .\\\\\\\\ n', 'sad .\\\\\\\\ n', 'doorway .\\\\\\\\ n', 'little resilience right', 'every recent post', 'life without alcohol', 'twin cities marathon', 'quite humming along', 'normal exercise schedule', 'nearly yesterday morning', 'hopeful meaningful discussion', 'home drinking alone', 'full work day', 'also experience satisfaction', 'first injection improved', 'definitely getting stronger', 'feel somewhat helpless', '2 months ago', 'run pain free', 'good staying stuck', 'already less comfortable', 'achilles tendons healthy', 'life worth living', 'last several years', 'point something clicked', 'jet finally located', 'happy sobriety birthday', 'feel almost 100', 'twenty miles always', '-- around us', 'first time ever', '.\\\\\\\\ n', 'running tomorrow', 'marathon training', 'far along', 'run 2', 'past experience', 'normal schedule', 'hopeful yesterday', 'also happy', '2 years', 'getting worse', 'get halfway', 'first injection', 'first 20', 'right direction', 'interesting right', 'last week', 'even though', 'even escorted', 'sad today', 'longest run', 'birthday today', 'includes years', 'life would', 'world seems', 'tough day', 'terms rather', 'relatively healthy', 'overwhelming joy', 'none foot', 'nearly free', 'highest quality', 'got sober', 'achilles tendons', '5 days', 'living life', 'still feel', 'every time', 'something clicked', 'twenty miles', 'running provides', 'around us', 'little less', 'one thing', 'one side', 'one night', 'one concept', 'ni already', 'grateful today', 'bunny stopped', 'bunny made', 'alive today', 'things still', 'still scared', 'every outing', 'every night', 'new life', 'life possible', 'life could', 'life back', 'easier life', 'better life', 'beautiful life', 'yet signed', 'would like', 'work required', 'super slow', 'stuck standing', 'staying safe', 'several hours', 'quit drinking', 'noted would', 'may need', 'may continue', 'may add', 'lingering pain', 'jet lost', 'feeling 100', 'everything --', 'ever aware', 'bedroom doorway', 'always enjoyable', 'almost back', '9 months', 'something greater', 'sobriety willingly', 'sobriety kicking', 'living room', 'little cloudy', 'less anxious', 'getting back', 'first sunday', 'first despite', 'finally see', 'finally gave', 'feel safe', 'feel like', 'feel great', 'feel butterflies', 'unwanted time', 'unsettling time', 'ntwenty miles', 'last couple', 'last 8', '5 miles', 'turn around', 'looking around', 'especially around', 'working close', 'went directly', 'vet confirmed', 'usually sleeps', 'usually makes', 'use lightly', 'truth behind', 'tough thing', 'totally resolve', 'took awhile', 'tested positive', 'taking care', 'take care', 'standing uncomfortably', 'sporting event', 'simply stopping', 'self centered', 'safe space', 'required willingness', 'required way', 'required changing', 'required acknowledging', 'remember correctly', 'quit going', 'quick move', 'probably thought', 'probably protestations', 'pretty sure', 'pleasant person', 'people attempting', 'overwhelming sense', 'official registrant', 'nthey say', 'nthe precautions', 'nstay safe', 'ni kicked', 'ni guess', 'next sunday', 'never known', 'never could', 'need encouragement', 'must continue', 'much else', 'move forward', 'mental wellness', 'maybe working', 'many others', 'make sure', 'lot longer', 'lost certainly', 'looking forward', 'long road', 'lights throughout', 'larger world', 'ketamine treatments', 'incredibly grateful', 'human beings', 'honky dory', 'high level', 'gratitude meant', 'grand scheme', 'got butterflies', 'going blind', 'go blind', 'gentler person', 'freedom like', 'felt compelled', 'fear losing', 'family member', 'eyes began', 'extremely grateful', 'excellent care', 'especially want', 'different kind', 'december 28', 'currently trying', 'current state', 'could tell', 'control everything', 'constantly waiting', 'come back', 'bring circulation', 'blood vessels', 'better person', 'belt prior', 'belly button', 'began going', 'became willing', 'barely keeping', 'anxious dog', 'alcoholic thinking', 'actually gained', 'activities anyway', '0 crazy']\""
      ]
     },
     "metadata": {},
     "execution_count": 80
    }
   ],
   "source": [
    "rake_words_0"
   ]
  },
  {
   "cell_type": "code",
   "execution_count": 81,
   "metadata": {},
   "outputs": [
    {
     "output_type": "execute_result",
     "data": {
      "text/plain": [
       "{'Happy': 0.17, 'Angry': 0.07, 'Surprise': 0.13, 'Sad': 0.25, 'Fear': 0.38}"
      ]
     },
     "metadata": {},
     "execution_count": 81
    }
   ],
   "source": [
    "# test api \n",
    "te.get_emotion(rake_words_0)"
   ]
  },
  {
   "cell_type": "code",
   "execution_count": 83,
   "metadata": {},
   "outputs": [],
   "source": [
    "# Uses stopwords for english from NLTK, and all puntuation characters.\n",
    "r = Rake(min_length=2, max_length=5)\n",
    "\n",
    "r.extract_keywords_from_text(full)\n",
    "\n",
    "# To get keyword phrases ranked highest to lowest.\n",
    "rake_words_full = str(r.get_ranked_phrases()) "
   ]
  },
  {
   "cell_type": "code",
   "execution_count": 84,
   "metadata": {},
   "outputs": [
    {
     "output_type": "execute_result",
     "data": {
      "text/plain": [
       "{'Happy': 0.16, 'Angry': 0.07, 'Surprise': 0.18, 'Sad': 0.26, 'Fear': 0.33}"
      ]
     },
     "metadata": {},
     "execution_count": 84
    }
   ],
   "source": [
    "# test api \n",
    "te.get_emotion(rake_words_full)"
   ]
  },
  {
   "cell_type": "code",
   "execution_count": null,
   "metadata": {},
   "outputs": [],
   "source": []
  }
 ]
}