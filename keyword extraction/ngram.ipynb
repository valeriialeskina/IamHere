{
 "metadata": {
  "language_info": {
   "codemirror_mode": {
    "name": "ipython",
    "version": 3
   },
   "file_extension": ".py",
   "mimetype": "text/x-python",
   "name": "python",
   "nbconvert_exporter": "python",
   "pygments_lexer": "ipython3",
   "version": "3.8.3"
  },
  "orig_nbformat": 4,
  "kernelspec": {
   "name": "python3",
   "display_name": "Python 3.8.3 64-bit ('base': conda)"
  },
  "interpreter": {
   "hash": "516186bd0ec0d9f4d5315d95f88038d756540a3a2a2ced092e94dc29fedad10e"
  }
 },
 "nbformat": 4,
 "nbformat_minor": 2,
 "cells": [
  {
   "source": [
    "N-grams are contiguous sequences of n-items in a sentence. N can be 1, 2 or any other positive integers, although usually we do not consider very large N because those n-grams rarely appears in many different places.\n",
    "\n",
    "When performing machine learning tasks related to natural language processing, we usually need to generate n-grams from input sentences. For example, in text classification tasks, in addition to using each individual token found in the corpus, we may want to add bi-grams or tri-grams as features to represent our documents."
   ],
   "cell_type": "markdown",
   "metadata": {}
  },
  {
   "cell_type": "code",
   "execution_count": 2,
   "metadata": {},
   "outputs": [
    {
     "output_type": "stream",
     "name": "stderr",
     "text": [
      "D:\\deniz\\anaconda3\\lib\\site-packages\\gensim\\similarities\\__init__.py:15: UserWarning: The gensim.similarities.levenshtein submodule is disabled, because the optional Levenshtein package <https://pypi.org/project/python-Levenshtein/> is unavailable. Install Levenhstein (e.g. `pip install python-Levenshtein`) to suppress this warning.\n  warnings.warn(msg)\n"
     ]
    }
   ],
   "source": [
    "# import packages\n",
    "import pandas as pd\n",
    "import re\n",
    "import nltk\n",
    "from nltk.util import ngrams\n",
    "from gensim.parsing.preprocessing import STOPWORDS, strip_tags, strip_numeric, strip_punctuation, strip_multiple_whitespaces, remove_stopwords, strip_short, stem_text\n",
    "from textblob import TextBlob\n",
    "import json\n",
    "#pip install NRCLex\n",
    "from nrclex import NRCLex\n"
   ]
  },
  {
   "cell_type": "code",
   "execution_count": 78,
   "metadata": {},
   "outputs": [],
   "source": [
    "# data\n",
    "data = \"Getting back to work made a difference. After 10 days of nothing but the business of moving and all of its seemingly obligatory messy emotions, it was nice to think of nothing but my patients. I worked Wednesday through Friday, and even with a couple of long days in there, it was a relief to be away from home. It was a relief to be away from unpacking, and contemplating, and deciding. It was a pleasure to think about somebody other than myself for 3 days. I needed that. Those 3 days away, combined with a long run/walk/dip into Lake Superior with Jet yesterday, gave me the energy to unpack nearly my entire basement today. I ve still got a lot to do, but things are starting to take shape. My bedroom is almost completely put together. My bathroom and kitchen are done. I ve still got boxes in the living room, dining room and the other 2 bedrooms, but I m getting there. Tomorrow I m heading south to Mayo Clinic for a ketamine infusion. Im pleased its not an urgent need at this time, just a regular maintenance dose. Returning to work, getting some exercise, and progressing with my unpacking have each helped stabilize my mood. Im  no longer daily wiping tears from my eyes. In fact, I havent cried for several days. That, in and of itself, is quite a feat! I m taking my time with unpacking. I m doing my best to remain patient. Taking the next right action and maintaining my attitude of gratitude are my focus now. Its still hard, but its not impossible. Settling into my new home, new routine, and new city will take time. I m keeping that fact forefront in my mind. I can do this. But I cant do it all today, nor do I have to. Patiently, Ill get it done.\""
   ]
  },
  {
   "cell_type": "code",
   "execution_count": 79,
   "metadata": {},
   "outputs": [
    {
     "output_type": "stream",
     "name": "stdout",
     "text": [
      "['obligatory messy emotions', 'long days', 'long run/walk/dip', 'jet', 'entire basement', 'tomorrow', 'mayo clinic', 'ketamine infusion', 'im', 'urgent need', 'regular maintenance dose', 'im', 'right action', 'settling', 'new home', 'new city', 'fact forefront', 'patiently', 'ill']\n"
     ]
    }
   ],
   "source": [
    "# use blob to extract easy nouns\n",
    "blob = TextBlob(data)\n",
    "print(blob.noun_phrases)\n",
    "nouns_of_data = blob.noun_phrases"
   ]
  },
  {
   "cell_type": "code",
   "execution_count": 80,
   "metadata": {},
   "outputs": [],
   "source": [
    "# use nouns for ngrams\n",
    "# nouns_of_data = ['obligatory messy emotions', 'long days', 'long run/walk/dip', 'jet', 'entire basement', 'tomorrow', 'mayo clinic', 'ketamine infusion', 'im', 'urgent need', 'regular maintenance dose', 'im', 'haven t', 'right action', 'settling', 'new home', 'new city', 'fact forefront', 'patiently', 'ill']\n",
    "# nouns_of_data=str(s)"
   ]
  },
  {
   "cell_type": "code",
   "execution_count": 81,
   "metadata": {},
   "outputs": [],
   "source": [
    "def n_grams(s, n):\n",
    "    '''returns n_grams\n",
    "    s = data str\n",
    "    n = number of grams'''\n",
    "\n",
    "    s = s.lower()\n",
    "    s = re.sub(r'[^a-zA-Z0-9\\s]', ' ', s)\n",
    "    tokens = [token for token in s.split(\" \") if token != \"\"]\n",
    "    output = list(ngrams(tokens, n))[1:10]\n",
    "    return output;"
   ]
  },
  {
   "cell_type": "code",
   "execution_count": 82,
   "metadata": {},
   "outputs": [],
   "source": [
    "#Instantiate text object (for best results, 'text' should be unicode).\n",
    "text_object = NRCLex(data)"
   ]
  },
  {
   "cell_type": "code",
   "execution_count": 83,
   "metadata": {},
   "outputs": [
    {
     "output_type": "stream",
     "name": "stdout",
     "text": [
      "314\n['Getting', 'back', 'to', 'work', 'made', 'a', 'difference', 'After', '10', 'days', 'of', 'nothing', 'but', 'the', 'business', 'of', 'moving', 'and', 'all', 'of', 'its', 'seemingly', 'obligatory', 'messy', 'emotions', 'it', 'was', 'nice', 'to', 'think', 'of', 'nothing', 'but', 'my', 'patients', 'I', 'worked', 'Wednesday', 'through', 'Friday', 'and', 'even', 'with', 'a', 'couple', 'of', 'long', 'days', 'in', 'there', 'it', 'was', 'a', 'relief', 'to', 'be', 'away', 'from', 'home', 'It', 'was', 'a', 'relief', 'to', 'be', 'away', 'from', 'unpacking', 'and', 'contemplating', 'and', 'deciding', 'It', 'was', 'a', 'pleasure', 'to', 'think', 'about', 'somebody', 'other', 'than', 'myself', 'for', '3', 'days', 'I', 'needed', 'that', 'Those', '3', 'days', 'away', 'combined', 'with', 'a', 'long', 'run/walk/dip', 'into', 'Lake', 'Superior', 'with', 'Jet', 'yesterday', 'gave', 'me', 'the', 'energy', 'to', 'unpack', 'nearly', 'my', 'entire', 'basement', 'today', 'I', 've', 'still', 'got', 'a', 'lot', 'to', 'do', 'but', 'things', 'are', 'starting', 'to', 'take', 'shape', 'My', 'bedroom', 'is', 'almost', 'completely', 'put', 'together', 'My', 'bathroom', 'and', 'kitchen', 'are', 'done', 'I', 've', 'still', 'got', 'boxes', 'in', 'the', 'living', 'room', 'dining', 'room', 'and', 'the', 'other', '2', 'bedrooms', 'but', 'I', 'm', 'getting', 'there', 'Tomorrow', 'I', 'm', 'heading', 'south', 'to', 'Mayo', 'Clinic', 'for', 'a', 'ketamine', 'infusion', 'Im', 'pleased', 'its', 'not', 'an', 'urgent', 'need', 'at', 'this', 'time', 'just', 'a', 'regular', 'maintenance', 'dose', 'Returning', 'to', 'work', 'getting', 'some', 'exercise', 'and', 'progressing', 'with', 'my', 'unpacking', 'have', 'each', 'helped', 'stabilize', 'my', 'mood', 'Im', 'no', 'longer', 'daily', 'wiping', 'tears', 'from', 'my', 'eyes', 'In', 'fact', 'I', 'havent', 'cried', 'for', 'several', 'days', 'That', 'in', 'and', 'of', 'itself', 'is', 'quite', 'a', 'feat', 'I', 'm', 'taking', 'my', 'time', 'with', 'unpacking', 'I', 'm', 'doing', 'my', 'best', 'to', 'remain', 'patient', 'Taking', 'the', 'next', 'right', 'action', 'and', 'maintaining', 'my', 'attitude', 'of', 'gratitude', 'are', 'my', 'focus', 'now', 'Its', 'still', 'hard', 'but', 'its', 'not', 'impossible', 'Settling', 'into', 'my', 'new', 'home', 'new', 'routine', 'and', 'new', 'city', 'will', 'take', 'time', 'I', 'm', 'keeping', 'that', 'fact', 'forefront', 'in', 'my', 'mind', 'I', 'can', 'do', 'this', 'But', 'I', 'cant', 'do', 'it', 'all', 'today', 'nor', 'do', 'I', 'have', 'to', 'Patiently', 'Ill', 'get', 'it', 'done']\n"
     ]
    }
   ],
   "source": [
    "#Return words list.\n",
    "print(len(text_object.words))\n",
    "print(text_object.words)"
   ]
  },
  {
   "cell_type": "code",
   "execution_count": 84,
   "metadata": {},
   "outputs": [
    {
     "output_type": "stream",
     "name": "stdout",
     "text": [
      "26\n"
     ]
    },
    {
     "output_type": "execute_result",
     "data": {
      "text/plain": [
       "[Sentence(\"Getting back to work made a difference.\"),\n",
       " Sentence(\"After 10 days of nothing but the business of moving and all of its seemingly obligatory messy emotions, it was nice to think of nothing but my patients.\"),\n",
       " Sentence(\"I worked Wednesday through Friday, and even with a couple of long days in there, it was a relief to be away from home.\"),\n",
       " Sentence(\"It was a relief to be away from unpacking, and contemplating, and deciding.\"),\n",
       " Sentence(\"It was a pleasure to think about somebody other than myself for 3 days.\"),\n",
       " Sentence(\"I needed that.\"),\n",
       " Sentence(\"Those 3 days away, combined with a long run/walk/dip into Lake Superior with Jet yesterday, gave me the energy to unpack nearly my entire basement today.\"),\n",
       " Sentence(\"I ve still got a lot to do, but things are starting to take shape.\"),\n",
       " Sentence(\"My bedroom is almost completely put together.\"),\n",
       " Sentence(\"My bathroom and kitchen are done.\"),\n",
       " Sentence(\"I ve still got boxes in the living room, dining room and the other 2 bedrooms, but I m getting there.\"),\n",
       " Sentence(\"Tomorrow I m heading south to Mayo Clinic for a ketamine infusion.\"),\n",
       " Sentence(\"Im pleased its not an urgent need at this time, just a regular maintenance dose.\"),\n",
       " Sentence(\"Returning to work, getting some exercise, and progressing with my unpacking have each helped stabilize my mood.\"),\n",
       " Sentence(\"Im  no longer daily wiping tears from my eyes.\"),\n",
       " Sentence(\"In fact, I havent cried for several days.\"),\n",
       " Sentence(\"That, in and of itself, is quite a feat!\"),\n",
       " Sentence(\"I m taking my time with unpacking.\"),\n",
       " Sentence(\"I m doing my best to remain patient.\"),\n",
       " Sentence(\"Taking the next right action and maintaining my attitude of gratitude are my focus now.\"),\n",
       " Sentence(\"Its still hard, but its not impossible.\"),\n",
       " Sentence(\"Settling into my new home, new routine, and new city will take time.\"),\n",
       " Sentence(\"I m keeping that fact forefront in my mind.\"),\n",
       " Sentence(\"I can do this.\"),\n",
       " Sentence(\"But I cant do it all today, nor do I have to.\"),\n",
       " Sentence(\"Patiently, Ill get it done.\")]"
      ]
     },
     "metadata": {},
     "execution_count": 84
    }
   ],
   "source": [
    "#Return sentences list.\n",
    "# 26 sentences\n",
    "print(len(text_object.sentences))\n",
    "text_object.sentences"
   ]
  },
  {
   "cell_type": "code",
   "execution_count": 85,
   "metadata": {},
   "outputs": [
    {
     "output_type": "stream",
     "name": "stdout",
     "text": [
      "35\n"
     ]
    },
    {
     "output_type": "execute_result",
     "data": {
      "text/plain": [
       "['disgust',\n",
       " 'negative',\n",
       " 'anticipation',\n",
       " 'positive',\n",
       " 'positive',\n",
       " 'anticipation',\n",
       " 'positive',\n",
       " 'positive',\n",
       " 'joy',\n",
       " 'positive',\n",
       " 'anticipation',\n",
       " 'fear',\n",
       " 'negative',\n",
       " 'surprise',\n",
       " 'anticipation',\n",
       " 'trust',\n",
       " 'anticipation',\n",
       " 'trust',\n",
       " 'anticipation',\n",
       " 'joy',\n",
       " 'positive',\n",
       " 'surprise',\n",
       " 'anticipation',\n",
       " 'anticipation',\n",
       " 'positive',\n",
       " 'positive',\n",
       " 'joy',\n",
       " 'positive',\n",
       " 'positive',\n",
       " 'negative',\n",
       " 'sadness',\n",
       " 'positive',\n",
       " 'trust',\n",
       " 'anticipation',\n",
       " 'trust']"
      ]
     },
     "metadata": {},
     "execution_count": 85
    }
   ],
   "source": [
    "#Return affect list.\n",
    "# 35 \"emotions\"\n",
    "print(len(text_object.affect_list))\n",
    "text_object.affect_list"
   ]
  },
  {
   "cell_type": "code",
   "execution_count": 86,
   "metadata": {},
   "outputs": [
    {
     "output_type": "stream",
     "name": "stdout",
     "text": [
      "18\n"
     ]
    },
    {
     "output_type": "execute_result",
     "data": {
      "text/plain": [
       "{'messy': ['disgust', 'negative'],\n",
       " 'long': ['anticipation'],\n",
       " 'relief': ['positive'],\n",
       " 'shape': ['positive'],\n",
       " 'completely': ['positive'],\n",
       " 'pleased': ['joy', 'positive'],\n",
       " 'urgent': ['anticipation', 'fear', 'negative', 'surprise'],\n",
       " 'time': ['anticipation'],\n",
       " 'maintenance': ['trust'],\n",
       " 'daily': ['anticipation'],\n",
       " 'fact': ['trust'],\n",
       " 'feat': ['anticipation', 'joy', 'positive', 'surprise'],\n",
       " 'patient': ['anticipation', 'positive'],\n",
       " 'action': ['positive'],\n",
       " 'gratitude': ['joy', 'positive'],\n",
       " 'focus': ['positive'],\n",
       " 'impossible': ['negative', 'sadness'],\n",
       " 'routine': ['positive', 'trust']}"
      ]
     },
     "metadata": {},
     "execution_count": 86
    }
   ],
   "source": [
    "#Return affect dictionary.\n",
    "# words that contains emotions and have been found by nrclex\n",
    "print(len(text_object.affect_dict))\n",
    "emo=text_object.affect_dict\n",
    "emo"
   ]
  },
  {
   "cell_type": "code",
   "execution_count": 87,
   "metadata": {},
   "outputs": [
    {
     "output_type": "execute_result",
     "data": {
      "text/plain": [
       "[('positive', 0.3142857142857143)]"
      ]
     },
     "metadata": {},
     "execution_count": 87
    }
   ],
   "source": [
    "#Return highest emotions.\n",
    "text_object.top_emotions"
   ]
  },
  {
   "cell_type": "code",
   "execution_count": 95,
   "metadata": {},
   "outputs": [],
   "source": [
    "pos = ['relief',\n",
    " 'shape',\n",
    " 'completely',\n",
    " 'pleased',\n",
    " 'feat',\n",
    " 'patient',\n",
    " 'action',\n",
    " 'gratitude',\n",
    " 'focus',\n",
    " 'routine']\n",
    "\n",
    "# sentences that were classified as positive\n",
    "pos_sen = str(\"I worked Wednesday through Friday, and even with a couple of long days in there, it was a relief to be away from home. It was a relief to be away from unpacking, and contemplating, and deciding. I ve still got a lot to do, but things are starting to take shape.My bedroom is almost completely put together. Im pleased its not an urgent need at this time, just a regular maintenance dose. That, in and of itself, is quite a feat!. I m doing my best to remain patient. Taking the next right action and maintaining my attitude of gratitude are my focus now. Settling into my new home, new routine, and new city will take time.\")"
   ]
  },
  {
   "cell_type": "code",
   "execution_count": 96,
   "metadata": {},
   "outputs": [
    {
     "output_type": "stream",
     "name": "stdout",
     "text": [
      "['long days', 'shape.my bedroom', 'im', 'urgent need', 'regular maintenance dose', 'right action', 'settling', 'new home', 'new city']\n"
     ]
    }
   ],
   "source": [
    "# use blob to extract easy nouns\n",
    "blob = TextBlob(pos_sen)\n",
    "print(blob.noun_phrases)\n",
    "nouns_of_data = blob.noun_phrases"
   ]
  },
  {
   "cell_type": "code",
   "execution_count": 100,
   "metadata": {},
   "outputs": [
    {
     "output_type": "execute_result",
     "data": {
      "text/plain": [
       "[('worked', 'wednesday'),\n",
       " ('wednesday', 'through'),\n",
       " ('through', 'friday'),\n",
       " ('friday', 'and'),\n",
       " ('and', 'even'),\n",
       " ('even', 'with'),\n",
       " ('with', 'a'),\n",
       " ('a', 'couple'),\n",
       " ('couple', 'of')]"
      ]
     },
     "metadata": {},
     "execution_count": 100
    }
   ],
   "source": [
    "n_grams(s=pos_sen, n=2)"
   ]
  },
  {
   "cell_type": "code",
   "execution_count": null,
   "metadata": {},
   "outputs": [],
   "source": []
  }
 ]
}