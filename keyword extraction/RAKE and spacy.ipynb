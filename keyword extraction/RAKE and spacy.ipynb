{
 "metadata": {
  "language_info": {
   "codemirror_mode": {
    "name": "ipython",
    "version": 3
   },
   "file_extension": ".py",
   "mimetype": "text/x-python",
   "name": "python",
   "nbconvert_exporter": "python",
   "pygments_lexer": "ipython3",
   "version": "3.7.10"
  },
  "orig_nbformat": 2,
  "kernelspec": {
   "name": "python3710jvsc74a57bd022a63b945ad88ad6aa60a7f3f570c70abf6faa8a03284077614716ef20649993",
   "display_name": "Python 3.7.10 64-bit ('uni': conda)"
  }
 },
 "nbformat": 4,
 "nbformat_minor": 2,
 "cells": [
  {
   "source": [
    "# RAKE \n",
    "short for Rapid Automatic Keyword Extraction algorithm, is a domain independent keyword extraction algorithm which tries to determine key phrases in a body of text by analyzing the frequency of word appearance and its co-occurance with other words in the text.\n",
    "\n"
   ],
   "cell_type": "markdown",
   "metadata": {}
  },
  {
   "cell_type": "code",
   "execution_count": 5,
   "metadata": {},
   "outputs": [
    {
     "output_type": "stream",
     "name": "stdout",
     "text": [
      "Requirement already satisfied: python-rake in c:\\anaconda\\envs\\uni\\lib\\site-packages (1.5.0)\n",
      "Collecting rake-nltk\n",
      "  Downloading rake_nltk-1.0.4.tar.gz (7.6 kB)\n",
      "Requirement already satisfied: nltk in c:\\anaconda\\envs\\uni\\lib\\site-packages (from rake-nltk) (3.6.2)\n",
      "Requirement already satisfied: click in c:\\anaconda\\envs\\uni\\lib\\site-packages (from nltk->rake-nltk) (7.1.2)\n",
      "Requirement already satisfied: regex in c:\\anaconda\\envs\\uni\\lib\\site-packages (from nltk->rake-nltk) (2021.4.4)\n",
      "Requirement already satisfied: tqdm in c:\\anaconda\\envs\\uni\\lib\\site-packages (from nltk->rake-nltk) (4.60.0)\n",
      "Requirement already satisfied: joblib in c:\\anaconda\\envs\\uni\\lib\\site-packages (from nltk->rake-nltk) (1.0.1)\n",
      "Building wheels for collected packages: rake-nltk\n",
      "  Building wheel for rake-nltk (setup.py): started\n",
      "  Building wheel for rake-nltk (setup.py): finished with status 'done'\n",
      "  Created wheel for rake-nltk: filename=rake_nltk-1.0.4-py2.py3-none-any.whl size=7829 sha256=276ee8781a80b235f3ff85b7decb1bcad2502fb9f3d112a1a107e3ddc6d204ac\n",
      "  Stored in directory: c:\\users\\home\\appdata\\local\\pip\\cache\\wheels\\7c\\d9\\8a\\b8a9244fa89a07f288f9fe006aafc79d93fceb58496c29b606\n",
      "Successfully built rake-nltk\n",
      "Installing collected packages: rake-nltk\n",
      "Successfully installed rake-nltk-1.0.4\n"
     ]
    }
   ],
   "source": [
    "!pip install python-rake\r\n",
    "!pip install rake-nltk"
   ]
  },
  {
   "cell_type": "code",
   "execution_count": 4,
   "metadata": {},
   "outputs": [
    {
     "output_type": "stream",
     "name": "stderr",
     "text": [
      "[nltk_data] Downloading package stopwords to\n[nltk_data]     C:\\Users\\home\\AppData\\Roaming\\nltk_data...\n[nltk_data]   Package stopwords is already up-to-date!\n"
     ]
    },
    {
     "output_type": "execute_result",
     "data": {
      "text/plain": [
       "True"
      ]
     },
     "metadata": {},
     "execution_count": 4
    }
   ],
   "source": [
    "import nltk\n",
    "import pickle\n",
    "import pandas as pd\n",
    "nltk.download('stopwords')"
   ]
  },
  {
   "cell_type": "code",
   "execution_count": 7,
   "metadata": {},
   "outputs": [],
   "source": [
    "# data\n",
    "post = \"Getting back to work made a difference. After 10 days of nothing but the business of moving and all of its seemingly obligatory messy emotions, it was nice to think of nothing but my patients. I worked Wednesday through Friday, and even with a couple of long days in there, it was a relief to be away from home. It was a relief to be away from unpacking, and contemplating, and deciding. It was a pleasure to think about somebody other than myself for 3 days. I needed that. Those 3 days away, combined with a long run/walk/dip into Lake Superior with Jet yesterday, gave me the energy to unpack nearly my entire basement today. I ve still got a lot to do, but things are starting to take shape. My bedroom is almost completely put together. My bathroom and kitchen are done. I ve still got boxes in the living room, dining room and the other 2 bedrooms, but I m getting there. Tomorrow I m heading south to Mayo Clinic for a ketamine infusion. Im pleased its not an urgent need at this time, just a regular maintenance dose. Returning to work, getting some exercise, and progressing with my unpacking have each helped stabilize my mood. Im  no longer daily wiping tears from my eyes. In fact, I haven t cried for several days. That, in and of itself, is quite a feat! I m taking my time with unpacking. I m doing my best to remain patient. Taking the next right action and maintaining my attitude of gratitude are my focus now. Its still hard, but its not impossible. Settling into my new home, new routine, and new city will take time. I m keeping that fact forefront in my mind. I can do this. But I cant do it all today, nor do I have to. Patiently, Ill get it done.\""
   ]
  },
  {
   "cell_type": "code",
   "execution_count": 10,
   "metadata": {},
   "outputs": [
    {
     "output_type": "execute_result",
     "data": {
      "text/plain": [
       "['regular maintenance dose',\n",
       " 'next right action',\n",
       " 'entire basement today',\n",
       " 'still got boxes',\n",
       " '3 days away',\n",
       " 'still got',\n",
       " '3 days',\n",
       " 'still hard',\n",
       " 'several days',\n",
       " 'long days',\n",
       " '10 days',\n",
       " 'worked wednesday',\n",
       " 'work made',\n",
       " 'urgent need',\n",
       " 'unpack nearly',\n",
       " 'take time',\n",
       " 'take shape',\n",
       " 'remain patient',\n",
       " 'new routine',\n",
       " 'new home',\n",
       " 'new city',\n",
       " 'mayo clinic',\n",
       " 'long run',\n",
       " 'living room',\n",
       " 'lake superior',\n",
       " 'ketamine infusion',\n",
       " 'jet yesterday',\n",
       " 'im pleased',\n",
       " 'ill get',\n",
       " 'helped stabilize',\n",
       " 'heading south',\n",
       " 'getting back',\n",
       " 'fact forefront',\n",
       " 'dining room',\n",
       " '2 bedrooms']"
      ]
     },
     "metadata": {},
     "execution_count": 10
    }
   ],
   "source": [
    "from rake_nltk import Rake\n",
    "\n",
    "r = Rake(min_length=2, max_length=3) # Uses stopwords for english from NLTK, and all puntuation characters.\n",
    "\n",
    "r.extract_keywords_from_text(post)\n",
    "\n",
    "r.get_ranked_phrases() # To get keyword phrases ranked highest to lowest."
   ]
  },
  {
   "source": [
    "# Spacy"
   ],
   "cell_type": "markdown",
   "metadata": {}
  },
  {
   "cell_type": "code",
   "execution_count": 29,
   "metadata": {},
   "outputs": [
    {
     "output_type": "stream",
     "name": "stdout",
     "text": [
      "(10 days, Wednesday through Friday, a couple of long days, 3 days, Those 3 days, Lake Superior, yesterday, today, 2, Mayo Clinic, daily, several days, today, Ill)\n"
     ]
    }
   ],
   "source": [
    "import spacy\n",
    "nlp = spacy.load(\"en_core_web_sm\")\n",
    "doc = nlp(post)\n",
    "print(doc.ents)"
   ]
  },
  {
   "cell_type": "code",
   "execution_count": 34,
   "metadata": {},
   "outputs": [
    {
     "output_type": "stream",
     "name": "stdout",
     "text": [
      "work\na difference\n10 days\nnothing\nthe business\nits seemingly obligatory messy emotions\nit\nnothing\nmy patients\nI\nFriday\na couple\nlong days\nit\na relief\nhome\nIt\na relief\nunpacking\nIt\na pleasure\nsomebody\nmyself\n3 days\nI\na long run/walk/dip\nLake Superior\nJet\nme\nthe energy\nnearly my entire basement\nI\na lot\nthings\nshape\nMy bedroom\nMy bathroom\nkitchen\nI\nboxes\nthe living room\ndining room\nthe other 2 bedrooms\nI\nI\nMayo Clinic\na ketamine infusion\nI\nits not an urgent need\nthis time\nwork\nsome exercise\nmy unpacking\nmy mood\nI\ntears\nmy eyes\nfact\nI\nt\nseveral days\nitself\nquite a feat\nI\nmy time\nunpacking\nI\nthe next right action\nmy attitude\ngratitude\nmy focus\nits\nmy new home\nnew routine\nnew city\ntime\nI\nthat fact\nmy mind\nI\nI\nit\nI\nIll\nit\n"
     ]
    }
   ],
   "source": [
    "for chunk in doc.noun_chunks:\n",
    "    print(chunk.text)"
   ]
  },
  {
   "cell_type": "code",
   "execution_count": 36,
   "metadata": {},
   "outputs": [
    {
     "output_type": "stream",
     "name": "stdout",
     "text": [
      "Verbs: ['get', 'make', 'move', 'think', 'work', 'be', 'be', 'be', 'contemplate', 'decide', 'think', 'need', 'combine', 'give', 'unpack', 'get', 'do', 'start', 'take', 'put', 'do', 'get', 'get', 'head', 'm', 'return', 'get', 'progress', 'help', 'stabilize', 'wipe', 'haven', 'cry', 'take', 'do', 'remain', 'take', 'maintain', 'settle', 'take', 'keep', 'do', 'do', 'have', 'get', 'do']\n"
     ]
    }
   ],
   "source": [
    "# Analyze syntax\n",
    "\n",
    "print(\"Verbs:\", [token.lemma_ for token in doc if token.pos_ == \"VERB\"])\n"
   ]
  },
  {
   "cell_type": "code",
   "execution_count": 8,
   "metadata": {},
   "outputs": [
    {
     "output_type": "execute_result",
     "data": {
      "text/plain": [
       "Index(['header', 'date', 'full_text'], dtype='object')"
      ]
     },
     "metadata": {},
     "execution_count": 8
    }
   ],
   "source": [
    "#load labelled data (generated in file 2.preprocessing)\n",
    "data = pickle.load(open('../data/depression_marathon_df_final.pkl', \"rb\"))\n",
    "data.columns\n"
   ]
  },
  {
   "cell_type": "code",
   "execution_count": 13,
   "metadata": {},
   "outputs": [
    {
     "output_type": "execute_result",
     "data": {
      "text/plain": [
       "\"I've been meaning to write for 4 or 5 days, but I'm not feeling all that inspirational or interesting right now. I'm getting back into the routines of my life as best I can. Things still aren't as honky dory as they were prior to my recent depression relapse, but I'm functional. I'd like to be feeling 100% better. I'd like to be as free and light as I was just 2 months ago, but I'm not quite there yet.\\n\\n\\n\\nI'm not quite humming along, but I think I'm moving in the right direction. I'm working close to my normal schedule. Unfortunately, we are really slow right now so I've had to take some extra, unwanted time off. I still get really tired after a full work day, though, so maybe working a little less is still for the best. Regardless, I'm looking forward to resuming my regular schedule.\\n\\n\\n\\nI'm in the process of resuming my normal exercise schedule and intensity as well. I'm happy and extremely grateful to report I've been able to run 2-4 days per week for the last couple of weeks. I'm super slow, and I'm not running very far, but my Achilles tendons are hanging in there. Every time I run I feel an overwhelming sense of joy, gratitude and relief.\\n\\n\\n\\nUnfortunately, every run also brings a bit of fear, as I'm constantly waiting for one of my Achilles tendons to flare. I'm running so cautiously I feel like I'm tip-toeing down the road. But so far so good. One thing is for certain, I am not taking being able to run for granted. I'm doing everything in my power to keep my Achilles tendons healthy so I may continue to feel the overwhelming joy, relief and gratitude which only running provides me.\\n\\n\\n\\nThey say we really don't appreciate what we have until it's lost. I can now verify the truth behind that statement. Even though I'm getting back to my routines, I still feel the sting from the losses of my mental wellness, high level of functioning, and running. Of course, I do myself no good staying stuck in the losses. Instead I must continue to diligently put one foot in front of the other, which is what I'm currently trying to do.\\n\\n\\n\\nOne foot at a time, I'm doing my best to move forward and regain my momentum. What was lost certainly hasn't returned as quickly as it disappeared. In fact, it's taking a lot longer than I would like. And the work required isn't always enjoyable. Life could be kinder, easier, or more fair, but it's not. It's not. Nevertheless, getting my life back is, for now, worth the effort. From past experience I know the results will be realized, eventually, if I continue to do the work. I'm trying to be patient.\""
      ]
     },
     "metadata": {},
     "execution_count": 13
    }
   ],
   "source": [
    "post = data.full_text.iloc[0]\n",
    "post"
   ]
  },
  {
   "cell_type": "code",
   "execution_count": 14,
   "metadata": {},
   "outputs": [
    {
     "output_type": "execute_result",
     "data": {
      "text/plain": [
       "\"I've been meaning to write for 4 or 5 days, but I'm not feeling all that inspirational or interesting right now. I'm getting back into the routines of my life as best I can. Things still aren't as honky dory as they were prior to my recent depression relapse, but I'm functional. I'd like to be feeling 100% better. I'd like to be as free and light as I was just 2 months ago, but I'm not quite there yet.I'm not quite humming along, but I think I'm moving in the right direction. I'm working close to my normal schedule. Unfortunately, we are really slow right now so I've had to take some extra, unwanted time off. I still get really tired after a full work day, though, so maybe working a little less is still for the best. Regardless, I'm looking forward to resuming my regular schedule.I'm in the process of resuming my normal exercise schedule and intensity as well. I'm happy and extremely grateful to report I've been able to run 2-4 days per week for the last couple of weeks. I'm super slow, and I'm not running very far, but my Achilles tendons are hanging in there. Every time I run I feel an overwhelming sense of joy, gratitude and relief.Unfortunately, every run also brings a bit of fear, as I'm constantly waiting for one of my Achilles tendons to flare. I'm running so cautiously I feel like I'm tip-toeing down the road. But so far so good. One thing is for certain, I am not taking being able to run for granted. I'm doing everything in my power to keep my Achilles tendons healthy so I may continue to feel the overwhelming joy, relief and gratitude which only running provides me.They say we really don't appreciate what we have until it's lost. I can now verify the truth behind that statement. Even though I'm getting back to my routines, I still feel the sting from the losses of my mental wellness, high level of functioning, and running. Of course, I do myself no good staying stuck in the losses. Instead I must continue to diligently put one foot in front of the other, which is what I'm currently trying to do.One foot at a time, I'm doing my best to move forward and regain my momentum. What was lost certainly hasn't returned as quickly as it disappeared. In fact, it's taking a lot longer than I would like. And the work required isn't always enjoyable. Life could be kinder, easier, or more fair, but it's not. It's not. Nevertheless, getting my life back is, for now, worth the effort. From past experience I know the results will be realized, eventually, if I continue to do the work. I'm trying to be patient.\""
      ]
     },
     "metadata": {},
     "execution_count": 14
    }
   ],
   "source": [
    "post = post.replace('\\n','')\n",
    "post"
   ]
  },
  {
   "cell_type": "code",
   "execution_count": 18,
   "metadata": {},
   "outputs": [
    {
     "output_type": "execute_result",
     "data": {
      "text/plain": [
       "                                             sentence\n",
       "0   I've been meaning to write for 4 or 5 days, bu...\n",
       "1   I'm getting back into the routines of my life ...\n",
       "2   Things still aren't as honky dory as they were...\n",
       "3                  I'd like to be feeling 100% better\n",
       "4   I'd like to be as free and light as I was just...\n",
       "5   I'm not quite humming along, but I think I'm m...\n",
       "6             I'm working close to my normal schedule\n",
       "7   Unfortunately, we are really slow right now so...\n",
       "8   I still get really tired after a full work day...\n",
       "9   Regardless, I'm looking forward to resuming my...\n",
       "10  I'm in the process of resuming my normal exerc...\n",
       "11  I'm happy and extremely grateful to report I'v...\n",
       "12  I'm super slow, and I'm not running very far, ...\n",
       "13  Every time I run I feel an overwhelming sense ...\n",
       "14  Unfortunately, every run also brings a bit of ...\n",
       "15  I'm running so cautiously I feel like I'm tip-...\n",
       "16                                 But so far so good\n",
       "17  One thing is for certain, I am not taking bein...\n",
       "18  I'm doing everything in my power to keep my Ac...\n",
       "19  They say we really don't appreciate what we ha...\n",
       "20   I can now verify the truth behind that statement\n",
       "21  Even though I'm getting back to my routines, I...\n",
       "22  Of course, I do myself no good staying stuck i...\n",
       "23  Instead I must continue to diligently put one ...\n",
       "24  One foot at a time, I'm doing my best to move ...\n",
       "25  What was lost certainly hasn't returned as qui...\n",
       "26  In fact, it's taking a lot longer than I would...\n",
       "27       And the work required isn't always enjoyable\n",
       "28  Life could be kinder, easier, or more fair, bu...\n",
       "29                                           It's not\n",
       "30  Nevertheless, getting my life back is, for now...\n",
       "31  From past experience I know the results will b...\n",
       "32                           I'm trying to be patient\n",
       "33                                                   "
      ],
      "text/html": "<div>\n<style scoped>\n    .dataframe tbody tr th:only-of-type {\n        vertical-align: middle;\n    }\n\n    .dataframe tbody tr th {\n        vertical-align: top;\n    }\n\n    .dataframe thead th {\n        text-align: right;\n    }\n</style>\n<table border=\"1\" class=\"dataframe\">\n  <thead>\n    <tr style=\"text-align: right;\">\n      <th></th>\n      <th>sentence</th>\n    </tr>\n  </thead>\n  <tbody>\n    <tr>\n      <th>0</th>\n      <td>I've been meaning to write for 4 or 5 days, bu...</td>\n    </tr>\n    <tr>\n      <th>1</th>\n      <td>I'm getting back into the routines of my life ...</td>\n    </tr>\n    <tr>\n      <th>2</th>\n      <td>Things still aren't as honky dory as they were...</td>\n    </tr>\n    <tr>\n      <th>3</th>\n      <td>I'd like to be feeling 100% better</td>\n    </tr>\n    <tr>\n      <th>4</th>\n      <td>I'd like to be as free and light as I was just...</td>\n    </tr>\n    <tr>\n      <th>5</th>\n      <td>I'm not quite humming along, but I think I'm m...</td>\n    </tr>\n    <tr>\n      <th>6</th>\n      <td>I'm working close to my normal schedule</td>\n    </tr>\n    <tr>\n      <th>7</th>\n      <td>Unfortunately, we are really slow right now so...</td>\n    </tr>\n    <tr>\n      <th>8</th>\n      <td>I still get really tired after a full work day...</td>\n    </tr>\n    <tr>\n      <th>9</th>\n      <td>Regardless, I'm looking forward to resuming my...</td>\n    </tr>\n    <tr>\n      <th>10</th>\n      <td>I'm in the process of resuming my normal exerc...</td>\n    </tr>\n    <tr>\n      <th>11</th>\n      <td>I'm happy and extremely grateful to report I'v...</td>\n    </tr>\n    <tr>\n      <th>12</th>\n      <td>I'm super slow, and I'm not running very far, ...</td>\n    </tr>\n    <tr>\n      <th>13</th>\n      <td>Every time I run I feel an overwhelming sense ...</td>\n    </tr>\n    <tr>\n      <th>14</th>\n      <td>Unfortunately, every run also brings a bit of ...</td>\n    </tr>\n    <tr>\n      <th>15</th>\n      <td>I'm running so cautiously I feel like I'm tip-...</td>\n    </tr>\n    <tr>\n      <th>16</th>\n      <td>But so far so good</td>\n    </tr>\n    <tr>\n      <th>17</th>\n      <td>One thing is for certain, I am not taking bein...</td>\n    </tr>\n    <tr>\n      <th>18</th>\n      <td>I'm doing everything in my power to keep my Ac...</td>\n    </tr>\n    <tr>\n      <th>19</th>\n      <td>They say we really don't appreciate what we ha...</td>\n    </tr>\n    <tr>\n      <th>20</th>\n      <td>I can now verify the truth behind that statement</td>\n    </tr>\n    <tr>\n      <th>21</th>\n      <td>Even though I'm getting back to my routines, I...</td>\n    </tr>\n    <tr>\n      <th>22</th>\n      <td>Of course, I do myself no good staying stuck i...</td>\n    </tr>\n    <tr>\n      <th>23</th>\n      <td>Instead I must continue to diligently put one ...</td>\n    </tr>\n    <tr>\n      <th>24</th>\n      <td>One foot at a time, I'm doing my best to move ...</td>\n    </tr>\n    <tr>\n      <th>25</th>\n      <td>What was lost certainly hasn't returned as qui...</td>\n    </tr>\n    <tr>\n      <th>26</th>\n      <td>In fact, it's taking a lot longer than I would...</td>\n    </tr>\n    <tr>\n      <th>27</th>\n      <td>And the work required isn't always enjoyable</td>\n    </tr>\n    <tr>\n      <th>28</th>\n      <td>Life could be kinder, easier, or more fair, bu...</td>\n    </tr>\n    <tr>\n      <th>29</th>\n      <td>It's not</td>\n    </tr>\n    <tr>\n      <th>30</th>\n      <td>Nevertheless, getting my life back is, for now...</td>\n    </tr>\n    <tr>\n      <th>31</th>\n      <td>From past experience I know the results will b...</td>\n    </tr>\n    <tr>\n      <th>32</th>\n      <td>I'm trying to be patient</td>\n    </tr>\n    <tr>\n      <th>33</th>\n      <td></td>\n    </tr>\n  </tbody>\n</table>\n</div>"
     },
     "metadata": {},
     "execution_count": 18
    }
   ],
   "source": [
    "post_str = post.split('.')\n",
    "post_str = [sentence.strip() for sentence in post_str]\n",
    "post_df = pd.DataFrame(post_str, columns=['sentence'])\n",
    "post_df"
   ]
  },
  {
   "cell_type": "code",
   "execution_count": 52,
   "metadata": {},
   "outputs": [],
   "source": [
    "from rake_nltk import Rake\n",
    "\n",
    "r = Rake(min_length=1, max_length=3) # Uses stopwords for english from NLTK, and all puntuation characters.\n",
    "\n",
    "def get_rake_phrases(sentence):\n",
    "    r.extract_keywords_from_text(sentence)\n",
    "    return r.get_ranked_phrases()"
   ]
  },
  {
   "cell_type": "code",
   "execution_count": 47,
   "metadata": {},
   "outputs": [
    {
     "output_type": "stream",
     "name": "stdout",
     "text": [
      "I'd like to be as free and light as I was just 2 months ago, but I'm not quite there yet\n"
     ]
    },
    {
     "output_type": "execute_result",
     "data": {
      "text/plain": [
       "['2 months ago']"
      ]
     },
     "metadata": {},
     "execution_count": 47
    }
   ],
   "source": [
    "print(post_df.sentence.iloc[4])\n",
    "get_rake_phrases(post_df.sentence.iloc[4])"
   ]
  },
  {
   "cell_type": "code",
   "execution_count": 59,
   "metadata": {},
   "outputs": [
    {
     "output_type": "stream",
     "name": "stdout",
     "text": [
      "I'd like to be as free and light as I was just 2 months ago, but I'm not quite there yet\n"
     ]
    },
    {
     "output_type": "execute_result",
     "data": {
      "text/plain": [
       "{'Happy': 1.0, 'Angry': 0.0, 'Surprise': 0.0, 'Sad': 0.0, 'Fear': 0.0}"
      ]
     },
     "metadata": {},
     "execution_count": 59
    }
   ],
   "source": [
    "import text2emotion as te\n",
    "print(post_df.sentence.iloc[4])\n",
    "te.get_emotion(post_df.sentence.iloc[4])"
   ]
  },
  {
   "cell_type": "code",
   "execution_count": 60,
   "metadata": {},
   "outputs": [],
   "source": [
    "post_df['rake'] = post_df.sentence.apply(get_rake_phrases)\n",
    "post_df['text2emotion'] = post_df.sentence.apply(te.get_emotion)\n",
    "post_df['Happy'] = [emotion['Happy'] for emotion in post_df.text2emotion]\n",
    "post_df['Angry'] = [emotion['Angry'] for emotion in post_df.text2emotion]\n",
    "post_df['Surprise'] = [emotion['Surprise'] for emotion in post_df.text2emotion]\n",
    "post_df['Sad'] = [emotion['Sad'] for emotion in post_df.text2emotion]\n",
    "post_df['Fear'] = [emotion['Fear'] for emotion in post_df.text2emotion]"
   ]
  },
  {
   "cell_type": "code",
   "execution_count": 63,
   "metadata": {},
   "outputs": [
    {
     "output_type": "stream",
     "name": "stdout",
     "text": [
      "I've been meaning to write for 4 or 5 days, but I'm not feeling all that inspirational or interesting right now ['interesting right', '5 days', 'write', 'meaning', 'inspirational', 'feeling', '4']\nI'd like to be as free and light as I was just 2 months ago, but I'm not quite there yet ['2 months ago', 'yet', 'quite', 'like', 'light', 'free']\nI'm working close to my normal schedule ['working close', 'normal schedule']\nI'm happy and extremely grateful to report I've been able to run 2-4 days per week for the last couple of weeks ['run 2', 'last couple', 'extremely grateful', 'weeks', 'report', 'happy', 'able']\nBut so far so good ['good', 'far']\n"
     ]
    }
   ],
   "source": [
    "for i, row in post_df[post_df.Happy >= 0.5].iterrows():\n",
    "    print(row.sentence, row.rake)"
   ]
  },
  {
   "cell_type": "code",
   "execution_count": 64,
   "metadata": {},
   "outputs": [
    {
     "output_type": "stream",
     "name": "stdout",
     "text": [
      "I'm in the process of resuming my normal exercise schedule and intensity as well ['normal exercise schedule', 'well', 'resuming', 'process', 'intensity']\nEvery time I run I feel an overwhelming sense of joy, gratitude and relief ['overwhelming sense', 'every time', 'run', 'relief', 'joy', 'gratitude', 'feel']\nUnfortunately, every run also brings a bit of fear, as I'm constantly waiting for one of my Achilles tendons to flare ['constantly waiting', 'achilles tendons', 'unfortunately', 'one', 'flare', 'fear', 'bit']\nThey say we really don't appreciate what we have until it's lost ['say', 'really', 'lost', 'appreciate']\nI can now verify the truth behind that statement ['truth behind', 'verify', 'statement']\nEven though I'm getting back to my routines, I still feel the sting from the losses of my mental wellness, high level of functioning, and running ['still feel', 'mental wellness', 'high level', 'getting back', 'even though', 'sting', 'running', 'routines', 'losses', 'functioning']\nInstead I must continue to diligently put one foot in front of the other, which is what I'm currently trying to do ['must continue', 'currently trying', 'instead', 'front']\nWhat was lost certainly hasn't returned as quickly as it disappeared ['lost certainly', 'returned', 'quickly', 'disappeared']\nFrom past experience I know the results will be realized, eventually, if I continue to do the work ['past experience', 'work', 'results', 'realized', 'know', 'eventually', 'continue']\n"
     ]
    }
   ],
   "source": [
    "for i, row in post_df[post_df.Sad >= 0.5].iterrows():\n",
    "    print(row.sentence, row.rake)"
   ]
  },
  {
   "source": [
    "# Spacy does not suit"
   ],
   "cell_type": "markdown",
   "metadata": {}
  },
  {
   "cell_type": "code",
   "execution_count": 36,
   "metadata": {},
   "outputs": [
    {
     "output_type": "stream",
     "name": "stdout",
     "text": [
      "I\nI\nI\n"
     ]
    }
   ],
   "source": [
    "import spacy\n",
    "nlp = spacy.load(\"en_core_web_sm\")\n",
    "doc = nlp(post_df.sentence.iloc[4])\n"
   ]
  },
  {
   "cell_type": "code",
   "execution_count": 37,
   "metadata": {},
   "outputs": [
    {
     "output_type": "stream",
     "name": "stdout",
     "text": [
      "Noun phrases: ['I', 'I', 'I']\nVerbs: ['like', 'be', 'be', 'be']\njust 2 months ago DATE\n"
     ]
    }
   ],
   "source": [
    "# Analyze syntax\n",
    "print(\"Noun phrases:\", [chunk.text for chunk in doc.noun_chunks])\n",
    "print(\"Verbs:\", [token.lemma_ for token in doc if token.pos_ == \"VERB\"])\n"
   ]
  },
  {
   "cell_type": "code",
   "execution_count": 45,
   "metadata": {},
   "outputs": [
    {
     "output_type": "stream",
     "name": "stdout",
     "text": [
      "Verbs: [['I', 'PRON'], [\"'d\", 'AUX'], ['like', 'VERB'], ['to', 'PART'], ['be', 'VERB'], ['as', 'ADV'], ['free', 'ADJ'], ['and', 'CCONJ'], ['light', 'NOUN'], ['as', 'ADP'], ['I', 'PRON'], ['be', 'VERB'], ['just', 'ADV'], ['2', 'NUM'], ['month', 'NOUN'], ['ago', 'ADV'], [',', 'PUNCT'], ['but', 'CCONJ'], ['I', 'PRON'], ['be', 'VERB'], ['not', 'PART'], ['quite', 'ADV'], ['there', 'ADV'], ['yet', 'ADV']]\n"
     ]
    }
   ],
   "source": [
    "print(\"Verbs:\", [[token.lemma_,token.pos_] for token in doc])"
   ]
  }
 ]
}